{
 "cells": [
  {
   "cell_type": "code",
   "execution_count": 1,
   "metadata": {},
   "outputs": [],
   "source": [
    "#import libraries\n",
    "import pandas as pd\n",
    "from pandas import DataFrame \n",
    "from pandas.plotting import lag_plot\n",
    "import matplotlib.pyplot as plt\n",
    "import matplotlib.pylab as pylab\n",
    "\n",
    "import itertools\n",
    "from statsmodels.tsa.arima_model import ARIMA\n",
    "from statsmodels.tsa.stattools import adfuller\n",
    "from statsmodels.graphics.tsaplots import plot_acf, plot_pacf\n",
    "import numpy as np\n",
    "\n",
    "import statsmodels.api as sm\n",
    "from statsmodels.tsa.stattools import acf\n",
    "from sklearn.metrics import mean_squared_error\n",
    "from sklearn.preprocessing import MinMaxScaler\n",
    "from sklearn import datasets\n",
    "from pylab import rcParams\n",
    "\n",
    "from numpy import log\n",
    "\n",
    "\n",
    "params = {'legend.fontsize': 'small',\n",
    "          'figure.figsize': (18, 10)}\n",
    "pylab.rcParams.update(params)\n",
    "\n",
    "import warnings \n",
    "warnings.filterwarnings('ignore')"
   ]
  },
  {
   "cell_type": "code",
   "execution_count": 2,
   "metadata": {},
   "outputs": [],
   "source": [
    "#retrieve data\n",
    "def GetData(fileName):\n",
    "    return pd.read_csv(fileName, header=0,usecols=['Date','Adj Close'], parse_dates=True, index_col='Date')"
   ]
  },
  {
   "cell_type": "code",
   "execution_count": 3,
   "metadata": {},
   "outputs": [
    {
     "data": {
      "text/html": [
       "<div>\n",
       "<style scoped>\n",
       "    .dataframe tbody tr th:only-of-type {\n",
       "        vertical-align: middle;\n",
       "    }\n",
       "\n",
       "    .dataframe tbody tr th {\n",
       "        vertical-align: top;\n",
       "    }\n",
       "\n",
       "    .dataframe thead th {\n",
       "        text-align: right;\n",
       "    }\n",
       "</style>\n",
       "<table border=\"1\" class=\"dataframe\">\n",
       "  <thead>\n",
       "    <tr style=\"text-align: right;\">\n",
       "      <th></th>\n",
       "      <th>Adj Close</th>\n",
       "    </tr>\n",
       "    <tr>\n",
       "      <th>Date</th>\n",
       "      <th></th>\n",
       "    </tr>\n",
       "  </thead>\n",
       "  <tbody>\n",
       "    <tr>\n",
       "      <th>2014-06-02</th>\n",
       "      <td>176.640778</td>\n",
       "    </tr>\n",
       "    <tr>\n",
       "      <th>2014-06-09</th>\n",
       "      <td>175.508820</td>\n",
       "    </tr>\n",
       "    <tr>\n",
       "      <th>2014-06-16</th>\n",
       "      <td>177.934479</td>\n",
       "    </tr>\n",
       "    <tr>\n",
       "      <th>2014-06-23</th>\n",
       "      <td>177.215759</td>\n",
       "    </tr>\n",
       "    <tr>\n",
       "      <th>2014-06-30</th>\n",
       "      <td>180.068802</td>\n",
       "    </tr>\n",
       "  </tbody>\n",
       "</table>\n",
       "</div>"
      ],
      "text/plain": [
       "             Adj Close\n",
       "Date                  \n",
       "2014-06-02  176.640778\n",
       "2014-06-09  175.508820\n",
       "2014-06-16  177.934479\n",
       "2014-06-23  177.215759\n",
       "2014-06-30  180.068802"
      ]
     },
     "execution_count": 3,
     "metadata": {},
     "output_type": "execute_result"
    }
   ],
   "source": [
    "data_ivv = GetData('Asset_Dataset/IVV.csv')\n",
    "data_ivv = data_ivv.dropna()\n",
    "data_ivv.head()\n"
   ]
  },
  {
   "cell_type": "code",
   "execution_count": 4,
   "metadata": {},
   "outputs": [],
   "source": [
    "data_ivv.columns = ['IVV adjusted close']"
   ]
  },
  {
   "cell_type": "code",
   "execution_count": 5,
   "metadata": {},
   "outputs": [
    {
     "data": {
      "text/html": [
       "<div>\n",
       "<style scoped>\n",
       "    .dataframe tbody tr th:only-of-type {\n",
       "        vertical-align: middle;\n",
       "    }\n",
       "\n",
       "    .dataframe tbody tr th {\n",
       "        vertical-align: top;\n",
       "    }\n",
       "\n",
       "    .dataframe thead th {\n",
       "        text-align: right;\n",
       "    }\n",
       "</style>\n",
       "<table border=\"1\" class=\"dataframe\">\n",
       "  <thead>\n",
       "    <tr style=\"text-align: right;\">\n",
       "      <th></th>\n",
       "      <th>IVV adjusted close</th>\n",
       "    </tr>\n",
       "    <tr>\n",
       "      <th>Date</th>\n",
       "      <th></th>\n",
       "    </tr>\n",
       "  </thead>\n",
       "  <tbody>\n",
       "    <tr>\n",
       "      <th>2014-06-02</th>\n",
       "      <td>176.640778</td>\n",
       "    </tr>\n",
       "    <tr>\n",
       "      <th>2014-06-09</th>\n",
       "      <td>175.508820</td>\n",
       "    </tr>\n",
       "    <tr>\n",
       "      <th>2014-06-16</th>\n",
       "      <td>177.934479</td>\n",
       "    </tr>\n",
       "    <tr>\n",
       "      <th>2014-06-23</th>\n",
       "      <td>177.215759</td>\n",
       "    </tr>\n",
       "    <tr>\n",
       "      <th>2014-06-30</th>\n",
       "      <td>180.068802</td>\n",
       "    </tr>\n",
       "  </tbody>\n",
       "</table>\n",
       "</div>"
      ],
      "text/plain": [
       "            IVV adjusted close\n",
       "Date                          \n",
       "2014-06-02          176.640778\n",
       "2014-06-09          175.508820\n",
       "2014-06-16          177.934479\n",
       "2014-06-23          177.215759\n",
       "2014-06-30          180.068802"
      ]
     },
     "execution_count": 5,
     "metadata": {},
     "output_type": "execute_result"
    }
   ],
   "source": [
    "data_ivv.head()"
   ]
  },
  {
   "cell_type": "code",
   "execution_count": 6,
   "metadata": {},
   "outputs": [
    {
     "data": {
      "text/html": [
       "<div>\n",
       "<style scoped>\n",
       "    .dataframe tbody tr th:only-of-type {\n",
       "        vertical-align: middle;\n",
       "    }\n",
       "\n",
       "    .dataframe tbody tr th {\n",
       "        vertical-align: top;\n",
       "    }\n",
       "\n",
       "    .dataframe thead th {\n",
       "        text-align: right;\n",
       "    }\n",
       "</style>\n",
       "<table border=\"1\" class=\"dataframe\">\n",
       "  <thead>\n",
       "    <tr style=\"text-align: right;\">\n",
       "      <th></th>\n",
       "      <th>IVV adjusted close</th>\n",
       "    </tr>\n",
       "  </thead>\n",
       "  <tbody>\n",
       "    <tr>\n",
       "      <th>count</th>\n",
       "      <td>261.000000</td>\n",
       "    </tr>\n",
       "    <tr>\n",
       "      <th>mean</th>\n",
       "      <td>223.273405</td>\n",
       "    </tr>\n",
       "    <tr>\n",
       "      <th>std</th>\n",
       "      <td>36.881681</td>\n",
       "    </tr>\n",
       "    <tr>\n",
       "      <th>min</th>\n",
       "      <td>172.080475</td>\n",
       "    </tr>\n",
       "    <tr>\n",
       "      <th>25%</th>\n",
       "      <td>191.549255</td>\n",
       "    </tr>\n",
       "    <tr>\n",
       "      <th>50%</th>\n",
       "      <td>210.913879</td>\n",
       "    </tr>\n",
       "    <tr>\n",
       "      <th>75%</th>\n",
       "      <td>260.477875</td>\n",
       "    </tr>\n",
       "    <tr>\n",
       "      <th>max</th>\n",
       "      <td>294.202942</td>\n",
       "    </tr>\n",
       "  </tbody>\n",
       "</table>\n",
       "</div>"
      ],
      "text/plain": [
       "       IVV adjusted close\n",
       "count          261.000000\n",
       "mean           223.273405\n",
       "std             36.881681\n",
       "min            172.080475\n",
       "25%            191.549255\n",
       "50%            210.913879\n",
       "75%            260.477875\n",
       "max            294.202942"
      ]
     },
     "execution_count": 6,
     "metadata": {},
     "output_type": "execute_result"
    }
   ],
   "source": [
    "#Statistical info on IVV\n",
    "data_ivv.describe()"
   ]
  },
  {
   "cell_type": "code",
   "execution_count": 7,
   "metadata": {},
   "outputs": [
    {
     "name": "stdout",
     "output_type": "stream",
     "text": [
      "[[0.03734205]\n",
      " [0.02807301]\n",
      " [0.04793552]\n",
      " [0.04205028]\n",
      " [0.06541243]\n",
      " [0.05351401]\n",
      " [0.0612001 ]\n",
      " [0.06171725]\n",
      " [0.02276902]\n",
      " [0.02816447]\n",
      " [0.04701016]\n",
      " [0.07243355]\n",
      " [0.08351969]\n",
      " [0.08699308]\n",
      " [0.07258162]\n",
      " [0.09024482]\n",
      " [0.06378675]\n",
      " [0.05977271]\n",
      " [0.01507256]\n",
      " [0.        ]\n",
      " [0.0587329 ]\n",
      " [0.09816093]\n",
      " [0.11130382]\n",
      " [0.11739222]\n",
      " [0.13565817]\n",
      " [0.13966795]\n",
      " [0.14605347]\n",
      " [0.09266616]\n",
      " [0.14286046]\n",
      " [0.1490978 ]\n",
      " [0.13402361]\n",
      " [0.12596243]\n",
      " [0.10618176]\n",
      " [0.13148595]\n",
      " [0.0902828 ]\n",
      " [0.13566566]\n",
      " [0.1679866 ]\n",
      " [0.17888445]\n",
      " [0.17492839]\n",
      " [0.15081856]\n",
      " [0.13805452]\n",
      " [0.17970584]\n",
      " [0.13678556]\n",
      " [0.14910555]\n",
      " [0.17663041]\n",
      " [0.16110554]\n",
      " [0.18900549]\n",
      " [0.18180533]\n",
      " [0.18863028]\n",
      " [0.19523021]\n",
      " [0.19935558]\n",
      " [0.18525535]\n",
      " [0.1748303 ]\n",
      " [0.1764806 ]\n",
      " [0.18728061]\n",
      " [0.17468036]\n",
      " [0.16399294]\n",
      " [0.16550116]\n",
      " [0.20313309]\n",
      " [0.16897006]\n",
      " [0.18789947]\n",
      " [0.16844228]\n",
      " [0.17937749]\n",
      " [0.09023707]\n",
      " [0.10283156]\n",
      " [0.05139879]\n",
      " [0.08352556]\n",
      " [0.08073501]\n",
      " [0.05283143]\n",
      " [0.07782163]\n",
      " [0.12658379]\n",
      " [0.14046162]\n",
      " [0.17329783]\n",
      " [0.17625557]\n",
      " [0.19286359]\n",
      " [0.13545662]\n",
      " [0.18816186]\n",
      " [0.18884456]\n",
      " [0.18952703]\n",
      " [0.12954127]\n",
      " [0.12446033]\n",
      " [0.15942013]\n",
      " [0.15345469]\n",
      " [0.06298159]\n",
      " [0.03175855]\n",
      " [0.05275196]\n",
      " [0.07664625]\n",
      " [0.03259857]\n",
      " [0.02267431]\n",
      " [0.06374514]\n",
      " [0.08832638]\n",
      " [0.12901575]\n",
      " [0.14703193]\n",
      " [0.16787277]\n",
      " [0.14962757]\n",
      " [0.18719389]\n",
      " [0.16884948]\n",
      " [0.19348746]\n",
      " [0.20300539]\n",
      " [0.18327919]\n",
      " [0.17829045]\n",
      " [0.1701543 ]\n",
      " [0.17621808]\n",
      " [0.21275335]\n",
      " [0.21313706]\n",
      " [0.21190921]\n",
      " [0.19249013]\n",
      " [0.15833435]\n",
      " [0.21918523]\n",
      " [0.24023948]\n",
      " [0.26468691]\n",
      " [0.27579241]\n",
      " [0.27502125]\n",
      " [0.28296485]\n",
      " [0.28535545]\n",
      " [0.28620372]\n",
      " [0.27648674]\n",
      " [0.2847386 ]\n",
      " [0.24548349]\n",
      " [0.25381281]\n",
      " [0.27486693]\n",
      " [0.26877404]\n",
      " [0.26713886]\n",
      " [0.25194623]\n",
      " [0.2586901 ]\n",
      " [0.24776077]\n",
      " [0.21613528]\n",
      " [0.27861084]\n",
      " [0.29457852]\n",
      " [0.31798739]\n",
      " [0.30325993]\n",
      " [0.35705407]\n",
      " [0.35612372]\n",
      " [0.35046551]\n",
      " [0.34487078]\n",
      " [0.37332512]\n",
      " [0.37137596]\n",
      " [0.36911517]\n",
      " [0.38704501]\n",
      " [0.39008546]\n",
      " [0.40661253]\n",
      " [0.4345211 ]\n",
      " [0.44831933]\n",
      " [0.46165001]\n",
      " [0.45525749]\n",
      " [0.45868778]\n",
      " [0.42594576]\n",
      " [0.44870779]\n",
      " [0.44408802]\n",
      " [0.42333888]\n",
      " [0.43978172]\n",
      " [0.466638  ]\n",
      " [0.47994881]\n",
      " [0.47454625]\n",
      " [0.46898713]\n",
      " [0.4953736 ]\n",
      " [0.51447844]\n",
      " [0.50876263]\n",
      " [0.5106417 ]\n",
      " [0.51588783]\n",
      " [0.49678287]\n",
      " [0.50783602]\n",
      " [0.53450026]\n",
      " [0.54590514]\n",
      " [0.54598398]\n",
      " [0.54991654]\n",
      " [0.52364577]\n",
      " [0.51208346]\n",
      " [0.52726385]\n",
      " [0.55392834]\n",
      " [0.54307347]\n",
      " [0.57414257]\n",
      " [0.57595143]\n",
      " [0.58035641]\n",
      " [0.61568995]\n",
      " [0.61980119]\n",
      " [0.63735231]\n",
      " [0.64177942]\n",
      " [0.64786707]\n",
      " [0.64494145]\n",
      " [0.64351868]\n",
      " [0.66296725]\n",
      " [0.69593466]\n",
      " [0.7041564 ]\n",
      " [0.72384224]\n",
      " [0.7212336 ]\n",
      " [0.72642463]\n",
      " [0.7778959 ]\n",
      " [0.81427535]\n",
      " [0.83476859]\n",
      " [0.88377766]\n",
      " [0.79537117]\n",
      " [0.68527947]\n",
      " [0.7759897 ]\n",
      " [0.78893717]\n",
      " [0.74509141]\n",
      " [0.82150351]\n",
      " [0.79354396]\n",
      " [0.65477762]\n",
      " [0.70829538]\n",
      " [0.67797533]\n",
      " [0.72106168]\n",
      " [0.73279091]\n",
      " [0.73239184]\n",
      " [0.72784403]\n",
      " [0.78090411]\n",
      " [0.77085065]\n",
      " [0.77699428]\n",
      " [0.78936149]\n",
      " [0.82534662]\n",
      " [0.8275007 ]\n",
      " [0.8081922 ]\n",
      " [0.76957395]\n",
      " [0.81315183]\n",
      " [0.84698113]\n",
      " [0.84850422]\n",
      " [0.86245276]\n",
      " [0.88000852]\n",
      " [0.87616066]\n",
      " [0.89195317]\n",
      " [0.91183392]\n",
      " [0.93524192]\n",
      " [0.91247539]\n",
      " [0.93900981]\n",
      " [0.95864992]\n",
      " [0.93756667]\n",
      " [0.92525443]\n",
      " [0.82944312]\n",
      " [0.83137529]\n",
      " [0.74144147]\n",
      " [0.79611061]\n",
      " [0.84498223]\n",
      " [0.81100525]\n",
      " [0.72702938]\n",
      " [0.82920172]\n",
      " [0.72936438]\n",
      " [0.70359989]\n",
      " [0.54217011]\n",
      " [0.60946135]\n",
      " [0.65040673]\n",
      " [0.70155751]\n",
      " [0.76397634]\n",
      " [0.75935557]\n",
      " [0.79340202]\n",
      " [0.79688777]\n",
      " [0.85387518]\n",
      " [0.86733168]\n",
      " [0.87941002]\n",
      " [0.82988043]\n",
      " [0.89537945]\n",
      " [0.87008775]\n",
      " [0.90681406]\n",
      " [0.95475008]\n",
      " [0.96866689]\n",
      " [0.96736469]\n",
      " [0.99560512]\n",
      " [1.        ]\n",
      " [0.95108765]\n",
      " [0.9339967 ]\n",
      " [0.90844187]\n",
      " [0.84772831]]\n",
      "Stored 'scaled_ivv' (ndarray)\n"
     ]
    }
   ],
   "source": [
    "#scale IVV data\n",
    "\n",
    "scaler = MinMaxScaler()\n",
    "scaled_ivv = scaler.fit_transform(data_ivv)\n",
    "print(scaled_ivv)\n",
    "%store scaled_ivv"
   ]
  },
  {
   "cell_type": "code",
   "execution_count": 8,
   "metadata": {},
   "outputs": [],
   "source": [
    "#Change datasets to DataFrame\n",
    "data_ivv_df = pd.DataFrame(data_ivv)\n",
    "scaled_ivv_df = pd.DataFrame(scaled_ivv)"
   ]
  },
  {
   "cell_type": "code",
   "execution_count": 28,
   "metadata": {},
   "outputs": [
    {
     "data": {
      "text/plain": [
       "DatetimeIndex(['2014-06-02', '2014-06-09', '2014-06-16', '2014-06-23',\n",
       "               '2014-06-30', '2014-07-07', '2014-07-14', '2014-07-21',\n",
       "               '2014-07-28', '2014-08-04',\n",
       "               ...\n",
       "               '2019-03-25', '2019-04-01', '2019-04-08', '2019-04-15',\n",
       "               '2019-04-22', '2019-04-29', '2019-05-06', '2019-05-13',\n",
       "               '2019-05-20', '2019-05-27'],\n",
       "              dtype='datetime64[ns]', name='Date', length=261, freq=None)"
      ]
     },
     "execution_count": 28,
     "metadata": {},
     "output_type": "execute_result"
    }
   ],
   "source": [
    "data_ivv_df.index"
   ]
  },
  {
   "cell_type": "code",
   "execution_count": 9,
   "metadata": {},
   "outputs": [
    {
     "data": {
      "text/plain": [
       "Text(0.5, 1.0, 'IVV Autocorrelation Plot')"
      ]
     },
     "execution_count": 9,
     "metadata": {},
     "output_type": "execute_result"
    },
    {
     "data": {
      "image/png": "[encoded data removed]",
      "text/plain": [
       "<Figure size 432x288 with 1 Axes>"
      ]
     },
     "metadata": {
      "needs_background": "light"
     },
     "output_type": "display_data"
    }
   ],
   "source": [
    "#analyze autocorr plot to see if ARIMA is necessary\n",
    "#https://towardsdatascience.com/stock-market-analysis-using-arima-8731ded2447a\n",
    "\n",
    "plt.figure()\n",
    "lag_plot(data_ivv_df, lag=2)\n",
    "plt.title('IVV Autocorrelation Plot')"
   ]
  },
  {
   "cell_type": "code",
   "execution_count": 1,
   "metadata": {},
   "outputs": [
    {
     "ename": "NameError",
     "evalue": "name 'data_ivv_df' is not defined",
     "output_type": "error",
     "traceback": [
      "\u001b[0;31m---------------------------------------------------------------------------\u001b[0m",
      "\u001b[0;31mNameError\u001b[0m                                 Traceback (most recent call last)",
      "\u001b[0;32m<ipython-input-1-a800f521a208>\u001b[0m in \u001b[0;36m<module>\u001b[0;34m\u001b[0m\n\u001b[1;32m      1\u001b[0m \u001b[0;31m#Divide data into training and testing\u001b[0m\u001b[0;34m\u001b[0m\u001b[0;34m\u001b[0m\u001b[0;34m\u001b[0m\u001b[0m\n\u001b[0;32m----> 2\u001b[0;31m \u001b[0mtrain_data\u001b[0m\u001b[0;34m,\u001b[0m \u001b[0mtest_data\u001b[0m \u001b[0;34m=\u001b[0m \u001b[0mdata_ivv_df\u001b[0m\u001b[0;34m[\u001b[0m\u001b[0;36m0\u001b[0m\u001b[0;34m:\u001b[0m\u001b[0mint\u001b[0m\u001b[0;34m(\u001b[0m\u001b[0mlen\u001b[0m\u001b[0;34m(\u001b[0m\u001b[0mdata_ivv_df\u001b[0m\u001b[0;34m)\u001b[0m\u001b[0;34m*\u001b[0m\u001b[0;36m0.8\u001b[0m\u001b[0;34m)\u001b[0m\u001b[0;34m]\u001b[0m\u001b[0;34m,\u001b[0m \u001b[0mdata_ivv_df\u001b[0m\u001b[0;34m[\u001b[0m\u001b[0mint\u001b[0m\u001b[0;34m(\u001b[0m\u001b[0mlen\u001b[0m\u001b[0;34m(\u001b[0m\u001b[0mdata_ivv_df\u001b[0m\u001b[0;34m)\u001b[0m\u001b[0;34m*\u001b[0m\u001b[0;36m0.8\u001b[0m\u001b[0;34m)\u001b[0m\u001b[0;34m:\u001b[0m\u001b[0;34m]\u001b[0m\u001b[0;34m\u001b[0m\u001b[0;34m\u001b[0m\u001b[0m\n\u001b[0m\u001b[1;32m      3\u001b[0m \u001b[0;31m#plt.figure(figsize=(12,7))\u001b[0m\u001b[0;34m\u001b[0m\u001b[0;34m\u001b[0m\u001b[0;34m\u001b[0m\u001b[0m\n\u001b[1;32m      4\u001b[0m \u001b[0mplt\u001b[0m\u001b[0;34m.\u001b[0m\u001b[0mtitle\u001b[0m\u001b[0;34m(\u001b[0m\u001b[0;34m'IVV Prices'\u001b[0m\u001b[0;34m)\u001b[0m\u001b[0;34m\u001b[0m\u001b[0;34m\u001b[0m\u001b[0m\n\u001b[1;32m      5\u001b[0m \u001b[0mplt\u001b[0m\u001b[0;34m.\u001b[0m\u001b[0mxlabel\u001b[0m\u001b[0;34m(\u001b[0m\u001b[0;34m'Dates'\u001b[0m\u001b[0;34m)\u001b[0m\u001b[0;34m\u001b[0m\u001b[0;34m\u001b[0m\u001b[0m\n",
      "\u001b[0;31mNameError\u001b[0m: name 'data_ivv_df' is not defined"
     ]
    }
   ],
   "source": [
    "#Divide data into training and testing\n",
    "train_data, test_data = data_ivv_df[0:int(len(data_ivv_df)*0.8)], data_ivv_df[int(len(data_ivv_df)*0.8):]\n",
    "#plt.figure(figsize=(12,7))\n",
    "plt.title('IVV Prices')\n",
    "plt.xlabel('Dates')\n",
    "plt.ylabel('Price USD')\n",
    "plt.plot(train_data['IVV adjusted close'], 'blue', label='Training Data')\n",
    "plt.plot(test_data['IVV adjusted close'], 'green', label='Testing Data')\n",
    "#plt.xticks(np.arange(0,7982, 1300), data_ivv_df['Date'][0:7982:1300])\n",
    "plt.legend()"
   ]
  },
  {
   "cell_type": "code",
   "execution_count": 11,
   "metadata": {},
   "outputs": [
    {
     "data": {
      "text/plain": [
       "[<matplotlib.lines.Line2D at 0x1c22d36160>]"
      ]
     },
     "execution_count": 11,
     "metadata": {},
     "output_type": "execute_result"
    },
    {
     "data": {
      "image/png": "[encoded data removed]",
      "text/plain": [
       "<Figure size 432x288 with 1 Axes>"
      ]
     },
     "metadata": {
      "needs_background": "light"
     },
     "output_type": "display_data"
    }
   ],
   "source": [
    "plt.plot(data_ivv_df)"
   ]
  },
  {
   "cell_type": "code",
   "execution_count": 12,
   "metadata": {},
   "outputs": [
    {
     "name": "stdout",
     "output_type": "stream",
     "text": [
      "<class 'list'>\n",
      "Testing Mean Squared Error: 37.702\n"
     ]
    }
   ],
   "source": [
    "train_ar = train_data['IVV adjusted close'].values\n",
    "test_ar = test_data['IVV adjusted close'].values\n",
    "history = [x for x in train_ar]\n",
    "print(type(history))\n",
    "predictions = list()\n",
    "for t in range(len(test_ar)):\n",
    "    model = ARIMA(history, order=(5,1,0))\n",
    "    model_fit = model.fit(disp=0)\n",
    "    output = model_fit.forecast()\n",
    "    yhat = output[0]\n",
    "    predictions.append(yhat)\n",
    "    obs = test_ar[t]\n",
    "    history.append(obs)\n",
    "error = mean_squared_error(test_ar, predictions)\n",
    "print('Testing Mean Squared Error: %.3f' % error)"
   ]
  },
  {
   "cell_type": "code",
   "execution_count": 13,
   "metadata": {},
   "outputs": [
    {
     "data": {
      "text/plain": [
       "<matplotlib.legend.Legend at 0x1c22eb2390>"
      ]
     },
     "execution_count": 13,
     "metadata": {},
     "output_type": "execute_result"
    },
    {
     "data": {
      "image/png": "[encoded data removed]",
      "text/plain": [
       "<Figure size 432x288 with 1 Axes>"
      ]
     },
     "metadata": {
      "needs_background": "light"
     },
     "output_type": "display_data"
    }
   ],
   "source": [
    "plt.plot(data_ivv_df['IVV adjusted close'], 'green', color='blue', label='Training Data')\n",
    "plt.plot(test_data.index, predictions, color='green', marker='.', linestyle='dashed', \n",
    "         label='Predicted Price')\n",
    "plt.plot(test_data.index, test_data['IVV adjusted close'], color='red', label='Actual Price')\n",
    "plt.title('IVV Prediction')\n",
    "plt.xlabel('Dates')\n",
    "plt.ylabel('Price USD')\n",
    "plt.legend()"
   ]
  },
  {
   "cell_type": "code",
   "execution_count": 14,
   "metadata": {
    "scrolled": true
   },
   "outputs": [
    {
     "data": {
      "text/plain": [
       "<matplotlib.axes._subplots.AxesSubplot at 0x1c2330e780>"
      ]
     },
     "execution_count": 14,
     "metadata": {},
     "output_type": "execute_result"
    },
    {
     "data": {
      "image/png": "[encoded data removed]",
      "text/plain": [
       "<Figure size 432x288 with 1 Axes>"
      ]
     },
     "metadata": {
      "needs_background": "light"
     },
     "output_type": "display_data"
    }
   ],
   "source": [
    "#Plot\n",
    "data_ivv.plot()"
   ]
  },
  {
   "cell_type": "code",
   "execution_count": 15,
   "metadata": {},
   "outputs": [
    {
     "data": {
      "text/html": [
       "<div>\n",
       "<style scoped>\n",
       "    .dataframe tbody tr th:only-of-type {\n",
       "        vertical-align: middle;\n",
       "    }\n",
       "\n",
       "    .dataframe tbody tr th {\n",
       "        vertical-align: top;\n",
       "    }\n",
       "\n",
       "    .dataframe thead th {\n",
       "        text-align: right;\n",
       "    }\n",
       "</style>\n",
       "<table border=\"1\" class=\"dataframe\">\n",
       "  <thead>\n",
       "    <tr style=\"text-align: right;\">\n",
       "      <th></th>\n",
       "      <th>0</th>\n",
       "    </tr>\n",
       "  </thead>\n",
       "  <tbody>\n",
       "    <tr>\n",
       "      <th>0</th>\n",
       "      <td>0.037342</td>\n",
       "    </tr>\n",
       "    <tr>\n",
       "      <th>1</th>\n",
       "      <td>0.028073</td>\n",
       "    </tr>\n",
       "    <tr>\n",
       "      <th>2</th>\n",
       "      <td>0.047936</td>\n",
       "    </tr>\n",
       "    <tr>\n",
       "      <th>3</th>\n",
       "      <td>0.042050</td>\n",
       "    </tr>\n",
       "    <tr>\n",
       "      <th>4</th>\n",
       "      <td>0.065412</td>\n",
       "    </tr>\n",
       "  </tbody>\n",
       "</table>\n",
       "</div>"
      ],
      "text/plain": [
       "          0\n",
       "0  0.037342\n",
       "1  0.028073\n",
       "2  0.047936\n",
       "3  0.042050\n",
       "4  0.065412"
      ]
     },
     "execution_count": 15,
     "metadata": {},
     "output_type": "execute_result"
    }
   ],
   "source": [
    "scaled_ivv_df.head()"
   ]
  },
  {
   "cell_type": "code",
   "execution_count": 16,
   "metadata": {
    "scrolled": true
   },
   "outputs": [],
   "source": [
    "#data_ivv_df=sm.add_constant(data_ivv_df)\n",
    "#data_ivv_df.head()"
   ]
  },
  {
   "cell_type": "code",
   "execution_count": 17,
   "metadata": {},
   "outputs": [],
   "source": [
    "#Perform Dickey-Fuller test:\n",
    "\n",
    "def stationarity_test(timeseries):\n",
    "    print ('Results of Dickey-Fuller Test:')\n",
    "    dftest = adfuller(timeseries, autolag='AIC')\n",
    "    dfoutput = pd.Series(dftest[0:4], index=['Test Statistic','p-value','#Lags Used','Number of Observations Used'])\n",
    "    for key,value in dftest[4].items():\n",
    "        dfoutput['Critical Value (%s)'%key] = value\n",
    "    print (dfoutput)"
   ]
  },
  {
   "cell_type": "code",
   "execution_count": 18,
   "metadata": {},
   "outputs": [
    {
     "name": "stdout",
     "output_type": "stream",
     "text": [
      "Results of Dickey-Fuller Test:\n",
      "Test Statistic                  -0.693766\n",
      "p-value                          0.848358\n",
      "#Lags Used                       1.000000\n",
      "Number of Observations Used    259.000000\n",
      "Critical Value (1%)             -3.455853\n",
      "Critical Value (5%)             -2.872765\n",
      "Critical Value (10%)            -2.572752\n",
      "dtype: float64\n"
     ]
    }
   ],
   "source": [
    "stationarity_test(data_ivv_df['IVV adjusted close'])\n",
    "\n",
    "#p-value = 0.848 > 0.05 \n",
    "#fail to reject Ho\n",
    "#Time series is non-stationary"
   ]
  },
  {
   "cell_type": "code",
   "execution_count": 19,
   "metadata": {},
   "outputs": [
    {
     "data": {
      "image/png": "[encoded data removed]",
      "text/plain": [
       "<Figure size 432x288 with 4 Axes>"
      ]
     },
     "metadata": {
      "needs_background": "light"
     },
     "output_type": "display_data"
    },
    {
     "data": {
      "text/plain": [
       "<Figure size 1440x720 with 0 Axes>"
      ]
     },
     "metadata": {},
     "output_type": "display_data"
    }
   ],
   "source": [
    "#Seaconality & decompo\n",
    "decomposition = sm.tsa.seasonal_decompose(data_ivv_df)\n",
    "fig = decomposition.plot()\n",
    "plt.figure(figsize=(20, 10))\n",
    "plt.show()"
   ]
  },
  {
   "cell_type": "code",
   "execution_count": 20,
   "metadata": {},
   "outputs": [
    {
     "name": "stdout",
     "output_type": "stream",
     "text": [
      "Results of Dickey-Fuller Test:\n",
      "Test Statistic                  -5.122803\n",
      "p-value                          0.000013\n",
      "#Lags Used                       6.000000\n",
      "Number of Observations Used    202.000000\n",
      "Critical Value (1%)             -3.463144\n",
      "Critical Value (5%)             -2.875957\n",
      "Critical Value (10%)            -2.574455\n",
      "dtype: float64\n"
     ]
    }
   ],
   "source": [
    "#2 major contributor to non-stationarity 1) trend 2) seasonality\n",
    "#check residual white noise, decompose into 52 weeks\n",
    "from statsmodels.tsa.seasonal import seasonal_decompose\n",
    "\n",
    "ts_log = np.log(data_ivv_df['IVV adjusted close'])\n",
    "\n",
    "decomposition = seasonal_decompose(ts_log, freq = 52)\n",
    "\n",
    "trend = decomposition.trend\n",
    "seasonal = decomposition.seasonal\n",
    "residual = decomposition.resid\n",
    "\n",
    "\n",
    "ts_decompose = residual\n",
    "ts_decompose.dropna(inplace=True)\n",
    "stationarity_test(ts_decompose)\n",
    "\n",
    "\n",
    "#Reject Ho, data very close to stationary, use d=1"
   ]
  },
  {
   "cell_type": "code",
   "execution_count": 21,
   "metadata": {},
   "outputs": [
    {
     "data": {
      "image/png": "[encoded data removed]",
      "text/plain": [
       "<Figure size 432x288 with 1 Axes>"
      ]
     },
     "metadata": {
      "needs_background": "light"
     },
     "output_type": "display_data"
    }
   ],
   "source": [
    "##ACF\n",
    "plot_acf(data_ivv_df['IVV adjusted close'])\n",
    "plt.show()"
   ]
  },
  {
   "cell_type": "code",
   "execution_count": 22,
   "metadata": {},
   "outputs": [
    {
     "data": {
      "image/png": "[encoded data removed]",
      "text/plain": [
       "<Figure size 432x288 with 1 Axes>"
      ]
     },
     "metadata": {
      "needs_background": "light"
     },
     "output_type": "display_data"
    }
   ],
   "source": [
    "plot_acf(data_ivv_df['IVV adjusted close'], lags =5)\n",
    "plt.show()"
   ]
  },
  {
   "cell_type": "code",
   "execution_count": 23,
   "metadata": {},
   "outputs": [
    {
     "data": {
      "image/png": "[encoded data removed]",
      "text/plain": [
       "<Figure size 432x288 with 1 Axes>"
      ]
     },
     "metadata": {
      "needs_background": "light"
     },
     "output_type": "display_data"
    }
   ],
   "source": [
    "##PCAF\n",
    "plot_pacf(data_ivv_df['IVV adjusted close'],lags=95)\n",
    "plt.show()\n",
    "\n",
    "#p=60, crosses the confidence interval for the first time"
   ]
  },
  {
   "cell_type": "code",
   "execution_count": 24,
   "metadata": {},
   "outputs": [],
   "source": [
    "###ARIMA(p,d,q)###"
   ]
  },
  {
   "cell_type": "code",
   "execution_count": 25,
   "metadata": {},
   "outputs": [],
   "source": [
    "model = ARIMA(data_ivv_df['IVV adjusted close'], order=(5,0,3))  \n",
    "ARIMA_results = model.fit(disp=-1)"
   ]
  },
  {
   "cell_type": "code",
   "execution_count": 26,
   "metadata": {},
   "outputs": [],
   "source": [
    "ARIMA_prediction = ARIMA_results.predict(data_ivv_df.index[260])"
   ]
  },
  {
   "cell_type": "code",
   "execution_count": 27,
   "metadata": {},
   "outputs": [
    {
     "ename": "KeyError",
     "evalue": "'IVV '",
     "output_type": "error",
     "traceback": [
      "\u001b[0;31m---------------------------------------------------------------------------\u001b[0m",
      "\u001b[0;31mKeyError\u001b[0m                                  Traceback (most recent call last)",
      "\u001b[0;32m//anaconda3/lib/python3.7/site-packages/pandas/core/indexes/base.py\u001b[0m in \u001b[0;36mget_loc\u001b[0;34m(self, key, method, tolerance)\u001b[0m\n\u001b[1;32m   2656\u001b[0m             \u001b[0;32mtry\u001b[0m\u001b[0;34m:\u001b[0m\u001b[0;34m\u001b[0m\u001b[0;34m\u001b[0m\u001b[0m\n\u001b[0;32m-> 2657\u001b[0;31m                 \u001b[0;32mreturn\u001b[0m \u001b[0mself\u001b[0m\u001b[0;34m.\u001b[0m\u001b[0m_engine\u001b[0m\u001b[0;34m.\u001b[0m\u001b[0mget_loc\u001b[0m\u001b[0;34m(\u001b[0m\u001b[0mkey\u001b[0m\u001b[0;34m)\u001b[0m\u001b[0;34m\u001b[0m\u001b[0;34m\u001b[0m\u001b[0m\n\u001b[0m\u001b[1;32m   2658\u001b[0m             \u001b[0;32mexcept\u001b[0m \u001b[0mKeyError\u001b[0m\u001b[0;34m:\u001b[0m\u001b[0;34m\u001b[0m\u001b[0;34m\u001b[0m\u001b[0m\n",
      "\u001b[0;32mpandas/_libs/index.pyx\u001b[0m in \u001b[0;36mpandas._libs.index.IndexEngine.get_loc\u001b[0;34m()\u001b[0m\n",
      "\u001b[0;32mpandas/_libs/index.pyx\u001b[0m in \u001b[0;36mpandas._libs.index.IndexEngine.get_loc\u001b[0;34m()\u001b[0m\n",
      "\u001b[0;32mpandas/_libs/hashtable_class_helper.pxi\u001b[0m in \u001b[0;36mpandas._libs.hashtable.PyObjectHashTable.get_item\u001b[0;34m()\u001b[0m\n",
      "\u001b[0;32mpandas/_libs/hashtable_class_helper.pxi\u001b[0m in \u001b[0;36mpandas._libs.hashtable.PyObjectHashTable.get_item\u001b[0;34m()\u001b[0m\n",
      "\u001b[0;31mKeyError\u001b[0m: 'IVV '",
      "\nDuring handling of the above exception, another exception occurred:\n",
      "\u001b[0;31mKeyError\u001b[0m                                  Traceback (most recent call last)",
      "\u001b[0;32m<ipython-input-27-0b04151a89a8>\u001b[0m in \u001b[0;36m<module>\u001b[0;34m\u001b[0m\n\u001b[0;32m----> 1\u001b[0;31m \u001b[0mplt\u001b[0m\u001b[0;34m.\u001b[0m\u001b[0mplot\u001b[0m\u001b[0;34m(\u001b[0m\u001b[0mdata_ivv_df\u001b[0m\u001b[0;34m[\u001b[0m\u001b[0;34m'IVV '\u001b[0m\u001b[0;34m]\u001b[0m\u001b[0;34m,\u001b[0m \u001b[0mlabel\u001b[0m\u001b[0;34m=\u001b[0m\u001b[0;34m'Original'\u001b[0m\u001b[0;34m)\u001b[0m\u001b[0;34m\u001b[0m\u001b[0;34m\u001b[0m\u001b[0m\n\u001b[0m\u001b[1;32m      2\u001b[0m \u001b[0mplt\u001b[0m\u001b[0;34m.\u001b[0m\u001b[0mplot\u001b[0m\u001b[0;34m(\u001b[0m\u001b[0mARIMA_prediction\u001b[0m\u001b[0;34m,\u001b[0m \u001b[0mlabel\u001b[0m\u001b[0;34m=\u001b[0m\u001b[0;34m'Prediction'\u001b[0m\u001b[0;34m)\u001b[0m\u001b[0;34m\u001b[0m\u001b[0;34m\u001b[0m\u001b[0m\n\u001b[1;32m      3\u001b[0m \u001b[0mplt\u001b[0m\u001b[0;34m.\u001b[0m\u001b[0mlegend\u001b[0m\u001b[0;34m(\u001b[0m\u001b[0mloc\u001b[0m\u001b[0;34m=\u001b[0m\u001b[0;36m2\u001b[0m\u001b[0;34m)\u001b[0m\u001b[0;34m\u001b[0m\u001b[0;34m\u001b[0m\u001b[0m\n\u001b[1;32m      4\u001b[0m \u001b[0mplt\u001b[0m\u001b[0;34m.\u001b[0m\u001b[0mtitle\u001b[0m\u001b[0;34m(\u001b[0m\u001b[0;34m'RMSE: %.4f'\u001b[0m\u001b[0;34m%\u001b[0m \u001b[0mnp\u001b[0m\u001b[0;34m.\u001b[0m\u001b[0msqrt\u001b[0m\u001b[0;34m(\u001b[0m\u001b[0msum\u001b[0m\u001b[0;34m(\u001b[0m\u001b[0;34m(\u001b[0m\u001b[0mARIMA_prediction\u001b[0m\u001b[0;34m-\u001b[0m\u001b[0mdata_ivv_df\u001b[0m\u001b[0;34m[\u001b[0m\u001b[0;36m260\u001b[0m\u001b[0;34m:\u001b[0m\u001b[0;34m]\u001b[0m\u001b[0;34m)\u001b[0m\u001b[0;34m**\u001b[0m\u001b[0;36m2\u001b[0m\u001b[0;34m)\u001b[0m\u001b[0;34m/\u001b[0m\u001b[0mlen\u001b[0m\u001b[0;34m(\u001b[0m\u001b[0mdata_ivv_df\u001b[0m\u001b[0;34m[\u001b[0m\u001b[0;36m260\u001b[0m\u001b[0;34m:\u001b[0m\u001b[0;34m]\u001b[0m\u001b[0;34m)\u001b[0m\u001b[0;34m)\u001b[0m\u001b[0;34m)\u001b[0m\u001b[0;34m\u001b[0m\u001b[0;34m\u001b[0m\u001b[0m\n",
      "\u001b[0;32m//anaconda3/lib/python3.7/site-packages/pandas/core/frame.py\u001b[0m in \u001b[0;36m__getitem__\u001b[0;34m(self, key)\u001b[0m\n\u001b[1;32m   2925\u001b[0m             \u001b[0;32mif\u001b[0m \u001b[0mself\u001b[0m\u001b[0;34m.\u001b[0m\u001b[0mcolumns\u001b[0m\u001b[0;34m.\u001b[0m\u001b[0mnlevels\u001b[0m \u001b[0;34m>\u001b[0m \u001b[0;36m1\u001b[0m\u001b[0;34m:\u001b[0m\u001b[0;34m\u001b[0m\u001b[0;34m\u001b[0m\u001b[0m\n\u001b[1;32m   2926\u001b[0m                 \u001b[0;32mreturn\u001b[0m \u001b[0mself\u001b[0m\u001b[0;34m.\u001b[0m\u001b[0m_getitem_multilevel\u001b[0m\u001b[0;34m(\u001b[0m\u001b[0mkey\u001b[0m\u001b[0;34m)\u001b[0m\u001b[0;34m\u001b[0m\u001b[0;34m\u001b[0m\u001b[0m\n\u001b[0;32m-> 2927\u001b[0;31m             \u001b[0mindexer\u001b[0m \u001b[0;34m=\u001b[0m \u001b[0mself\u001b[0m\u001b[0;34m.\u001b[0m\u001b[0mcolumns\u001b[0m\u001b[0;34m.\u001b[0m\u001b[0mget_loc\u001b[0m\u001b[0;34m(\u001b[0m\u001b[0mkey\u001b[0m\u001b[0;34m)\u001b[0m\u001b[0;34m\u001b[0m\u001b[0;34m\u001b[0m\u001b[0m\n\u001b[0m\u001b[1;32m   2928\u001b[0m             \u001b[0;32mif\u001b[0m \u001b[0mis_integer\u001b[0m\u001b[0;34m(\u001b[0m\u001b[0mindexer\u001b[0m\u001b[0;34m)\u001b[0m\u001b[0;34m:\u001b[0m\u001b[0;34m\u001b[0m\u001b[0;34m\u001b[0m\u001b[0m\n\u001b[1;32m   2929\u001b[0m                 \u001b[0mindexer\u001b[0m \u001b[0;34m=\u001b[0m \u001b[0;34m[\u001b[0m\u001b[0mindexer\u001b[0m\u001b[0;34m]\u001b[0m\u001b[0;34m\u001b[0m\u001b[0;34m\u001b[0m\u001b[0m\n",
      "\u001b[0;32m//anaconda3/lib/python3.7/site-packages/pandas/core/indexes/base.py\u001b[0m in \u001b[0;36mget_loc\u001b[0;34m(self, key, method, tolerance)\u001b[0m\n\u001b[1;32m   2657\u001b[0m                 \u001b[0;32mreturn\u001b[0m \u001b[0mself\u001b[0m\u001b[0;34m.\u001b[0m\u001b[0m_engine\u001b[0m\u001b[0;34m.\u001b[0m\u001b[0mget_loc\u001b[0m\u001b[0;34m(\u001b[0m\u001b[0mkey\u001b[0m\u001b[0;34m)\u001b[0m\u001b[0;34m\u001b[0m\u001b[0;34m\u001b[0m\u001b[0m\n\u001b[1;32m   2658\u001b[0m             \u001b[0;32mexcept\u001b[0m \u001b[0mKeyError\u001b[0m\u001b[0;34m:\u001b[0m\u001b[0;34m\u001b[0m\u001b[0;34m\u001b[0m\u001b[0m\n\u001b[0;32m-> 2659\u001b[0;31m                 \u001b[0;32mreturn\u001b[0m \u001b[0mself\u001b[0m\u001b[0;34m.\u001b[0m\u001b[0m_engine\u001b[0m\u001b[0;34m.\u001b[0m\u001b[0mget_loc\u001b[0m\u001b[0;34m(\u001b[0m\u001b[0mself\u001b[0m\u001b[0;34m.\u001b[0m\u001b[0m_maybe_cast_indexer\u001b[0m\u001b[0;34m(\u001b[0m\u001b[0mkey\u001b[0m\u001b[0;34m)\u001b[0m\u001b[0;34m)\u001b[0m\u001b[0;34m\u001b[0m\u001b[0;34m\u001b[0m\u001b[0m\n\u001b[0m\u001b[1;32m   2660\u001b[0m         \u001b[0mindexer\u001b[0m \u001b[0;34m=\u001b[0m \u001b[0mself\u001b[0m\u001b[0;34m.\u001b[0m\u001b[0mget_indexer\u001b[0m\u001b[0;34m(\u001b[0m\u001b[0;34m[\u001b[0m\u001b[0mkey\u001b[0m\u001b[0;34m]\u001b[0m\u001b[0;34m,\u001b[0m \u001b[0mmethod\u001b[0m\u001b[0;34m=\u001b[0m\u001b[0mmethod\u001b[0m\u001b[0;34m,\u001b[0m \u001b[0mtolerance\u001b[0m\u001b[0;34m=\u001b[0m\u001b[0mtolerance\u001b[0m\u001b[0;34m)\u001b[0m\u001b[0;34m\u001b[0m\u001b[0;34m\u001b[0m\u001b[0m\n\u001b[1;32m   2661\u001b[0m         \u001b[0;32mif\u001b[0m \u001b[0mindexer\u001b[0m\u001b[0;34m.\u001b[0m\u001b[0mndim\u001b[0m \u001b[0;34m>\u001b[0m \u001b[0;36m1\u001b[0m \u001b[0;32mor\u001b[0m \u001b[0mindexer\u001b[0m\u001b[0;34m.\u001b[0m\u001b[0msize\u001b[0m \u001b[0;34m>\u001b[0m \u001b[0;36m1\u001b[0m\u001b[0;34m:\u001b[0m\u001b[0;34m\u001b[0m\u001b[0;34m\u001b[0m\u001b[0m\n",
      "\u001b[0;32mpandas/_libs/index.pyx\u001b[0m in \u001b[0;36mpandas._libs.index.IndexEngine.get_loc\u001b[0;34m()\u001b[0m\n",
      "\u001b[0;32mpandas/_libs/index.pyx\u001b[0m in \u001b[0;36mpandas._libs.index.IndexEngine.get_loc\u001b[0;34m()\u001b[0m\n",
      "\u001b[0;32mpandas/_libs/hashtable_class_helper.pxi\u001b[0m in \u001b[0;36mpandas._libs.hashtable.PyObjectHashTable.get_item\u001b[0;34m()\u001b[0m\n",
      "\u001b[0;32mpandas/_libs/hashtable_class_helper.pxi\u001b[0m in \u001b[0;36mpandas._libs.hashtable.PyObjectHashTable.get_item\u001b[0;34m()\u001b[0m\n",
      "\u001b[0;31mKeyError\u001b[0m: 'IVV '"
     ]
    }
   ],
   "source": [
    "plt.plot(data_ivv_df['IVV '], label='Original')\n",
    "plt.plot(ARIMA_prediction, label='Prediction')\n",
    "plt.legend(loc=2)\n",
    "plt.title('RMSE: %.4f'% np.sqrt(sum((ARIMA_prediction-data_ivv_df[260:])**2)/len(data_ivv_df[260:])))"
   ]
  },
  {
   "cell_type": "code",
   "execution_count": null,
   "metadata": {},
   "outputs": [],
   "source": []
  }
 ],
 "metadata": {
  "kernelspec": {
   "display_name": "Python 3",
   "language": "python",
   "name": "python3"
  },
  "language_info": {
   "codemirror_mode": {
    "name": "ipython",
    "version": 3
   },
   "file_extension": ".py",
   "mimetype": "text/x-python",
   "name": "python",
   "nbconvert_exporter": "python",
   "pygments_lexer": "ipython3",
   "version": "3.7.3"
  }
 },
 "nbformat": 4,
 "nbformat_minor": 2
}
