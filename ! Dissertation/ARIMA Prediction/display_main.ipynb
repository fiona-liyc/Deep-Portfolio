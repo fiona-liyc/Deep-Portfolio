{
 "cells": [
  {
   "cell_type": "code",
   "execution_count": 1,
   "metadata": {},
   "outputs": [],
   "source": [
    "import sys\n",
    "import argparse\n",
    "\n",
    "#from Data.stock_choices import list_of_stocks\n",
    "#from Visualize_Prediction.make_visualization import visualization"
   ]
  },
  {
   "cell_type": "code",
   "execution_count": 2,
   "metadata": {},
   "outputs": [],
   "source": [
    "class visualize():\n",
    "    '''\n",
    "    The goal of this function is to use the user's arguments and provide a correct\n",
    "    output\n",
    "    '''\n",
    "    def parser(self):\n",
    "        '''\n",
    "        The goal of this function is to add the necessary arguments to the parser\n",
    "        '''\n",
    "        visualize_parser = argparse.ArgumentParser()\n",
    "\n",
    "        #Add the Arguments\n",
    "        #   1. The user can choose if they want to see the predicted values for the stock or not\n",
    "        #   2. The user can choose what stock they want to be displayed\n",
    "        visualize_parser.add_argument('--data_display')\n",
    "        visualize_parser.add_argument('--choice')\n",
    "\n",
    "        self.arguments = visualize_parser.parse_args()\n",
    "\n",
    "        stock_choice, type = self.data_from_arguments()\n",
    "        return stock_choice, type\n",
    "\n",
    "    def data_from_arguments(self):  \n",
    "        '''\n",
    "        The goal of this function is to read the input, and know what to do next\n",
    "        '''\n",
    "        #Check to see if the stock was an acceptable input\n",
    "        length = len(list_of_stocks)\n",
    "        for i in list_of_stocks:\n",
    "\n",
    "            if self.arguments.choice == i:\n",
    "                self.stock_choice = i\n",
    "                # Break if the stock was acceptable\n",
    "                break\n",
    "            length -= 1\n",
    "\n",
    "        #This gets activated if the stock input was not valid\n",
    "        if length == 0:\n",
    "            print(\"\")\n",
    "            print(\"Enter a valid stock!\")\n",
    "            sys.exit(0)\n",
    "\n",
    "        # Decides if the user wants to see the forecasted values or not\n",
    "        # Assigns that information to a global variable\n",
    "        if self.arguments.data_display == \"forecast\":\n",
    "            self.type = \"forecast\"\n",
    "        elif self.arguments.data_display == \"simple\":\n",
    "            self.type = \"simple\"\n",
    "\n",
    "        else:\n",
    "            #This activates if the user did not provide an acceptable input for the\n",
    "            # --data_display argument\n",
    "            print(\"Use one of these commands:\")\n",
    "            print(\"\")\n",
    "            print(\"--data_display [forecast] allows you to see the predicted prices,\")\n",
    "            print(\"--data_display [simple] allows you to see the normal prices\")\n",
    "            sys.exit(0)\n",
    "\n",
    "        return self.stock_choice, self.type"
   ]
  },
  {
   "cell_type": "code",
   "execution_count": 4,
   "metadata": {},
   "outputs": [],
   "source": [
    "#if __name__ == \"__main__\":\n",
    " #   start_visualize = visualize()\n",
    " #   stock_choice, type = start_visualize.parser()\n",
    "\n",
    "    #Calls a differnt file to visualize based on the information provided by the user\n",
    "  #  show_visualization = visualization(stock_choice, type)"
   ]
  },
  {
   "cell_type": "code",
   "execution_count": null,
   "metadata": {},
   "outputs": [],
   "source": []
  }
 ],
 "metadata": {
  "kernelspec": {
   "display_name": "Python 3",
   "language": "python",
   "name": "python3"
  },
  "language_info": {
   "codemirror_mode": {
    "name": "ipython",
    "version": 3
   },
   "file_extension": ".py",
   "mimetype": "text/x-python",
   "name": "python",
   "nbconvert_exporter": "python",
   "pygments_lexer": "ipython3",
   "version": "3.7.3"
  }
 },
 "nbformat": 4,
 "nbformat_minor": 2
}
