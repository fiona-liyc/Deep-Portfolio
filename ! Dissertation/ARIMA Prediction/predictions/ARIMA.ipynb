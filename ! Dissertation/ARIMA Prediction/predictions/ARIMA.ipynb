{
 "cells": [
  {
   "cell_type": "code",
   "execution_count": 5,
   "metadata": {
    "scrolled": true
   },
   "outputs": [],
   "source": [
    "import sys\n",
    "import json\n",
    "\n",
    "import numpy as np\n",
    "import pandas as pd\n",
    "import statsmodels.api as sm\n",
    "\n",
    "#from Make_Prediction.data_stationary import stationary\n",
    "#from Make_Prediction.best_values import pdq_values"
   ]
  },
  {
   "cell_type": "code",
   "execution_count": 6,
   "metadata": {},
   "outputs": [],
   "source": [
    "class ARIMA_implementation():\n",
    "    '''\n",
    "    The goal of this funciton is to provide an ARIMA implementation in python\n",
    "    '''\n",
    "    def __init__(self, stock_choice):\n",
    "        '''\n",
    "        The goal of this __init__ function is to get the training and testing data based\n",
    "        on the stock that was chosen by the user\n",
    "        '''\n",
    "        self.stock_choice = stock_choice\n",
    "        #Get the data\n",
    "        try:\n",
    "            self.read_data = pd.read_csv('C:\\Programming\\Projects\\Current GitHub Project\\-MAKE-A-NAME-\\Data\\individual_stocks_5yr\\%s_data.csv' %(str(stock_choice)) )\n",
    "            self.data = self.read_data['open']\n",
    "        except FileNotFoundError:\n",
    "            # This only activates if the data that was called for was the SMP500 as a whole, not an individual stock\n",
    "            self.read_data = pd.read_csv('C:\\Programming\\Projects\\Current GitHub Project\\-MAKE-A-NAME-\\Data/all_stocks_5yr.csv')\n",
    "\n",
    "            #Delete unecessary columns\n",
    "            del self.read_data['date']\n",
    "            del self.read_data['Name']\n",
    "\n",
    "            #Rremove unecssary rows\n",
    "            #!! This does NOT stationize the data\n",
    "            station = stationary(self.read_data)\n",
    "            self.read_data = station.smp500_data(self.read_data)\n",
    "\n",
    "            #Only view the important row (for this application)\n",
    "            self.data = self.read_data['open']\n",
    "\n",
    "        #Make data stationary\n",
    "        station = stationary(self.data)\n",
    "        self.stationary_data = station.main()\n",
    "\n",
    "        #split into training and testing data\n",
    "        self.training_data = self.stationary_data[:int(int(len(self.stationary_data))*.7)]\n",
    "        self.testing_data = self.stationary_data[int(int(len(self.stationary_data))*.7):]\n"
   ]
  },
  {
   "cell_type": "code",
   "execution_count": 7,
   "metadata": {},
   "outputs": [],
   "source": [
    "def is_data_fitted(self):\n",
    "        '''\n",
    "        The goal of this funciton is see if the chosen stock already has optimal values\n",
    "        If it does, the function will ask the user if they wish to re-train for this stock\n",
    "        '''\n",
    "\n",
    "        try:\n",
    "            with open('C:\\Programming\\Projects\\Current GitHub Project\\-MAKE-A-NAME-\\Data/best_parameters.json') as paramters:\n",
    "                #Get the dictionary\n",
    "                paramter_dictionary = json.load(paramters)\n",
    "\n",
    "                #Search the dictionary for the chosen stock\n",
    "                for i in paramter_dictionary:\n",
    "\n",
    "                    #If the stock has been found\n",
    "                    if str(i) == str(self.stock_choice):\n",
    "                        print(\"\")\n",
    "                        print(\"This stock already has the optimal values, do you wish to continue? [y/n]\")\n",
    "                        user_preference = input()\n",
    "                        if user_preference.lower() == \"y\" or user_preference.lower() == \"yes\":\n",
    "                            return False\n",
    "\n",
    "                        elif user_preference.lower() == \"n\" or user_preference.lower() == \"no\":\n",
    "                            sys.exit(0)\n",
    "\n",
    "                        else:\n",
    "                            print(\"\")\n",
    "                            print(\"Enter a valid response.\")\n",
    "\n",
    "                            #Ask the user again;\n",
    "                            #Response was not valid\n",
    "                            self.is_data_fitted()\n",
    "\n",
    "                return False\n",
    "\n",
    "        except json.decoder.JSONDecodeError:\n",
    "            #If the dictionary is empty; The stock does not have optimal values\n",
    "            return False"
   ]
  },
  {
   "cell_type": "code",
   "execution_count": 8,
   "metadata": {},
   "outputs": [],
   "source": [
    "def fit_data(self):\n",
    "        '''\n",
    "        The goal of this function is to get the optimal values for the data\n",
    "        '''\n",
    "        #See if user input is necessary\n",
    "        self.is_data_fitted()\n",
    "\n",
    "        #Call another file in order to get the best values\n",
    "        best = pdq_values(self.training_data, self.testing_data)\n",
    "        self.best_values = best.main()\n",
    "\n",
    "        return self.best_values\n"
   ]
  },
  {
   "cell_type": "code",
   "execution_count": 9,
   "metadata": {},
   "outputs": [],
   "source": [
    "def get_data(self):\n",
    "    '''\n",
    "    The goal of this funciton is to make it easier to recieve the data from\n",
    "    another file\n",
    "    '''\n",
    "    return self.stationary_data, self.data"
   ]
  },
  {
   "cell_type": "code",
   "execution_count": 10,
   "metadata": {},
   "outputs": [],
   "source": [
    "def main(self):\n",
    "        ARIMA = ARIMA_implementation(self.stock_choice)\n",
    "        self.best_values = ARIMA.fit_data()\n",
    "\n",
    "        return self.best_values\n"
   ]
  },
  {
   "cell_type": "code",
   "execution_count": null,
   "metadata": {},
   "outputs": [],
   "source": []
  }
 ],
 "metadata": {
  "kernelspec": {
   "display_name": "Python 3",
   "language": "python",
   "name": "python3"
  },
  "language_info": {
   "codemirror_mode": {
    "name": "ipython",
    "version": 3
   },
   "file_extension": ".py",
   "mimetype": "text/x-python",
   "name": "python",
   "nbconvert_exporter": "python",
   "pygments_lexer": "ipython3",
   "version": "3.7.3"
  }
 },
 "nbformat": 4,
 "nbformat_minor": 2
}
