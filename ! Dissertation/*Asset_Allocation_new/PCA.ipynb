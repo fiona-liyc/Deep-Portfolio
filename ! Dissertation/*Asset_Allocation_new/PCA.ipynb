{
 "cells": [
  {
   "cell_type": "code",
   "execution_count": 1,
   "metadata": {},
   "outputs": [],
   "source": [
    "#Merging of Market and Economic Data\n",
    "import quandl as q\n",
    "import pandas as pd\n",
    "from pandas import DataFrame \n",
    "import matplotlib.pyplot as plt\n",
    "import numpy as np\n",
    "import matplotlib.pylab as pylab\n",
    "from sklearn.preprocessing import MinMaxScaler\n",
    "from sklearn.decomposition import PCA\n",
    "\n",
    "params = {'legend.fontsize': 'xx-large',\n",
    "          'figure.figsize': (15, 10),\n",
    "         'axes.labelsize': 'xx-large',\n",
    "         'axes.titlesize':'xx-large',\n",
    "         'xtick.labelsize':'xx-large',\n",
    "         'ytick.labelsize':'xx-large'}\n",
    "pylab.rcParams.update(params)"
   ]
  },
  {
   "cell_type": "code",
   "execution_count": 2,
   "metadata": {},
   "outputs": [
    {
     "name": "stdout",
     "output_type": "stream",
     "text": [
      "Stored 'data_gdp' (DataFrame)\n",
      "Stored 'data_infl' (DataFrame)\n",
      "Stored 'data_int' (DataFrame)\n",
      "Stored 'data_unemp' (DataFrame)\n",
      "Stored 'data_savings' (DataFrame)\n"
     ]
    }
   ],
   "source": [
    "#import macro data\n",
    "data_gdp = q.get(\"FRED/GDPC1\", start_date=\"2015-06-01\", end_date=\"2019-06-01\",collapse='daily', \n",
    "                 authtoken=\"oWpRXksxc4gyrtAwXe18\")\n",
    "%store data_gdp\n",
    "\n",
    "data_infl = q.get(\"FRED/CPIAUCSL\", start_date=\"2015-06-01\", end_date=\"2019-06-01\",collapse='daily', \n",
    "                  authtoken=\"oWpRXksxc4gyrtAwXe18\")\n",
    "%store data_infl\n",
    "\n",
    "data_int = q.get(\"FRED/DFF\", start_date=\"2015-06-01\", end_date=\"2019-06-01\",collapse='daily', \n",
    "                 authtoken=\"oWpRXksxc4gyrtAwXe18\")\n",
    "%store data_int\n",
    "\n",
    "data_unemp = q.get(\"FRED/UNRATE\", start_date=\"2015-06-01\", end_date=\"2019-06-01\",collapse='daily', \n",
    "                   authtoken=\"oWpRXksxc4gyrtAwXe18\")\n",
    "%store data_unemp\n",
    "\n",
    "data_savings = q.get(\"FRED/PSAVERT\", start_date=\"2015-06-01\", end_date=\"2019-06-01\",collapse='daily', \n",
    "                     authtoken=\"oWpRXksxc4gyrtAwXe18\")\n",
    "%store data_savings\n"
   ]
  },
  {
   "cell_type": "code",
   "execution_count": 3,
   "metadata": {},
   "outputs": [
    {
     "data": {
      "text/html": [
       "<div>\n",
       "<style scoped>\n",
       "    .dataframe tbody tr th:only-of-type {\n",
       "        vertical-align: middle;\n",
       "    }\n",
       "\n",
       "    .dataframe tbody tr th {\n",
       "        vertical-align: top;\n",
       "    }\n",
       "\n",
       "    .dataframe thead th {\n",
       "        text-align: right;\n",
       "    }\n",
       "</style>\n",
       "<table border=\"1\" class=\"dataframe\">\n",
       "  <thead>\n",
       "    <tr style=\"text-align: right;\">\n",
       "      <th></th>\n",
       "      <th>Value</th>\n",
       "    </tr>\n",
       "    <tr>\n",
       "      <th>Date</th>\n",
       "      <th></th>\n",
       "    </tr>\n",
       "  </thead>\n",
       "  <tbody>\n",
       "    <tr>\n",
       "      <th>2015-07-01</th>\n",
       "      <td>17463.222</td>\n",
       "    </tr>\n",
       "    <tr>\n",
       "      <th>2015-10-01</th>\n",
       "      <td>17468.902</td>\n",
       "    </tr>\n",
       "    <tr>\n",
       "      <th>2016-01-01</th>\n",
       "      <td>17556.839</td>\n",
       "    </tr>\n",
       "    <tr>\n",
       "      <th>2016-04-01</th>\n",
       "      <td>17639.417</td>\n",
       "    </tr>\n",
       "    <tr>\n",
       "      <th>2016-07-01</th>\n",
       "      <td>17735.074</td>\n",
       "    </tr>\n",
       "    <tr>\n",
       "      <th>2016-10-01</th>\n",
       "      <td>17824.231</td>\n",
       "    </tr>\n",
       "    <tr>\n",
       "      <th>2017-01-01</th>\n",
       "      <td>17925.256</td>\n",
       "    </tr>\n",
       "    <tr>\n",
       "      <th>2017-04-01</th>\n",
       "      <td>18021.048</td>\n",
       "    </tr>\n",
       "    <tr>\n",
       "      <th>2017-07-01</th>\n",
       "      <td>18163.558</td>\n",
       "    </tr>\n",
       "    <tr>\n",
       "      <th>2017-10-01</th>\n",
       "      <td>18322.464</td>\n",
       "    </tr>\n",
       "    <tr>\n",
       "      <th>2018-01-01</th>\n",
       "      <td>18438.254</td>\n",
       "    </tr>\n",
       "    <tr>\n",
       "      <th>2018-04-01</th>\n",
       "      <td>18598.135</td>\n",
       "    </tr>\n",
       "    <tr>\n",
       "      <th>2018-07-01</th>\n",
       "      <td>18732.720</td>\n",
       "    </tr>\n",
       "    <tr>\n",
       "      <th>2018-10-01</th>\n",
       "      <td>18783.548</td>\n",
       "    </tr>\n",
       "    <tr>\n",
       "      <th>2019-01-01</th>\n",
       "      <td>18927.281</td>\n",
       "    </tr>\n",
       "    <tr>\n",
       "      <th>2019-04-01</th>\n",
       "      <td>19023.820</td>\n",
       "    </tr>\n",
       "  </tbody>\n",
       "</table>\n",
       "</div>"
      ],
      "text/plain": [
       "                Value\n",
       "Date                 \n",
       "2015-07-01  17463.222\n",
       "2015-10-01  17468.902\n",
       "2016-01-01  17556.839\n",
       "2016-04-01  17639.417\n",
       "2016-07-01  17735.074\n",
       "2016-10-01  17824.231\n",
       "2017-01-01  17925.256\n",
       "2017-04-01  18021.048\n",
       "2017-07-01  18163.558\n",
       "2017-10-01  18322.464\n",
       "2018-01-01  18438.254\n",
       "2018-04-01  18598.135\n",
       "2018-07-01  18732.720\n",
       "2018-10-01  18783.548\n",
       "2019-01-01  18927.281\n",
       "2019-04-01  19023.820"
      ]
     },
     "execution_count": 3,
     "metadata": {},
     "output_type": "execute_result"
    }
   ],
   "source": [
    "data_gdp"
   ]
  },
  {
   "cell_type": "code",
   "execution_count": 4,
   "metadata": {},
   "outputs": [],
   "source": [
    "macro_data = pd.concat([data_gdp,data_infl,data_int,data_unemp,data_savings],axis=1)"
   ]
  },
  {
   "cell_type": "code",
   "execution_count": 5,
   "metadata": {},
   "outputs": [],
   "source": [
    "#import market sentiment adjusted close price\n",
    "data_vix = pd.read_csv('VIX.csv', header=0,usecols=['Date','Adj Close'], \n",
    "                   parse_dates=True, index_col='Date')"
   ]
  },
  {
   "cell_type": "code",
   "execution_count": 6,
   "metadata": {},
   "outputs": [
    {
     "name": "stdout",
     "output_type": "stream",
     "text": [
      "Stored 'macro_market_data' (DataFrame)\n"
     ]
    }
   ],
   "source": [
    "macro_market_data = pd.concat([macro_data, data_vix], axis=1)\n",
    "%store macro_market_data"
   ]
  },
  {
   "cell_type": "code",
   "execution_count": 7,
   "metadata": {},
   "outputs": [],
   "source": [
    "macro_market_data.columns = ['Real GDP','CPI All','Fed Rate','Unemployment rate','Personal Savings Rate','VIX']"
   ]
  },
  {
   "cell_type": "code",
   "execution_count": 8,
   "metadata": {},
   "outputs": [
    {
     "name": "stdout",
     "output_type": "stream",
     "text": [
      "Stored 'df_m' (DataFrame)\n"
     ]
    }
   ],
   "source": [
    "df_m = pd.DataFrame(macro_market_data)\n",
    "df_m = df_m.fillna(method='ffill')\n",
    "df_m = df_m.dropna()"
   ]
  },
  {
   "cell_type": "code",
   "execution_count": 21,
   "metadata": {},
   "outputs": [
    {
     "name": "stdout",
     "output_type": "stream",
     "text": [
      "[[0.         0.03274277 0.02521008 1.         0.52       0.13794926]\n",
      " [0.         0.03274277 0.02521008 1.         0.52       0.13794926]\n",
      " [0.         0.03274277 0.02521008 1.         0.52       0.13794926]\n",
      " ...\n",
      " [1.         0.99159004 0.97478992 0.         0.68       0.48625788]\n",
      " [1.         0.99159004 0.9789916  0.         0.68       0.48625788]\n",
      " [1.         1.         0.9789916  0.0625     0.72       0.48625788]]\n",
      "Stored 'scaled_macro_market' (ndarray)\n"
     ]
    }
   ],
   "source": [
    "scaler = MinMaxScaler()\n",
    "scaled_macro_market = scaler.fit_transform(df_m)\n",
    "print(scaled_macro_market)\n",
    "%store scaled_macro_market"
   ]
  },
  {
   "cell_type": "code",
   "execution_count": 17,
   "metadata": {},
   "outputs": [
    {
     "data": {
      "text/plain": [
       "1432"
      ]
     },
     "execution_count": 17,
     "metadata": {},
     "output_type": "execute_result"
    }
   ],
   "source": [
    "len(scaled_macro_market)"
   ]
  },
  {
   "cell_type": "code",
   "execution_count": 18,
   "metadata": {},
   "outputs": [
    {
     "data": {
      "text/plain": [
       "[<matplotlib.lines.Line2D at 0x1a1a75feb8>,\n",
       " <matplotlib.lines.Line2D at 0x1a1c72f048>,\n",
       " <matplotlib.lines.Line2D at 0x1a1c72f198>,\n",
       " <matplotlib.lines.Line2D at 0x1a1c72f2e8>,\n",
       " <matplotlib.lines.Line2D at 0x1a1c72f438>,\n",
       " <matplotlib.lines.Line2D at 0x1a1c72f588>]"
      ]
     },
     "execution_count": 18,
     "metadata": {},
     "output_type": "execute_result"
    },
    {
     "data": {
      "image/png": "[encoded data removed]",
      "text/plain": [
       "<Figure size 432x288 with 1 Axes>"
      ]
     },
     "metadata": {
      "needs_background": "light"
     },
     "output_type": "display_data"
    }
   ],
   "source": [
    "plt.plot(scaled_macro_market)"
   ]
  },
  {
   "cell_type": "code",
   "execution_count": 19,
   "metadata": {},
   "outputs": [
    {
     "name": "stdout",
     "output_type": "stream",
     "text": [
      "Stored 'pca_component_macro_mkt' (ndarray)\n"
     ]
    }
   ],
   "source": [
    "#principle compo 1 and 2\n",
    "pca = PCA(n_components=3)\n",
    "pca_component_macro_mkt = pca.fit_transform(scaled_macro_market)\n",
    "\n",
    "%store pca_component_macro_mkt"
   ]
  },
  {
   "cell_type": "code",
   "execution_count": 20,
   "metadata": {},
   "outputs": [
    {
     "data": {
      "text/plain": [
       "[<matplotlib.lines.Line2D at 0x1a1c7f6e80>,\n",
       " <matplotlib.lines.Line2D at 0x1a1c7f6fd0>,\n",
       " <matplotlib.lines.Line2D at 0x1a1c8aa160>]"
      ]
     },
     "execution_count": 20,
     "metadata": {},
     "output_type": "execute_result"
    },
    {
     "data": {
      "image/png": "[encoded data removed]",
      "text/plain": [
       "<Figure size 432x288 with 1 Axes>"
      ]
     },
     "metadata": {
      "needs_background": "light"
     },
     "output_type": "display_data"
    }
   ],
   "source": [
    "plt.plot(pca_component_macro_mkt)"
   ]
  },
  {
   "cell_type": "code",
   "execution_count": null,
   "metadata": {},
   "outputs": [],
   "source": []
  }
 ],
 "metadata": {
  "kernelspec": {
   "display_name": "Python 3",
   "language": "python",
   "name": "python3"
  },
  "language_info": {
   "codemirror_mode": {
    "name": "ipython",
    "version": 3
   },
   "file_extension": ".py",
   "mimetype": "text/x-python",
   "name": "python",
   "nbconvert_exporter": "python",
   "pygments_lexer": "ipython3",
   "version": "3.7.3"
  }
 },
 "nbformat": 4,
 "nbformat_minor": 2
}
