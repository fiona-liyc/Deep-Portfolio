{
 "cells": [
  {
   "cell_type": "code",
   "execution_count": 2,
   "metadata": {},
   "outputs": [],
   "source": [
    "#import the required packages\n",
    "\n",
    "import matplotlib\n",
    "import seaborn as sns\n",
    "import quandl\n",
    "import numpy as np\n",
    "import scipy as sp\n",
    "import pandas as pd\n",
    "import sklearn.linear_model\n",
    "import sklearn.metrics\n",
    "import statsmodels.api as sm\n",
    "import matplotlib.pyplot as plt\n",
    "import matplotlib.pylab as pylab\n",
    "from sklearn.preprocessing import MinMaxScaler\n",
    "%matplotlib inline\n"
   ]
  },
  {
   "cell_type": "code",
   "execution_count": 7,
   "metadata": {},
   "outputs": [],
   "source": [
    "#Function to retrieve data\n",
    "def GetData(fileName):\n",
    "    return pd.read_csv(fileName, header=0,usecols=['Date','Adj Close'], parse_dates=True, index_col='Date')\n",
    "            %store fileName"
   ]
  },
  {
   "cell_type": "code",
   "execution_count": 1,
   "metadata": {},
   "outputs": [
    {
     "ename": "NameError",
     "evalue": "name 'GetData' is not defined",
     "output_type": "error",
     "traceback": [
      "\u001b[0;31m---------------------------------------------------------------------------\u001b[0m",
      "\u001b[0;31mNameError\u001b[0m                                 Traceback (most recent call last)",
      "\u001b[0;32m<ipython-input-1-e310e25c8218>\u001b[0m in \u001b[0;36m<module>\u001b[0;34m\u001b[0m\n\u001b[0;32m----> 1\u001b[0;31m \u001b[0mdata_ivv\u001b[0m \u001b[0;34m=\u001b[0m \u001b[0mGetData\u001b[0m\u001b[0;34m(\u001b[0m\u001b[0;34m'Asset_Dataset/IVV.csv'\u001b[0m\u001b[0;34m)\u001b[0m\u001b[0;34m\u001b[0m\u001b[0;34m\u001b[0m\u001b[0m\n\u001b[0m\u001b[1;32m      2\u001b[0m \u001b[0;34m\u001b[0m\u001b[0m\n\u001b[1;32m      3\u001b[0m \u001b[0mdata_lqd\u001b[0m \u001b[0;34m=\u001b[0m \u001b[0mGetData\u001b[0m\u001b[0;34m(\u001b[0m\u001b[0;34m'Asset_Dataset/LQD.csv'\u001b[0m\u001b[0;34m)\u001b[0m\u001b[0;34m\u001b[0m\u001b[0;34m\u001b[0m\u001b[0m\n\u001b[1;32m      4\u001b[0m \u001b[0;34m\u001b[0m\u001b[0m\n\u001b[1;32m      5\u001b[0m \u001b[0mdata_shy\u001b[0m \u001b[0;34m=\u001b[0m \u001b[0mGetData\u001b[0m\u001b[0;34m(\u001b[0m\u001b[0;34m'Asset_Dataset/SHY.csv'\u001b[0m\u001b[0;34m)\u001b[0m\u001b[0;34m\u001b[0m\u001b[0;34m\u001b[0m\u001b[0m\n",
      "\u001b[0;31mNameError\u001b[0m: name 'GetData' is not defined"
     ]
    }
   ],
   "source": [
    "data_ivv = GetData('Asset_Dataset/IVV.csv')\n",
    "\n",
    "data_lqd = GetData('Asset_Dataset/LQD.csv')\n",
    "\n",
    "data_shy = GetData('Asset_Dataset/SHY.csv')\n",
    "\n",
    "data_tip = GetData('Asset_Dataset/TIP.csv')\n",
    "\n",
    "data_vig = GetData('Asset_Dataset/VIG.csv')\n",
    "\n",
    "data_vnq = GetData('Asset_Dataset/VNQ.csv')\n",
    "\n",
    "data_gld = GetData('Asset_Dataset/GLD.csv')\n",
    "\n",
    "data_efa = GetData('Asset_Dataset/EFA.csv')\n",
    "\n",
    "data_eem = GetData('Asset_Dataset/EEM.csv')\n",
    "\n",
    "data_emb = GetData('Asset_Dataset/EMB.csv')\n",
    "\n",
    "data_mub = GetData('Asset_Dataset/MUB.csv')\n",
    "\n",
    "data_xle = GetData('Asset_Dataset/XLE.csv')"
   ]
  },
  {
   "cell_type": "code",
   "execution_count": 9,
   "metadata": {},
   "outputs": [
    {
     "name": "stdout",
     "output_type": "stream",
     "text": [
      "Stored 'data_ivv' (DataFrame)\n",
      "Stored 'data_lqd' (DataFrame)\n",
      "Stored 'data_shy' (DataFrame)\n",
      "Stored 'data_tip' (DataFrame)\n",
      "Stored 'data_vig' (DataFrame)\n",
      "Stored 'data_vnq' (DataFrame)\n",
      "Stored 'data_gld' (DataFrame)\n",
      "Stored 'data_efa' (DataFrame)\n",
      "Stored 'data_eem' (DataFrame)\n",
      "Stored 'data_emb' (DataFrame)\n",
      "Stored 'data_mub' (DataFrame)\n",
      "Stored 'data_xle' (DataFrame)\n"
     ]
    }
   ],
   "source": [
    "#stock data input: only needs date & adjusted close price\n",
    "data_ivv = pd.read_csv('Asset_Dataset/IVV.csv', header=0,usecols=['Date','Adj Close'], \n",
    "                   parse_dates=True, index_col='Date')\n",
    "%store data_ivv\n",
    "\n",
    "data_lqd = pd.read_csv('Asset_Dataset/LQD.csv', header=0,usecols=['Date','Adj Close'], \n",
    "                   parse_dates=True, index_col='Date')\n",
    "%store data_lqd\n",
    "\n",
    "data_shy = pd.read_csv('Asset_Dataset/SHY.csv', header=0,usecols=['Date','Adj Close'], \n",
    "                   parse_dates=True, index_col='Date')\n",
    "\n",
    "%store data_shy\n",
    "\n",
    "data_tip = pd.read_csv('Asset_Dataset/TIP.csv', header=0,usecols=['Date','Adj Close'], \n",
    "                   parse_dates=True, index_col='Date')\n",
    "\n",
    "%store data_tip\n",
    "\n",
    "data_vig = pd.read_csv('Asset_Dataset/VIG.csv', header=0,usecols=['Date','Adj Close'], \n",
    "                   parse_dates=True, index_col='Date')\n",
    "\n",
    "%store data_vig\n",
    "\n",
    "data_vnq = pd.read_csv('Asset_Dataset/VNQ.csv', header=0,usecols=['Date','Adj Close'], \n",
    "                   parse_dates=True, index_col='Date')\n",
    "\n",
    "%store data_vnq\n",
    "\n",
    "data_gld = pd.read_csv('Asset_Dataset/GLD.csv', header=0,usecols=['Date','Adj Close'], \n",
    "                   parse_dates=True, index_col='Date')\n",
    "%store data_gld\n",
    "\n",
    "\n",
    "data_efa = pd.read_csv('Asset_Dataset/EFA.csv', header=0,usecols=['Date','Adj Close'], \n",
    "                   parse_dates=True, index_col='Date')\n",
    "%store data_efa\n",
    "\n",
    "\n",
    "data_eem = pd.read_csv('Asset_Dataset/EEM.csv', header=0,usecols=['Date','Adj Close'], \n",
    "                   parse_dates=True, index_col='Date')\n",
    "%store data_eem\n",
    "\n",
    "data_emb = pd.read_csv('Asset_Dataset/EMB.csv', header=0,usecols=['Date','Adj Close'], \n",
    "                   parse_dates=True, index_col='Date')\n",
    "%store data_emb\n",
    "\n",
    "data_mub = pd.read_csv('Asset_Dataset/MUB.csv', header=0,usecols=['Date','Adj Close'], \n",
    "                   parse_dates=True, index_col='Date')\n",
    "%store data_mub\n",
    "\n",
    "data_xle = pd.read_csv('Asset_Dataset/XLE.csv', header=0,usecols=['Date','Adj Close'], \n",
    "                   parse_dates=True, index_col='Date')\n",
    "%store data_xle\n"
   ]
  },
  {
   "cell_type": "code",
   "execution_count": null,
   "metadata": {},
   "outputs": [],
   "source": [
    "#TRY WRITING A FOR-LOOP THAT SCALES ALL THE DATA AT ONCE\n",
    "#\n",
    "#\n",
    "\n",
    "\n",
    "\n",
    "\n",
    "#"
   ]
  },
  {
   "cell_type": "code",
   "execution_count": 7,
   "metadata": {},
   "outputs": [],
   "source": [
    "scaler = MinMaxScaler()\n",
    "scaled_ivv = scaler.fit_transform(data_ivv)"
   ]
  },
  {
   "cell_type": "code",
   "execution_count": 11,
   "metadata": {},
   "outputs": [
    {
     "name": "stdout",
     "output_type": "stream",
     "text": [
      "Stored 'scaled_ivv' (ndarray)\n"
     ]
    }
   ],
   "source": [
    "%store scaled_ivv"
   ]
  },
  {
   "cell_type": "code",
   "execution_count": null,
   "metadata": {},
   "outputs": [],
   "source": []
  },
  {
   "cell_type": "code",
   "execution_count": null,
   "metadata": {},
   "outputs": [],
   "source": []
  }
 ],
 "metadata": {
  "kernelspec": {
   "display_name": "Python 3",
   "language": "python",
   "name": "python3"
  },
  "language_info": {
   "codemirror_mode": {
    "name": "ipython",
    "version": 3
   },
   "file_extension": ".py",
   "mimetype": "text/x-python",
   "name": "python",
   "nbconvert_exporter": "python",
   "pygments_lexer": "ipython3",
   "version": "3.7.3"
  }
 },
 "nbformat": 4,
 "nbformat_minor": 2
}
