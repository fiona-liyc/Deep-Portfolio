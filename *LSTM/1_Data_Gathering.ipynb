{
 "cells": [
  {
   "cell_type": "markdown",
   "metadata": {},
   "source": [
    "# Data gathering and preprocessing\n",
    "Data is collected through [Yahoo Finance](https://uk.finance.yahoo.com/watchlists), including weekly closing price and volume for the 10-year duration of 01 Jun 2009 - 01 Jun 2019.\n",
    "\n",
    "This code shows how data was merged, organized, cleaned to create one single .csv file containing a complete cross-sectional time series data of the chosen assets."
   ]
  },
  {
   "cell_type": "markdown",
   "metadata": {},
   "source": [
    "## 1. Import libaries"
   ]
  },
  {
   "cell_type": "code",
   "execution_count": 2,
   "metadata": {},
   "outputs": [],
   "source": [
    "#import pandas as pd\n",
    "import datetime\n",
    "import glob\n",
    "import pandas as pd\n",
    "import pandas_datareader.data as web\n",
    "import quandl as q\n"
   ]
  },
  {
   "cell_type": "markdown",
   "metadata": {},
   "source": [
    "## 2. Import data "
   ]
  },
  {
   "cell_type": "markdown",
   "metadata": {},
   "source": [
    "#### Get and visualize data "
   ]
  },
  {
   "cell_type": "code",
   "execution_count": 3,
   "metadata": {},
   "outputs": [],
   "source": [
    "def get_data(asset_name):\n",
    "    return pd.read_csv('Asset_Dataset/'+asset_name+'_10y.csv', usecols=['Date','Adj Close'], parse_dates=True, index_col='Date' ).astype('float32').dropna()\n",
    "\n",
    "def get_vol(asset_name):\n",
    "    return pd.read_csv('Asset_Dataset/'+asset_name+'_10y.csv', usecols=['Date','Volume'], parse_dates=True, index_col='Date' ).astype('float32').dropna()\n",
    "\n",
    "def get_open(asset_name):\n",
    "    return pd.read_csv('Asset_Dataset/'+asset_name+'_10y.csv', usecols=['Date','Open'], parse_dates=True, index_col='Date' ).astype('float32').dropna()\n"
   ]
  },
  {
   "cell_type": "code",
   "execution_count": 4,
   "metadata": {},
   "outputs": [],
   "source": [
    "asset_list = ['IVV','EFA','EEM','SHY','LQD','EMB','VNQ','GLD']"
   ]
  },
  {
   "cell_type": "code",
   "execution_count": 5,
   "metadata": {},
   "outputs": [],
   "source": [
    "# data_ = {}\n",
    "# for i in asset_list:\n",
    "#     #data_[i] = get_data(i)"
   ]
  },
  {
   "cell_type": "code",
   "execution_count": null,
   "metadata": {},
   "outputs": [],
   "source": []
  },
  {
   "cell_type": "code",
   "execution_count": 6,
   "metadata": {},
   "outputs": [
    {
     "name": "stdout",
     "output_type": "stream",
     "text": [
      "Stored 'data_IVV' (DataFrame)\n",
      "Stored 'data_SHY' (DataFrame)\n",
      "Stored 'data_VNQ' (DataFrame)\n",
      "Stored 'data_GLD' (DataFrame)\n",
      "Stored 'data_EFA' (DataFrame)\n",
      "Stored 'data_EEM' (DataFrame)\n",
      "Stored 'data_LQD' (DataFrame)\n",
      "Stored 'data_EMB' (DataFrame)\n",
      "Stored 'data_VIG' (DataFrame)\n",
      "Stored 'data_MUB' (DataFrame)\n",
      "Stored 'data_TIP' (DataFrame)\n",
      "Stored 'data_XLE' (DataFrame)\n",
      "Stored 'data_GSPC' (DataFrame)\n",
      "Stored 'vol_IVV' (DataFrame)\n",
      "Stored 'vol_SHY' (DataFrame)\n",
      "Stored 'vol_VNQ' (DataFrame)\n",
      "Stored 'vol_GLD' (DataFrame)\n"
     ]
    }
   ],
   "source": [
    "# get asset data\n",
    "data_IVV = get_data('IVV')\n",
    "data_SHY = get_data('SHY')\n",
    "data_VNQ = get_data('VNQ')\n",
    "data_GLD = get_data('GLD')\n",
    "\n",
    "data_EFA = get_data('EFA')\n",
    "data_EEM = get_data('EEM')\n",
    "data_LQD = get_data('LQD')\n",
    "data_EMB = get_data('EMB')\n",
    "\n",
    "data_VIG = get_data('VIG')\n",
    "data_MUB = get_data('MUB')\n",
    "data_TIP = get_data('TIP')\n",
    "data_XLE = get_data('XLE')\n",
    "\n",
    "#S&P500\n",
    "data_GSPC = get_data('GSPC')\n",
    "\n",
    "# get volume data\n",
    "vol_IVV = get_vol('IVV')\n",
    "vol_SHY = get_vol('SHY')\n",
    "vol_VNQ = get_vol('VNQ')\n",
    "vol_GLD = get_vol('GLD')\n",
    "\n",
    "%store data_IVV\n",
    "%store data_SHY\n",
    "%store data_VNQ\n",
    "%store data_GLD\n",
    "\n",
    "%store data_EFA\n",
    "%store data_EEM\n",
    "%store data_LQD\n",
    "%store data_EMB\n",
    "\n",
    "%store data_VIG\n",
    "%store data_MUB\n",
    "%store data_TIP\n",
    "%store data_XLE\n",
    "\n",
    "%store data_GSPC\n",
    "\n",
    "%store vol_IVV\n",
    "%store vol_SHY\n",
    "%store vol_VNQ \n",
    "%store vol_GLD \n"
   ]
  },
  {
   "cell_type": "code",
   "execution_count": 7,
   "metadata": {},
   "outputs": [
    {
     "name": "stdout",
     "output_type": "stream",
     "text": [
      "Stored 'open_IVV' (DataFrame)\n",
      "Stored 'open_SHY' (DataFrame)\n",
      "Stored 'open_VNQ' (DataFrame)\n",
      "Stored 'open_GLD' (DataFrame)\n",
      "Stored 'open_EFA' (DataFrame)\n",
      "Stored 'open_EEM' (DataFrame)\n",
      "Stored 'open_LQD' (DataFrame)\n",
      "Stored 'open_EMB' (DataFrame)\n",
      "Stored 'open_VIG' (DataFrame)\n",
      "Stored 'open_MUB' (DataFrame)\n",
      "Stored 'open_TIP' (DataFrame)\n",
      "Stored 'open_XLE' (DataFrame)\n"
     ]
    }
   ],
   "source": [
    "open_IVV = get_data('IVV')\n",
    "open_SHY = get_data('SHY')\n",
    "open_VNQ = get_data('VNQ')\n",
    "open_GLD = get_data('GLD')\n",
    "\n",
    "open_EFA = get_data('EFA')\n",
    "open_EEM = get_data('EEM')\n",
    "open_LQD = get_data('LQD')\n",
    "open_EMB = get_data('EMB')\n",
    "\n",
    "open_VIG = get_data('VIG')\n",
    "open_MUB = get_data('MUB')\n",
    "open_TIP = get_data('TIP')\n",
    "open_XLE = get_data('XLE')\n",
    "\n",
    "\n",
    "%store open_IVV\n",
    "%store open_SHY\n",
    "%store open_VNQ\n",
    "%store open_GLD\n",
    "\n",
    "%store open_EFA\n",
    "%store open_EEM\n",
    "%store open_LQD\n",
    "%store open_EMB\n",
    "\n",
    "%store open_VIG\n",
    "%store open_MUB\n",
    "%store open_TIP\n",
    "%store open_XLE\n"
   ]
  },
  {
   "cell_type": "code",
   "execution_count": 6,
   "metadata": {},
   "outputs": [],
   "source": [
    "asset_8 = pd.concat([data_IVV,data_EFA,data_EEM,data_SHY,data_LQD,data_EMB,\n",
    "                         data_VNQ,data_GLD], axis=1)"
   ]
  },
  {
   "cell_type": "code",
   "execution_count": 7,
   "metadata": {},
   "outputs": [],
   "source": [
    "asset_8.columns = ['IVV','EFA','EEM','SHY','LQD','EMB','VNQ','GLD']"
   ]
  },
  {
   "cell_type": "code",
   "execution_count": 8,
   "metadata": {},
   "outputs": [
    {
     "name": "stdout",
     "output_type": "stream",
     "text": [
      "Stored 'asset_8' (DataFrame)\n"
     ]
    }
   ],
   "source": [
    "%store asset_8\n",
    "asset_8.to_csv('Asset_Dataset/asset_8_10y.csv')"
   ]
  },
  {
   "cell_type": "code",
   "execution_count": 9,
   "metadata": {},
   "outputs": [],
   "source": [
    "asset_7 = pd.concat([data_EFA,data_EEM,data_SHY,data_LQD,data_EMB,\n",
    "                         data_VNQ,data_GLD], axis=1)"
   ]
  },
  {
   "cell_type": "code",
   "execution_count": 10,
   "metadata": {},
   "outputs": [
    {
     "name": "stdout",
     "output_type": "stream",
     "text": [
      "Stored 'asset_7' (DataFrame)\n"
     ]
    }
   ],
   "source": [
    "asset_7.columns = ['EFA','EEM','SHY','LQD','EMB','VNQ','GLD']\n",
    "%store asset_7"
   ]
  },
  {
   "cell_type": "code",
   "execution_count": 11,
   "metadata": {},
   "outputs": [],
   "source": [
    "asset_12 = pd.concat([data_IVV,data_EFA,data_EEM,data_VIG,\n",
    "                      data_SHY,data_LQD,data_EMB,data_MUB,data_TIP,\n",
    "                         data_VNQ,data_XLE,data_GLD], axis=1)"
   ]
  },
  {
   "cell_type": "code",
   "execution_count": 12,
   "metadata": {},
   "outputs": [
    {
     "name": "stdout",
     "output_type": "stream",
     "text": [
      "Stored 'asset_12' (DataFrame)\n"
     ]
    }
   ],
   "source": [
    "asset_12.columns = ['IVV','EFA','EEM','VIG','SHY','LQD','EMB','MUB','TIP',\n",
    "                    'VNQ','XLE','GLD']\n",
    "%store asset_12"
   ]
  },
  {
   "cell_type": "code",
   "execution_count": 13,
   "metadata": {},
   "outputs": [],
   "source": [
    "asset_11 = pd.concat([data_EFA,data_EEM,data_VIG,\n",
    "                      data_SHY,data_LQD,data_EMB,data_MUB,data_TIP,\n",
    "                         data_VNQ,data_XLE,data_GLD], axis=1)"
   ]
  },
  {
   "cell_type": "code",
   "execution_count": 14,
   "metadata": {},
   "outputs": [
    {
     "name": "stdout",
     "output_type": "stream",
     "text": [
      "Stored 'asset_11' (DataFrame)\n"
     ]
    }
   ],
   "source": [
    "asset_11.columns = ['EFA','EEM','VIG','SHY','LQD','EMB','MUB','TIP',\n",
    "                    'VNQ','XLE','GLD']\n",
    "%store asset_11"
   ]
  },
  {
   "cell_type": "markdown",
   "metadata": {},
   "source": [
    "### Row concat for quantopian"
   ]
  },
  {
   "cell_type": "code",
   "execution_count": 23,
   "metadata": {},
   "outputs": [],
   "source": [
    "new_col = 'GLD'\n",
    "asset_row = data_GLD.insert(1, 'symbol', value=new_col)"
   ]
  },
  {
   "cell_type": "code",
   "execution_count": null,
   "metadata": {},
   "outputs": [],
   "source": []
  },
  {
   "cell_type": "markdown",
   "metadata": {},
   "source": [
    "## Import macro data\n"
   ]
  },
  {
   "cell_type": "code",
   "execution_count": 12,
   "metadata": {},
   "outputs": [
    {
     "name": "stdout",
     "output_type": "stream",
     "text": [
      "Stored 'data_gdp' (DataFrame)\n",
      "Stored 'data_infl' (DataFrame)\n",
      "Stored 'data_int' (DataFrame)\n",
      "Stored 'data_unemp' (DataFrame)\n",
      "Stored 'data_savings' (DataFrame)\n",
      "Stored 'data_netsavings' (DataFrame)\n",
      "Stored 'data_income' (DataFrame)\n",
      "Stored 'data_consp' (DataFrame)\n"
     ]
    }
   ],
   "source": [
    "data_gdp = q.get(\"FRED/GDPC1\", start_date=\"2009-06-01\", end_date=\"2019-06-01\",collapse='daily', \n",
    "                 authtoken=\"oWpRXksxc4gyrtAwXe18\")\n",
    "%store data_gdp\n",
    "\n",
    "data_infl = q.get(\"FRED/CPIAUCSL\", start_date=\"2009-06-01\", end_date=\"2019-06-01\",collapse='daily', \n",
    "                  authtoken=\"oWpRXksxc4gyrtAwXe18\")\n",
    "%store data_infl\n",
    "\n",
    "data_int = q.get(\"FRED/DFF\", start_date=\"2009-06-01\", end_date=\"2019-06-01\",collapse='daily', \n",
    "                 authtoken=\"oWpRXksxc4gyrtAwXe18\")\n",
    "%store data_int\n",
    "\n",
    "data_unemp = q.get(\"FRED/UNRATE\", start_date=\"2009-06-01\", end_date=\"2019-06-01\",collapse='daily', \n",
    "                   authtoken=\"oWpRXksxc4gyrtAwXe18\")\n",
    "%store data_unemp\n",
    "\n",
    "data_savings = q.get(\"FRED/PSAVERT\", start_date=\"2009-06-01\", end_date=\"2019-06-01\",collapse='daily', \n",
    "                     authtoken=\"oWpRXksxc4gyrtAwXe18\")\n",
    "%store data_savings\n",
    "\n",
    "#net savings\n",
    "data_netsavings = q.get(\"FRED/W201RC1Q027SBEA\", start_date=\"2009-06-01\", end_date=\"2019-06-01\",collapse='daily', \n",
    "                     authtoken=\"oWpRXksxc4gyrtAwXe18\")\n",
    "%store data_netsavings\n",
    "\n"
   ]
  },
  {
   "cell_type": "code",
   "execution_count": null,
   "metadata": {},
   "outputs": [],
   "source": []
  },
  {
   "cell_type": "code",
   "execution_count": null,
   "metadata": {},
   "outputs": [],
   "source": []
  },
  {
   "cell_type": "code",
   "execution_count": null,
   "metadata": {},
   "outputs": [],
   "source": []
  },
  {
   "cell_type": "code",
   "execution_count": null,
   "metadata": {},
   "outputs": [],
   "source": []
  },
  {
   "cell_type": "code",
   "execution_count": 17,
   "metadata": {},
   "outputs": [
    {
     "ename": "IndentationError",
     "evalue": "expected an indented block (<ipython-input-17-2b02d934ca20>, line 7)",
     "output_type": "error",
     "traceback": [
      "\u001b[0;36m  File \u001b[0;32m\"<ipython-input-17-2b02d934ca20>\"\u001b[0;36m, line \u001b[0;32m7\u001b[0m\n\u001b[0;31m    pf_data[a] = wb.DataReader(a, data_source = 'yahoo', start = '2004-11-18')['Adj Close']\u001b[0m\n\u001b[0m          ^\u001b[0m\n\u001b[0;31mIndentationError\u001b[0m\u001b[0;31m:\u001b[0m expected an indented block\n"
     ]
    }
   ],
   "source": [
    "assets = ['GLD', 'AMZN',]\n",
    "\n",
    "pf_data = pd.DataFrame()\n",
    "\n",
    "for a in assets:\n",
    "\n",
    "pf_data[a] = wb.DataReader(a, data_source = 'yahoo', start = '2004-11-18')['Adj Close']\n"
   ]
  },
  {
   "cell_type": "code",
   "execution_count": null,
   "metadata": {},
   "outputs": [],
   "source": []
  },
  {
   "cell_type": "code",
   "execution_count": null,
   "metadata": {},
   "outputs": [],
   "source": []
  },
  {
   "cell_type": "code",
   "execution_count": null,
   "metadata": {},
   "outputs": [],
   "source": [
    "def get_table(asset_name):\n",
    "    return pd.read_csv('Asset_Dataset/'+asset_name+'_10y.csv', parse_dates=True).dropna()\n",
    "\n",
    "\n",
    "def concatenate(indir=\"Asset_Dataset/\", outfile = \"Asset_Dataset/asset_concat_10y.csv\"):\n",
    "   # os.path.join(indir)\n",
    "    fileList = glob.glob(indir+'*_10y.csv')\n",
    "    dfList = []\n",
    "    #colNames = ['insert all asset names']\n",
    "    for filename in fileList:\n",
    "        print(filename)\n",
    "        df = pd.read_csv(filename, header = None)\n",
    "        dfList.append(df)\n",
    "    concatDF = pd.concat(dfList,axis=1)\n",
    "    #concatDF.columns = colNames\n",
    "    concatDF.to_csv(outfile,index=None)\n",
    "\n",
    "concatenate()"
   ]
  },
  {
   "cell_type": "code",
   "execution_count": null,
   "metadata": {},
   "outputs": [],
   "source": [
    "data = get_table('asset_concat')\n",
    "data"
   ]
  },
  {
   "cell_type": "code",
   "execution_count": null,
   "metadata": {},
   "outputs": [],
   "source": []
  },
  {
   "cell_type": "code",
   "execution_count": null,
   "metadata": {},
   "outputs": [],
   "source": []
  },
  {
   "cell_type": "code",
   "execution_count": null,
   "metadata": {},
   "outputs": [],
   "source": []
  }
 ],
 "metadata": {
  "kernelspec": {
   "display_name": "Python 3",
   "language": "python",
   "name": "python3"
  },
  "language_info": {
   "codemirror_mode": {
    "name": "ipython",
    "version": 3
   },
   "file_extension": ".py",
   "mimetype": "text/x-python",
   "name": "python",
   "nbconvert_exporter": "python",
   "pygments_lexer": "ipython3",
   "version": "3.7.3"
  }
 },
 "nbformat": 4,
 "nbformat_minor": 2
}
