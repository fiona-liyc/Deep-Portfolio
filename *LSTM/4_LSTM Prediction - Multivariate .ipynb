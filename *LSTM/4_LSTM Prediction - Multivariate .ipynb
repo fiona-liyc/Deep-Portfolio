{
 "cells": [
  {
   "cell_type": "markdown",
   "metadata": {},
   "source": [
    "# Multivariate LSTM 4 assets prediction\n",
    "https://github.com/raiak82/LongShortMemorymodelNifty/blob/master/Nifty-Model.ipynb\n",
    "\n",
    "https://medium.com/datadriveninvestor/multivariate-time-series-using-rnn-with-keras-7f78f4488679\n",
    "\n",
    "https://www.kaggle.com/amirrezaeian/time-series-data-analysis-using-lstm-tutorial\n",
    "\n",
    "https://machinelearningmastery.com/multivariate-time-series-forecasting-lstms-keras/\n",
    "\n",
    "## 1. Import Libraries"
   ]
  },
  {
   "cell_type": "code",
   "execution_count": 1,
   "metadata": {},
   "outputs": [
    {
     "name": "stderr",
     "output_type": "stream",
     "text": [
      "Using TensorFlow backend.\n"
     ]
    }
   ],
   "source": [
    "#Libraries\n",
    "import numpy as np\n",
    "import matplotlib.pyplot as plt\n",
    "import pandas as pd\n",
    "from pandas_datareader import data\n",
    "import math, re\n",
    "import datetime as dt\n",
    "import seaborn as sns\n",
    "plt.style.use('seaborn-darkgrid')\n",
    "import seaborn as sns\n",
    "%matplotlib inline\n",
    "\n",
    "#LSTM RNN\n",
    "from sklearn.preprocessing import MinMaxScaler\n",
    "from sklearn import preprocessing, utils\n",
    "from sklearn.linear_model import LogisticRegression\n",
    "from sklearn.feature_selection import RFE\n",
    "from sklearn.ensemble import ExtraTreesClassifier\n",
    "from sklearn.feature_selection import SelectKBest, chi2\n",
    "from keras.models import Sequential\n",
    "from keras.layers import Dense, LSTM, Dropout, GRU, Bidirectional\n",
    "from keras.optimizers import SGD\n",
    "from keras.callbacks import EarlyStopping\n",
    "from sklearn.metrics import mean_squared_error\n",
    "\n"
   ]
  },
  {
   "cell_type": "code",
   "execution_count": 2,
   "metadata": {},
   "outputs": [],
   "source": [
    "# import asset data: open, close, volume\n",
    "%store -r data_IVV\n",
    "%store -r data_SHY\n",
    "%store -r data_VNQ\n",
    "%store -r data_GLD\n",
    "%store -r vol_IVV\n",
    "%store -r vol_SHY\n",
    "%store -r vol_VNQ \n",
    "%store -r vol_GLD \n",
    "\n",
    "%store -r open_GLD\n",
    "%store -r data_GSPC\n"
   ]
  },
  {
   "cell_type": "code",
   "execution_count": 3,
   "metadata": {},
   "outputs": [],
   "source": [
    "#import market and econ data\n",
    "%store -r data_gdp\n",
    "%store -r data_savings\n",
    "%store -r data_vix"
   ]
  },
  {
   "cell_type": "markdown",
   "metadata": {},
   "source": [
    "# MULTIVARIATE LSTM - Single asset (in-sample) prediction\n",
    "## Use Adj Close Price, Open Price, Volume, Savings Rate, and VIX to engineer the features"
   ]
  },
  {
   "cell_type": "code",
   "execution_count": 4,
   "metadata": {},
   "outputs": [],
   "source": [
    "#market and econ data\n",
    "#fill using previous values\n",
    "#data_m = pd.concat([data_savings,data_vix],axis=1)\n",
    "data_m = pd.concat([data_savings, data_vix],axis=1)\n",
    "data_m = data_m.fillna(method='ffill')\n"
   ]
  },
  {
   "cell_type": "code",
   "execution_count": 5,
   "metadata": {},
   "outputs": [],
   "source": [
    "GLD_all = pd.concat([data_GLD,open_GLD, vol_GLD, data_m],axis=1).dropna()\n",
    "GLD_all.columns = ['Adj_Close','Open','Volume', 'Savings','VIX']"
   ]
  },
  {
   "cell_type": "markdown",
   "metadata": {},
   "source": [
    "### Data info and visualize"
   ]
  },
  {
   "cell_type": "code",
   "execution_count": 6,
   "metadata": {},
   "outputs": [
    {
     "data": {
      "text/html": [
       "<div>\n",
       "<style scoped>\n",
       "    .dataframe tbody tr th:only-of-type {\n",
       "        vertical-align: middle;\n",
       "    }\n",
       "\n",
       "    .dataframe tbody tr th {\n",
       "        vertical-align: top;\n",
       "    }\n",
       "\n",
       "    .dataframe thead th {\n",
       "        text-align: right;\n",
       "    }\n",
       "</style>\n",
       "<table border=\"1\" class=\"dataframe\">\n",
       "  <thead>\n",
       "    <tr style=\"text-align: right;\">\n",
       "      <th></th>\n",
       "      <th>Adj_Close</th>\n",
       "      <th>Open</th>\n",
       "      <th>Volume</th>\n",
       "      <th>Savings</th>\n",
       "      <th>VIX</th>\n",
       "    </tr>\n",
       "    <tr>\n",
       "      <th>Date</th>\n",
       "      <th></th>\n",
       "      <th></th>\n",
       "      <th></th>\n",
       "      <th></th>\n",
       "      <th></th>\n",
       "    </tr>\n",
       "  </thead>\n",
       "  <tbody>\n",
       "    <tr>\n",
       "      <th>2009-06-01</th>\n",
       "      <td>93.709999</td>\n",
       "      <td>93.709999</td>\n",
       "      <td>82888896.0</td>\n",
       "      <td>6.7</td>\n",
       "      <td>30.040001</td>\n",
       "    </tr>\n",
       "    <tr>\n",
       "      <th>2009-06-08</th>\n",
       "      <td>92.169998</td>\n",
       "      <td>92.169998</td>\n",
       "      <td>64057600.0</td>\n",
       "      <td>6.7</td>\n",
       "      <td>29.770000</td>\n",
       "    </tr>\n",
       "    <tr>\n",
       "      <th>2009-06-15</th>\n",
       "      <td>91.900002</td>\n",
       "      <td>91.900002</td>\n",
       "      <td>63132500.0</td>\n",
       "      <td>6.7</td>\n",
       "      <td>30.809999</td>\n",
       "    </tr>\n",
       "  </tbody>\n",
       "</table>\n",
       "</div>"
      ],
      "text/plain": [
       "            Adj_Close       Open      Volume  Savings        VIX\n",
       "Date                                                            \n",
       "2009-06-01  93.709999  93.709999  82888896.0      6.7  30.040001\n",
       "2009-06-08  92.169998  92.169998  64057600.0      6.7  29.770000\n",
       "2009-06-15  91.900002  91.900002  63132500.0      6.7  30.809999"
      ]
     },
     "execution_count": 6,
     "metadata": {},
     "output_type": "execute_result"
    }
   ],
   "source": [
    "GLD_all.head(3)"
   ]
  },
  {
   "cell_type": "code",
   "execution_count": 7,
   "metadata": {},
   "outputs": [
    {
     "data": {
      "text/html": [
       "<div>\n",
       "<style scoped>\n",
       "    .dataframe tbody tr th:only-of-type {\n",
       "        vertical-align: middle;\n",
       "    }\n",
       "\n",
       "    .dataframe tbody tr th {\n",
       "        vertical-align: top;\n",
       "    }\n",
       "\n",
       "    .dataframe thead th {\n",
       "        text-align: right;\n",
       "    }\n",
       "</style>\n",
       "<table border=\"1\" class=\"dataframe\">\n",
       "  <thead>\n",
       "    <tr style=\"text-align: right;\">\n",
       "      <th></th>\n",
       "      <th>Adj_Close</th>\n",
       "      <th>Open</th>\n",
       "      <th>Volume</th>\n",
       "      <th>Savings</th>\n",
       "      <th>VIX</th>\n",
       "    </tr>\n",
       "    <tr>\n",
       "      <th>Date</th>\n",
       "      <th></th>\n",
       "      <th></th>\n",
       "      <th></th>\n",
       "      <th></th>\n",
       "      <th></th>\n",
       "    </tr>\n",
       "  </thead>\n",
       "  <tbody>\n",
       "    <tr>\n",
       "      <th>2019-05-13</th>\n",
       "      <td>120.650002</td>\n",
       "      <td>120.650002</td>\n",
       "      <td>39924600.0</td>\n",
       "      <td>8.0</td>\n",
       "      <td>20.549999</td>\n",
       "    </tr>\n",
       "    <tr>\n",
       "      <th>2019-05-20</th>\n",
       "      <td>121.300003</td>\n",
       "      <td>121.300003</td>\n",
       "      <td>20312500.0</td>\n",
       "      <td>8.0</td>\n",
       "      <td>16.309999</td>\n",
       "    </tr>\n",
       "  </tbody>\n",
       "</table>\n",
       "</div>"
      ],
      "text/plain": [
       "             Adj_Close        Open      Volume  Savings        VIX\n",
       "Date                                                              \n",
       "2019-05-13  120.650002  120.650002  39924600.0      8.0  20.549999\n",
       "2019-05-20  121.300003  121.300003  20312500.0      8.0  16.309999"
      ]
     },
     "execution_count": 7,
     "metadata": {},
     "output_type": "execute_result"
    }
   ],
   "source": [
    "GLD_all.tail(2)"
   ]
  },
  {
   "cell_type": "code",
   "execution_count": 8,
   "metadata": {},
   "outputs": [
    {
     "name": "stdout",
     "output_type": "stream",
     "text": [
      "<class 'pandas.core.frame.DataFrame'>\n",
      "DatetimeIndex: 474 entries, 2009-06-01 to 2019-05-20\n",
      "Data columns (total 5 columns):\n",
      "Adj_Close    474 non-null float32\n",
      "Open         474 non-null float32\n",
      "Volume       474 non-null float32\n",
      "Savings      474 non-null float64\n",
      "VIX          474 non-null float32\n",
      "dtypes: float32(4), float64(1)\n",
      "memory usage: 14.8 KB\n"
     ]
    }
   ],
   "source": [
    "GLD_all.info()"
   ]
  },
  {
   "cell_type": "code",
   "execution_count": 9,
   "metadata": {},
   "outputs": [
    {
     "data": {
      "text/plain": [
       "Adj_Close    float32\n",
       "Open         float32\n",
       "Volume       float32\n",
       "Savings      float64\n",
       "VIX          float32\n",
       "dtype: object"
      ]
     },
     "execution_count": 9,
     "metadata": {},
     "output_type": "execute_result"
    }
   ],
   "source": [
    "GLD_all.dtypes"
   ]
  },
  {
   "cell_type": "code",
   "execution_count": 10,
   "metadata": {},
   "outputs": [
    {
     "data": {
      "text/plain": [
       "(474, 5)"
      ]
     },
     "execution_count": 10,
     "metadata": {},
     "output_type": "execute_result"
    }
   ],
   "source": [
    "GLD_all.shape"
   ]
  },
  {
   "cell_type": "code",
   "execution_count": 11,
   "metadata": {},
   "outputs": [
    {
     "data": {
      "text/html": [
       "<div>\n",
       "<style scoped>\n",
       "    .dataframe tbody tr th:only-of-type {\n",
       "        vertical-align: middle;\n",
       "    }\n",
       "\n",
       "    .dataframe tbody tr th {\n",
       "        vertical-align: top;\n",
       "    }\n",
       "\n",
       "    .dataframe thead th {\n",
       "        text-align: right;\n",
       "    }\n",
       "</style>\n",
       "<table border=\"1\" class=\"dataframe\">\n",
       "  <thead>\n",
       "    <tr style=\"text-align: right;\">\n",
       "      <th></th>\n",
       "      <th>Adj_Close</th>\n",
       "      <th>Open</th>\n",
       "      <th>Volume</th>\n",
       "      <th>Savings</th>\n",
       "      <th>VIX</th>\n",
       "    </tr>\n",
       "  </thead>\n",
       "  <tbody>\n",
       "    <tr>\n",
       "      <th>count</th>\n",
       "      <td>474.000000</td>\n",
       "      <td>474.000000</td>\n",
       "      <td>474.0</td>\n",
       "      <td>474.000000</td>\n",
       "      <td>474.000000</td>\n",
       "    </tr>\n",
       "    <tr>\n",
       "      <th>mean</th>\n",
       "      <td>127.007332</td>\n",
       "      <td>127.007332</td>\n",
       "      <td>51331284.0</td>\n",
       "      <td>7.218565</td>\n",
       "      <td>17.550552</td>\n",
       "    </tr>\n",
       "    <tr>\n",
       "      <th>std</th>\n",
       "      <td>19.009182</td>\n",
       "      <td>19.009182</td>\n",
       "      <td>28932484.0</td>\n",
       "      <td>0.937042</td>\n",
       "      <td>6.121557</td>\n",
       "    </tr>\n",
       "    <tr>\n",
       "      <th>min</th>\n",
       "      <td>89.580002</td>\n",
       "      <td>89.580002</td>\n",
       "      <td>13757000.0</td>\n",
       "      <td>4.900000</td>\n",
       "      <td>9.340000</td>\n",
       "    </tr>\n",
       "    <tr>\n",
       "      <th>25%</th>\n",
       "      <td>115.414999</td>\n",
       "      <td>115.414999</td>\n",
       "      <td>33162250.0</td>\n",
       "      <td>6.700000</td>\n",
       "      <td>13.205000</td>\n",
       "    </tr>\n",
       "    <tr>\n",
       "      <th>50%</th>\n",
       "      <td>121.869999</td>\n",
       "      <td>121.869999</td>\n",
       "      <td>42775950.0</td>\n",
       "      <td>7.200000</td>\n",
       "      <td>15.960000</td>\n",
       "    </tr>\n",
       "    <tr>\n",
       "      <th>75%</th>\n",
       "      <td>133.107502</td>\n",
       "      <td>133.107502</td>\n",
       "      <td>61628625.0</td>\n",
       "      <td>7.600000</td>\n",
       "      <td>20.027501</td>\n",
       "    </tr>\n",
       "    <tr>\n",
       "      <th>max</th>\n",
       "      <td>183.240005</td>\n",
       "      <td>183.240005</td>\n",
       "      <td>235395008.0</td>\n",
       "      <td>12.000000</td>\n",
       "      <td>48.000000</td>\n",
       "    </tr>\n",
       "  </tbody>\n",
       "</table>\n",
       "</div>"
      ],
      "text/plain": [
       "        Adj_Close        Open       Volume     Savings         VIX\n",
       "count  474.000000  474.000000        474.0  474.000000  474.000000\n",
       "mean   127.007332  127.007332   51331284.0    7.218565   17.550552\n",
       "std     19.009182   19.009182   28932484.0    0.937042    6.121557\n",
       "min     89.580002   89.580002   13757000.0    4.900000    9.340000\n",
       "25%    115.414999  115.414999   33162250.0    6.700000   13.205000\n",
       "50%    121.869999  121.869999   42775950.0    7.200000   15.960000\n",
       "75%    133.107502  133.107502   61628625.0    7.600000   20.027501\n",
       "max    183.240005  183.240005  235395008.0   12.000000   48.000000"
      ]
     },
     "execution_count": 11,
     "metadata": {},
     "output_type": "execute_result"
    }
   ],
   "source": [
    "GLD_all.describe()"
   ]
  },
  {
   "cell_type": "code",
   "execution_count": 12,
   "metadata": {},
   "outputs": [
    {
     "data": {
      "text/plain": [
       "Index(['Adj_Close', 'Open', 'Volume', 'Savings', 'VIX'], dtype='object')"
      ]
     },
     "execution_count": 12,
     "metadata": {},
     "output_type": "execute_result"
    }
   ],
   "source": [
    "GLD_all.columns"
   ]
  },
  {
   "cell_type": "code",
   "execution_count": 13,
   "metadata": {},
   "outputs": [
    {
     "data": {
      "text/plain": [
       "0"
      ]
     },
     "execution_count": 13,
     "metadata": {},
     "output_type": "execute_result"
    }
   ],
   "source": [
    "GLD_all.columns.get_loc(\"Adj_Close\")"
   ]
  },
  {
   "cell_type": "code",
   "execution_count": 14,
   "metadata": {},
   "outputs": [
    {
     "data": {
      "text/plain": [
       "Adj_Close    0\n",
       "Open         0\n",
       "Volume       0\n",
       "Savings      0\n",
       "VIX          0\n",
       "dtype: int64"
      ]
     },
     "execution_count": 14,
     "metadata": {},
     "output_type": "execute_result"
    }
   ],
   "source": [
    "#sanity checks\n",
    "GLD_all.isnull().sum()"
   ]
  },
  {
   "cell_type": "code",
   "execution_count": 15,
   "metadata": {},
   "outputs": [],
   "source": [
    "data_pct = GLD_all.pct_change()"
   ]
  },
  {
   "cell_type": "code",
   "execution_count": 16,
   "metadata": {},
   "outputs": [
    {
     "data": {
      "image/png": "[encoded data removed]",
      "text/plain": [
       "<Figure size 432x432 with 3 Axes>"
      ]
     },
     "metadata": {
      "needs_background": "light"
     },
     "output_type": "display_data"
    }
   ],
   "source": [
    "## Corr between open and close price\n",
    "sns.jointplot(x='Open', y='Adj_Close', data=data_pct)  \n",
    "plt.show()"
   ]
  },
  {
   "cell_type": "code",
   "execution_count": 17,
   "metadata": {},
   "outputs": [
    {
     "data": {
      "image/png": "[encoded data removed]",
      "text/plain": [
       "<Figure size 432x432 with 3 Axes>"
      ]
     },
     "metadata": {
      "needs_background": "light"
     },
     "output_type": "display_data"
    }
   ],
   "source": [
    "## Corr between volume and closing price\n",
    "sns.jointplot(x='Volume', y='Adj_Close', data=data_pct)  \n",
    "plt.show()"
   ]
  },
  {
   "cell_type": "code",
   "execution_count": 18,
   "metadata": {},
   "outputs": [
    {
     "data": {
      "image/png": "[encoded data removed]",
      "text/plain": [
       "<Figure size 432x432 with 3 Axes>"
      ]
     },
     "metadata": {
      "needs_background": "light"
     },
     "output_type": "display_data"
    }
   ],
   "source": [
    "sns.jointplot(x='Savings', y='Adj_Close', data=data_pct)  \n",
    "plt.show()"
   ]
  },
  {
   "cell_type": "code",
   "execution_count": 19,
   "metadata": {},
   "outputs": [
    {
     "data": {
      "image/png": "[encoded data removed]",
      "text/plain": [
       "<Figure size 432x432 with 3 Axes>"
      ]
     },
     "metadata": {
      "needs_background": "light"
     },
     "output_type": "display_data"
    }
   ],
   "source": [
    "## Corr between volume and closing price\n",
    "sns.jointplot(x='VIX', y='Adj_Close', data=data_pct)  \n",
    "plt.show()"
   ]
  },
  {
   "cell_type": "markdown",
   "metadata": {},
   "source": [
    "### Model helper functions\n",
    "Predict closing price at t given closing price + other features at previous timesteps\n",
    "* Convert time series to SUPERVISED LEARNING\n",
    "* Using one lag observation as input (x)\n",
    "* Using one observation as output (y)"
   ]
  },
  {
   "cell_type": "code",
   "execution_count": 20,
   "metadata": {},
   "outputs": [],
   "source": [
    "# function to shift left and shift forward the time series dataframe where n_in paramter \n",
    "# used to shift left and n_out parameter used to shift right\n",
    "def series_to_new_supervised(df, n_in=1, n_out=1, dropnan=True):\n",
    "    n_vars = 1 if type(df) is list else df.shape[1]\n",
    "    cols, names = list(), list()\n",
    "    # input sequence (t-n, ... t-1)\n",
    "    #names = df.columns.values\n",
    "    for i in range(n_in, 0, -1):\n",
    "        cols.append(df.shift(i))\n",
    "        names += [(' %s(t-%d)' % (df.columns[j], i)) for j in range(n_vars)]\n",
    "\n",
    "    # forecast sequence (t, t+1, ... t+n)\n",
    "    for i in range(0, n_out):\n",
    "        cols.append(df.shift(-i))\n",
    "        if i == 0:\n",
    "            names += [(' %s(t)' % (df.columns[j])) for j in range(n_vars)]\n",
    "        else:\n",
    "            names += [(' %s(t+%d)' % (df.columns[j], i))for j in range(n_vars)]\n",
    "    # put it all together\n",
    "    agg = pd.concat(cols, axis=1)\n",
    "    agg.columns = names\n",
    "    # drop rows with NaN values\n",
    "    if dropnan:\n",
    "        agg.dropna(inplace=True)\n",
    "    else:\n",
    "        agg = agg.fillna(0)\n",
    "    return agg"
   ]
  },
  {
   "cell_type": "code",
   "execution_count": 21,
   "metadata": {},
   "outputs": [],
   "source": [
    "#Columns to be removed from the transformed series. For example - after time series is shifted to N+1, you may want only-\n",
    "#columns in shifted time series i.e you may want only adj_close rest other columns can be droped from N+1\n",
    "def remove_columns_from_transformed_series(df2, main_column, negative, positive):\n",
    "    columns_to_be_removed=[]\n",
    "    for i in range(0,df2.shape[1]):\n",
    "        string1=df2.columns[i]\n",
    "        if re.search(\"\\(t\\-\",string1): \n",
    "            if not (re.search(main_column,string1)):\n",
    "                if (negative==1):\n",
    "                    columns_to_be_removed.append(string1)\n",
    "        if re.search(\"\\(t\\+\",string1):\n",
    "            if not (re.search(main_column,string1)):\n",
    "                if (positive==1):\n",
    "                    columns_to_be_removed.append(string1)\n",
    "    df2.drop(columns_to_be_removed, axis=1, inplace=True)\n",
    "    return df2"
   ]
  },
  {
   "cell_type": "code",
   "execution_count": 22,
   "metadata": {
    "scrolled": true
   },
   "outputs": [
    {
     "name": "stdout",
     "output_type": "stream",
     "text": [
      "             Adj_Close(t)    Open(t)   Volume(t)   Savings(t)     VIX(t)  \\\n",
      "Date                                                                       \n",
      "2009-06-01      93.709999  93.709999  82888896.0          6.7  30.040001   \n",
      "2009-06-08      92.169998  92.169998  64057600.0          6.7  29.770000   \n",
      "\n",
      "             Adj_Close(t+1)   Open(t+1)   Volume(t+1)   Savings(t+1)  \\\n",
      "Date                                                                   \n",
      "2009-06-01        92.169998   92.169998    64057600.0            6.7   \n",
      "2009-06-08        91.900002   91.900002    63132500.0            6.7   \n",
      "\n",
      "             VIX(t+1)  \n",
      "Date                   \n",
      "2009-06-01  29.770000  \n",
      "2009-06-08  30.809999  \n"
     ]
    }
   ],
   "source": [
    "#shift series to obtain t+1 for Y column\n",
    "shiftRightSeries=series_to_new_supervised(GLD_all,0,2)\n",
    "print(shiftRightSeries.head(2))"
   ]
  },
  {
   "cell_type": "markdown",
   "metadata": {},
   "source": [
    "-------------------------- Additional stuff --------------------------"
   ]
  },
  {
   "cell_type": "code",
   "execution_count": 23,
   "metadata": {},
   "outputs": [
    {
     "name": "stdout",
     "output_type": "stream",
     "text": [
      "             Adj_Close(t)    Open(t)   Volume(t)   Savings(t)     VIX(t)  \\\n",
      "Date                                                                       \n",
      "2009-06-01      93.709999  93.709999  82888896.0          6.7  30.040001   \n",
      "2009-06-08      92.169998  92.169998  64057600.0          6.7  29.770000   \n",
      "\n",
      "             Adj_Close(t+1)  \n",
      "Date                         \n",
      "2009-06-01        92.169998  \n",
      "2009-06-08        91.900002  \n"
     ]
    }
   ],
   "source": [
    "# Only keep adj close as it is the only variable for prediction\n",
    "shiftRightSeries=remove_columns_from_transformed_series(shiftRightSeries,\"Adj_Close\",1,1)\n",
    "print(shiftRightSeries.head(2))"
   ]
  },
  {
   "cell_type": "code",
   "execution_count": 24,
   "metadata": {},
   "outputs": [
    {
     "name": "stdout",
     "output_type": "stream",
     "text": [
      "             Adj_Close(t)    Open(t)   Volume(t)   Savings(t)     VIX(t)\n",
      "Date                                                                    \n",
      "2009-06-01      93.709999  93.709999  82888896.0          6.7  30.040001\n",
      "2009-06-08      92.169998  92.169998  64057600.0          6.7  29.770000\n",
      "Date\n",
      "2009-06-01    92.169998\n",
      "2009-06-08    91.900002\n",
      "Name:  Adj_Close(t+1), dtype: float32\n"
     ]
    }
   ],
   "source": [
    "#Seperate Independant and dependant variables in X and Y respectively\n",
    "X=shiftRightSeries.iloc[:,:-1]\n",
    "y=shiftRightSeries.iloc[:,-1]\n",
    "print(X.head(2))\n",
    "print(y.head(2))"
   ]
  },
  {
   "cell_type": "code",
   "execution_count": 25,
   "metadata": {},
   "outputs": [
    {
     "name": "stdout",
     "output_type": "stream",
     "text": [
      "multiclass\n"
     ]
    }
   ],
   "source": [
    "#One of the common issue related to machine learning problem- Y variable (if int or float) throws error when you fit the logistic regression model\n",
    "#In order to solve it, you may need to convert the Y variable to label encoded format\n",
    "\n",
    "lab_enc = preprocessing.LabelEncoder()\n",
    "y_scores_encoded = lab_enc.fit_transform(y)\n",
    "print(utils.multiclass.type_of_target(y_scores_encoded))"
   ]
  },
  {
   "cell_type": "code",
   "execution_count": 26,
   "metadata": {},
   "outputs": [
    {
     "name": "stdout",
     "output_type": "stream",
     "text": [
      "Num Features: 5\n",
      "Selected Features: [ True  True  True  True  True]\n",
      "Feature Ranking: [1 1 1 1 1]\n"
     ]
    },
    {
     "name": "stderr",
     "output_type": "stream",
     "text": [
      "//anaconda3/lib/python3.7/site-packages/sklearn/linear_model/logistic.py:432: FutureWarning: Default solver will be changed to 'lbfgs' in 0.22. Specify a solver to silence this warning.\n",
      "  FutureWarning)\n",
      "//anaconda3/lib/python3.7/site-packages/sklearn/linear_model/logistic.py:469: FutureWarning: Default multi_class will be changed to 'auto' in 0.22. Specify the multi_class option to silence this warning.\n",
      "  \"this warning.\", FutureWarning)\n"
     ]
    }
   ],
   "source": [
    "#Selecting logistic Regression to select top 15 best features\n",
    "model = LogisticRegression()\n",
    "rfe = RFE(model, 15)\n",
    "fit = rfe.fit(X, y_scores_encoded)\n",
    "print(\"Num Features: %d\" % (fit.n_features_,))\n",
    "print(\"Selected Features: %s\" % (fit.support_,))\n",
    "print(\"Feature Ranking: %s\" % (fit.ranking_,))"
   ]
  },
  {
   "cell_type": "code",
   "execution_count": 27,
   "metadata": {},
   "outputs": [
    {
     "name": "stdout",
     "output_type": "stream",
     "text": [
      "[0.21408838 0.21145821 0.21256672 0.15386107 0.20802562]\n"
     ]
    },
    {
     "name": "stderr",
     "output_type": "stream",
     "text": [
      "//anaconda3/lib/python3.7/site-packages/sklearn/ensemble/forest.py:245: FutureWarning: The default value of n_estimators will change from 10 in version 0.20 to 100 in 0.22.\n",
      "  \"10 in version 0.20 to 100 in 0.22.\", FutureWarning)\n"
     ]
    }
   ],
   "source": [
    "#Identifying the importance of feature based on ExtraTreeClassifications\n",
    "model = ExtraTreesClassifier()\n",
    "model.fit(X,y_scores_encoded)\n",
    "# display the relative importance of each attribute\n",
    "print(model.feature_importances_)"
   ]
  },
  {
   "cell_type": "code",
   "execution_count": 28,
   "metadata": {},
   "outputs": [
    {
     "data": {
      "image/png": "[encoded data removed]",
      "text/plain": [
       "<Figure size 432x288 with 1 Axes>"
      ]
     },
     "metadata": {
      "needs_background": "light"
     },
     "output_type": "display_data"
    }
   ],
   "source": [
    "#plot graph of feature importances for better visualization\n",
    "feat_importances = pd.Series(model.feature_importances_, index=X.columns)\n",
    "feat_importances.nlargest(21).plot(kind='barh', color='salmon')\n",
    "plt.show()"
   ]
  },
  {
   "cell_type": "markdown",
   "metadata": {},
   "source": [
    "--------------------------^^ Additional stuff ^^--------------------------"
   ]
  },
  {
   "cell_type": "code",
   "execution_count": 29,
   "metadata": {
    "scrolled": true
   },
   "outputs": [
    {
     "name": "stdout",
     "output_type": "stream",
     "text": [
      "[  4   2   5   1   0   3   8   7  10   6   9  11  13  15  12  14  20  24\n",
      "  25  19  40  56  81 107  92  54  50  46  39  66  61  35  31  38  55  60\n",
      "  43  45  47  58  91  65  86 113 155 191 110 168 187 235 233 161 130 124\n",
      " 115 149 166 186 203 220 260 293 315 323 333 319 327 343 334 324 330 344\n",
      " 341 336 339 347 332 328 320 323 325 341 350 345 346 349 348 354 357 361\n",
      " 366 358 359 362 364 363 365 360 356 381 385 392 410 434 444 443 445 442\n",
      " 399 391 394 414 397 432 436 441 427 414 433 423 382 386 395 430 428 425\n",
      " 426 421 422 405 408 412 393 403 398 406 396 372 378 369 379 390 368 380\n",
      " 374 376 373 389 383 388 387 411 416 437 439 438 440 435 424 419 429 418\n",
      " 431 420 417 415 400 402 401 404 413 407 409 384 367 370 375 383 377 371\n",
      " 355 342 352 353 351 322 335 331 337 267 170 154 252 269 314 286 296 326\n",
      " 340 338 308 309 316 289 231 295 321 298 254 255 185 197 162 176 121 140\n",
      " 173 189 201 188 225 300 306 318 329 313 261 277 297 263 272 268 251 258\n",
      " 259 193 238 288 292 301 314 283 279 256 284 273 242 248 224 158 137 136\n",
      " 101 145 169 156  79  82  99 114  71  98 142 104 105  95 141 230 245 163\n",
      " 152 126  70  63  90 107 112 122 117  84  85  94 144 117  74  87 108  77\n",
      "  69  67  48  33  32  30  36  64  49  41  52  57  51  62  76  68  53  29\n",
      "  26  22  16  27  23  18  21  17  34  28  37  75 157 139 192 178 184 127\n",
      " 133 159 151 150 246 241 216 182 118 217 249 280 312 294 285 317 304 302\n",
      " 310 281 290 268 307 278 183 175 199 213 257 138 109  78  73  59  44  42\n",
      "  97  88 125 146 148 143 103 134 167 165 180 231 227 198 135 132 177 192\n",
      " 192 174 179 153 112 131 172 196 181 234 226 232 282 275 244 213 206 247\n",
      " 215 200 194 207 237 228 214 160 171 202 270 299 311 287 264 309 271 276\n",
      " 262 305 279 287 303 291 274 260 266 229 243 240 209 190 164 167 147 128\n",
      " 120 106 102  72  96  89  83  88  80  93 111 123 131 129 100 118 119 116\n",
      " 154 136 165 205 212 218 204 258 253 265 221 236 239 250 223 222 219 191\n",
      " 210 195 211 195 208]\n",
      "continuous\n",
      "multiclass\n"
     ]
    }
   ],
   "source": [
    "# normalize features\n",
    "mm = MinMaxScaler(feature_range=(0, 1))\n",
    "scaled = mm.fit_transform(shiftRightSeries)\n",
    "\n",
    "X_new=scaled[:,:-1]\n",
    "y_new=scaled[:,-1]\n",
    "lab_enc = preprocessing.LabelEncoder()\n",
    "y_scores_encoded_new = lab_enc.fit_transform(y_new)\n",
    "print(y_scores_encoded_new)\n",
    "print(utils.multiclass.type_of_target(y_new))\n",
    "print(utils.multiclass.type_of_target(y_scores_encoded))"
   ]
  },
  {
   "cell_type": "code",
   "execution_count": 30,
   "metadata": {},
   "outputs": [
    {
     "name": "stdout",
     "output_type": "stream",
     "text": [
      "           Specs      Score\n",
      "4         VIX(t)  53.185088\n",
      "0   Adj_Close(t)  48.689289\n",
      "1        Open(t)  48.689289\n",
      "2      Volume(t)  45.699404\n"
     ]
    },
    {
     "data": {
      "image/png": "[encoded data removed]",
      "text/plain": [
       "<Figure size 432x288 with 1 Axes>"
      ]
     },
     "metadata": {
      "needs_background": "light"
     },
     "output_type": "display_data"
    },
    {
     "data": {
      "image/png": "[encoded data removed]",
      "text/plain": [
       "<Figure size 432x288 with 1 Axes>"
      ]
     },
     "metadata": {
      "needs_background": "light"
     },
     "output_type": "display_data"
    },
    {
     "name": "stdout",
     "output_type": "stream",
     "text": [
      "           Specs      Score\n",
      "0   Adj_Close(t)  48.689289\n",
      "1        Open(t)  48.689289\n",
      "2      Volume(t)  45.699404\n",
      "3     Savings(t)  24.583340\n",
      "4         VIX(t)  53.185088\n"
     ]
    }
   ],
   "source": [
    "#plot graph of feature importances for better visualization\n",
    "#feat_importances = pd.Series(featureScores['Score'],index=featureScores['Specs'])\n",
    "#apply SelectKBest class to extract top best features\n",
    "bestfeatures = SelectKBest(score_func=chi2, k=4)\n",
    "fit = bestfeatures.fit(X_new,y_scores_encoded_new)\n",
    "dfscores = pd.DataFrame(fit.scores_)\n",
    "dfcolumns = pd.DataFrame(X.columns)\n",
    "#concat two dataframes for better visualization \n",
    "featureScores = pd.concat([dfcolumns,dfscores],axis=1)\n",
    "featureScores.columns = ['Specs','Score']  #naming the dataframe columns\n",
    "print(featureScores.nlargest(4,'Score'))  #print 10 best features\n",
    "plt.barh(featureScores['Specs'],featureScores['Score'], color = 'salmon')\n",
    "plt.show()\n",
    "featureScores['Score'].nlargest(4).plot(kind='barh', color = 'salmon')\n",
    "plt.show()\n",
    "print(featureScores)"
   ]
  },
  {
   "cell_type": "code",
   "execution_count": 31,
   "metadata": {
    "scrolled": true
   },
   "outputs": [
    {
     "data": {
      "image/png": "[encoded data removed]",
      "text/plain": [
       "<Figure size 576x576 with 2 Axes>"
      ]
     },
     "metadata": {
      "needs_background": "light"
     },
     "output_type": "display_data"
    }
   ],
   "source": [
    "#get correlations of each features in dataset\n",
    "corrmat = shiftRightSeries.corr()\n",
    "top_corr_features = corrmat.index\n",
    "plt.figure(figsize=(8,8))\n",
    "#plot heat map\n",
    "g=sns.heatmap(shiftRightSeries[top_corr_features].corr(),annot=True,cmap='BuPu')"
   ]
  },
  {
   "cell_type": "markdown",
   "metadata": {},
   "source": [
    "---------------- The end of feature filtering ----------------- "
   ]
  },
  {
   "cell_type": "code",
   "execution_count": 32,
   "metadata": {},
   "outputs": [
    {
     "name": "stdout",
     "output_type": "stream",
     "text": [
      "             Adj_Close(t-5)   Open(t-5)   Volume(t-5)   Savings(t-5)  \\\n",
      "Date                                                                   \n",
      "2019-05-13       121.830002  121.830002    32231300.0            8.1   \n",
      "2019-05-20       120.370003  120.370003    23134500.0            8.1   \n",
      "\n",
      "             VIX(t-5)   Adj_Close(t-4)   Open(t-4)   Volume(t-4)  \\\n",
      "Date                                                               \n",
      "2019-05-13      13.18       120.370003  120.370003    23134500.0   \n",
      "2019-05-20      12.32       121.370003  121.370003    22858300.0   \n",
      "\n",
      "             Savings(t-4)   VIX(t-4)  ...   Adj_Close(t-1)   Open(t-1)  \\\n",
      "Date                                  ...                                \n",
      "2019-05-13            8.1      12.32  ...       121.430000  121.430000   \n",
      "2019-05-20            8.1      12.42  ...       120.650002  120.650002   \n",
      "\n",
      "             Volume(t-1)   Savings(t-1)   VIX(t-1)   Adj_Close(t)     Open(t)  \\\n",
      "Date                                                                            \n",
      "2019-05-13    21270600.0            8.0  15.440000     120.650002  120.650002   \n",
      "2019-05-20    39924600.0            8.0  20.549999     121.300003  121.300003   \n",
      "\n",
      "             Volume(t)   Savings(t)     VIX(t)  \n",
      "Date                                            \n",
      "2019-05-13  39924600.0          8.0  20.549999  \n",
      "2019-05-20  20312500.0          8.0  16.309999  \n",
      "\n",
      "[2 rows x 30 columns]\n"
     ]
    }
   ],
   "source": [
    "# reframing the time series to have (t-5) data in order to create LSTM time series model\n",
    "reframe_series_5=series_to_new_supervised(GLD_all,5,1)\n",
    "reframe_series_5=remove_columns_from_transformed_series(reframe_series_5,\"Adj_Close\",0,1)\n",
    "print(reframe_series_5.tail(2))"
   ]
  },
  {
   "cell_type": "code",
   "execution_count": 33,
   "metadata": {},
   "outputs": [],
   "source": [
    "t_features=len(GLD_all.columns)\n",
    "timesteps=5\n",
    "sequence=t_features*timesteps"
   ]
  },
  {
   "cell_type": "code",
   "execution_count": 34,
   "metadata": {},
   "outputs": [
    {
     "name": "stdout",
     "output_type": "stream",
     "text": [
      "             Adj_Close(t-5)   Open(t-5)   Volume(t-5)   Savings(t-5)  \\\n",
      "Date                                                                   \n",
      "2019-05-13       121.830002  121.830002    32231300.0            8.1   \n",
      "2019-05-20       120.370003  120.370003    23134500.0            8.1   \n",
      "\n",
      "             VIX(t-5)   Adj_Close(t-4)   Open(t-4)   Volume(t-4)  \\\n",
      "Date                                                               \n",
      "2019-05-13      13.18       120.370003  120.370003    23134500.0   \n",
      "2019-05-20      12.32       121.370003  121.370003    22858300.0   \n",
      "\n",
      "             Savings(t-4)   VIX(t-4)  ...   Open(t-2)   Volume(t-2)  \\\n",
      "Date                                  ...                             \n",
      "2019-05-13            8.1      12.32  ...  120.650002    36733700.0   \n",
      "2019-05-20            8.1      12.42  ...  121.430000    21270600.0   \n",
      "\n",
      "             Savings(t-2)   VIX(t-2)   Adj_Close(t-1)   Open(t-1)  \\\n",
      "Date                                                                \n",
      "2019-05-13            8.1      13.11       121.430000  121.430000   \n",
      "2019-05-20            8.0      15.44       120.650002  120.650002   \n",
      "\n",
      "             Volume(t-1)   Savings(t-1)   VIX(t-1)   Adj_Close(t)  \n",
      "Date                                                               \n",
      "2019-05-13    21270600.0            8.0  15.440000     120.650002  \n",
      "2019-05-20    39924600.0            8.0  20.549999     121.300003  \n",
      "\n",
      "[2 rows x 26 columns]\n"
     ]
    }
   ],
   "source": [
    "# Drop other columns from output other than Adj_Close(t)\n",
    "columns_to_remove=[]\n",
    "for i in range(sequence+1, len(reframe_series_5.columns)):\n",
    "    #print(reframe_series_5.columns[i])\n",
    "    columns_to_remove.append(reframe_series_5.columns[i])\n",
    "    \n",
    "reframe_series_5.drop(columns_to_remove, axis=1, inplace=True)\n",
    "print(reframe_series_5.tail(2))"
   ]
  },
  {
   "cell_type": "code",
   "execution_count": 35,
   "metadata": {},
   "outputs": [
    {
     "name": "stdout",
     "output_type": "stream",
     "text": [
      "(313, 25) (313,) (156, 25) (156,)\n",
      "Time Steps = 5\n",
      "Number of Features considered = 5\n"
     ]
    }
   ],
   "source": [
    "# ensure all data is float\n",
    "values=reframe_series_5.values\n",
    "values = values.astype('float32')\n",
    "\n",
    "# normalize features\n",
    "scaled_values = mm.fit_transform(values)\n",
    " \n",
    "# split into train and test sets\n",
    "TRAIN_SPLIT = 313\n",
    "train = scaled_values[:TRAIN_SPLIT,:]\n",
    "test = scaled_values[TRAIN_SPLIT:, :]\n",
    "\n",
    "# split into input and outputs\n",
    "train_X, train_y = train[:, :-1 ], train[:, -1]\n",
    "test_X, test_y = test[:, :-1], test[:, -1]\n",
    "print(train_X.shape, train_y.shape, test_X.shape, test_y.shape)\n",
    "print(\"Time Steps =\", timesteps)\n",
    "print(\"Number of Features considered =\", t_features)"
   ]
  },
  {
   "cell_type": "code",
   "execution_count": 36,
   "metadata": {},
   "outputs": [
    {
     "name": "stdout",
     "output_type": "stream",
     "text": [
      "(313, 5, 5) (313,) (156, 5, 5) (156,)\n"
     ]
    }
   ],
   "source": [
    "# reshape input to be 3D [samples, timesteps, features]\n",
    "\n",
    "train_X = train_X.reshape((train_X.shape[0], timesteps, t_features))\n",
    "test_X = test_X.reshape((test_X.shape[0], timesteps, t_features))\n",
    "print(train_X.shape, train_y.shape, test_X.shape, test_y.shape)"
   ]
  },
  {
   "cell_type": "code",
   "execution_count": 37,
   "metadata": {},
   "outputs": [],
   "source": [
    "NUM_NEURONS_FirstLayer = 64\n",
    "NUM_NEURONS_SecondLayer = 32\n",
    "EPOCHS = 200"
   ]
  },
  {
   "cell_type": "code",
   "execution_count": 38,
   "metadata": {},
   "outputs": [
    {
     "data": {
      "text/plain": [
       "(5, 5)"
      ]
     },
     "execution_count": 38,
     "metadata": {},
     "output_type": "execute_result"
    }
   ],
   "source": [
    "train_X.shape[1], train_X.shape[2]"
   ]
  },
  {
   "cell_type": "code",
   "execution_count": 39,
   "metadata": {},
   "outputs": [
    {
     "name": "stderr",
     "output_type": "stream",
     "text": [
      "WARNING: Logging before flag parsing goes to stderr.\n",
      "W0904 16:03:42.080402 4572923328 deprecation_wrapper.py:119] From //anaconda3/lib/python3.7/site-packages/keras/backend/tensorflow_backend.py:74: The name tf.get_default_graph is deprecated. Please use tf.compat.v1.get_default_graph instead.\n",
      "\n",
      "W0904 16:03:42.114109 4572923328 deprecation_wrapper.py:119] From //anaconda3/lib/python3.7/site-packages/keras/backend/tensorflow_backend.py:517: The name tf.placeholder is deprecated. Please use tf.compat.v1.placeholder instead.\n",
      "\n",
      "W0904 16:03:42.117074 4572923328 deprecation_wrapper.py:119] From //anaconda3/lib/python3.7/site-packages/keras/backend/tensorflow_backend.py:4138: The name tf.random_uniform is deprecated. Please use tf.random.uniform instead.\n",
      "\n",
      "W0904 16:03:42.509782 4572923328 deprecation_wrapper.py:119] From //anaconda3/lib/python3.7/site-packages/keras/backend/tensorflow_backend.py:133: The name tf.placeholder_with_default is deprecated. Please use tf.compat.v1.placeholder_with_default instead.\n",
      "\n",
      "W0904 16:03:42.514455 4572923328 deprecation.py:506] From //anaconda3/lib/python3.7/site-packages/keras/backend/tensorflow_backend.py:3445: calling dropout (from tensorflow.python.ops.nn_ops) with keep_prob is deprecated and will be removed in a future version.\n",
      "Instructions for updating:\n",
      "Please use `rate` instead of `keep_prob`. Rate should be set to `rate = 1 - keep_prob`.\n",
      "W0904 16:03:42.532900 4572923328 deprecation_wrapper.py:119] From //anaconda3/lib/python3.7/site-packages/keras/optimizers.py:790: The name tf.train.Optimizer is deprecated. Please use tf.compat.v1.train.Optimizer instead.\n",
      "\n",
      "W0904 16:03:42.746864 4572923328 deprecation.py:323] From //anaconda3/lib/python3.7/site-packages/tensorflow/python/ops/math_grad.py:1250: add_dispatch_support.<locals>.wrapper (from tensorflow.python.ops.array_ops) is deprecated and will be removed in a future version.\n",
      "Instructions for updating:\n",
      "Use tf.where in 2.0, which has the same broadcast rule as np.where\n",
      "W0904 16:03:43.741936 4572923328 deprecation_wrapper.py:119] From //anaconda3/lib/python3.7/site-packages/keras/backend/tensorflow_backend.py:986: The name tf.assign_add is deprecated. Please use tf.compat.v1.assign_add instead.\n",
      "\n"
     ]
    },
    {
     "name": "stdout",
     "output_type": "stream",
     "text": [
      "Train on 313 samples, validate on 156 samples\n",
      "Epoch 1/200\n",
      " - 4s - loss: 0.1428 - mean_squared_error: 0.1428 - val_loss: 0.0013 - val_mean_squared_error: 0.0013\n",
      "Epoch 2/200\n",
      " - 0s - loss: 0.0219 - mean_squared_error: 0.0219 - val_loss: 0.0081 - val_mean_squared_error: 0.0081\n",
      "Epoch 3/200\n",
      " - 0s - loss: 0.0135 - mean_squared_error: 0.0135 - val_loss: 0.0014 - val_mean_squared_error: 0.0014\n",
      "Epoch 4/200\n",
      " - 0s - loss: 0.0085 - mean_squared_error: 0.0085 - val_loss: 0.0037 - val_mean_squared_error: 0.0037\n",
      "Epoch 5/200\n",
      " - 0s - loss: 0.0070 - mean_squared_error: 0.0070 - val_loss: 0.0011 - val_mean_squared_error: 0.0011\n",
      "Epoch 6/200\n",
      " - 0s - loss: 0.0054 - mean_squared_error: 0.0054 - val_loss: 0.0013 - val_mean_squared_error: 0.0013\n",
      "Epoch 7/200\n",
      " - 0s - loss: 0.0050 - mean_squared_error: 0.0050 - val_loss: 0.0012 - val_mean_squared_error: 0.0012\n",
      "Epoch 8/200\n",
      " - 0s - loss: 0.0046 - mean_squared_error: 0.0046 - val_loss: 0.0012 - val_mean_squared_error: 0.0012\n",
      "Epoch 9/200\n",
      " - 0s - loss: 0.0044 - mean_squared_error: 0.0044 - val_loss: 0.0012 - val_mean_squared_error: 0.0012\n",
      "Epoch 10/200\n",
      " - 0s - loss: 0.0050 - mean_squared_error: 0.0050 - val_loss: 0.0012 - val_mean_squared_error: 0.0012\n",
      "Epoch 11/200\n",
      " - 0s - loss: 0.0044 - mean_squared_error: 0.0044 - val_loss: 0.0012 - val_mean_squared_error: 0.0012\n",
      "Epoch 12/200\n",
      " - 0s - loss: 0.0053 - mean_squared_error: 0.0053 - val_loss: 0.0012 - val_mean_squared_error: 0.0012\n",
      "Epoch 13/200\n",
      " - 0s - loss: 0.0048 - mean_squared_error: 0.0048 - val_loss: 0.0014 - val_mean_squared_error: 0.0014\n",
      "Epoch 14/200\n",
      " - 0s - loss: 0.0045 - mean_squared_error: 0.0045 - val_loss: 0.0013 - val_mean_squared_error: 0.0013\n",
      "Epoch 15/200\n",
      " - 0s - loss: 0.0046 - mean_squared_error: 0.0046 - val_loss: 0.0012 - val_mean_squared_error: 0.0012\n",
      "Epoch 16/200\n",
      " - 0s - loss: 0.0044 - mean_squared_error: 0.0044 - val_loss: 0.0015 - val_mean_squared_error: 0.0015\n",
      "Epoch 17/200\n",
      " - 0s - loss: 0.0053 - mean_squared_error: 0.0053 - val_loss: 0.0014 - val_mean_squared_error: 0.0014\n",
      "Epoch 18/200\n",
      " - 0s - loss: 0.0060 - mean_squared_error: 0.0060 - val_loss: 0.0013 - val_mean_squared_error: 0.0013\n",
      "Epoch 19/200\n",
      " - 0s - loss: 0.0045 - mean_squared_error: 0.0045 - val_loss: 0.0012 - val_mean_squared_error: 0.0012\n",
      "Epoch 20/200\n",
      " - 0s - loss: 0.0043 - mean_squared_error: 0.0043 - val_loss: 0.0012 - val_mean_squared_error: 0.0012\n",
      "Epoch 21/200\n",
      " - 0s - loss: 0.0046 - mean_squared_error: 0.0046 - val_loss: 0.0012 - val_mean_squared_error: 0.0012\n",
      "Epoch 22/200\n",
      " - 0s - loss: 0.0044 - mean_squared_error: 0.0044 - val_loss: 0.0012 - val_mean_squared_error: 0.0012\n",
      "Epoch 23/200\n",
      " - 0s - loss: 0.0043 - mean_squared_error: 0.0043 - val_loss: 0.0016 - val_mean_squared_error: 0.0016\n",
      "Epoch 24/200\n",
      " - 0s - loss: 0.0048 - mean_squared_error: 0.0048 - val_loss: 0.0012 - val_mean_squared_error: 0.0012\n",
      "Epoch 25/200\n",
      " - 0s - loss: 0.0039 - mean_squared_error: 0.0039 - val_loss: 0.0013 - val_mean_squared_error: 0.0013\n",
      "Epoch 26/200\n",
      " - 0s - loss: 0.0038 - mean_squared_error: 0.0038 - val_loss: 0.0014 - val_mean_squared_error: 0.0014\n",
      "Epoch 27/200\n",
      " - 0s - loss: 0.0036 - mean_squared_error: 0.0036 - val_loss: 0.0012 - val_mean_squared_error: 0.0012\n",
      "Epoch 28/200\n",
      " - 0s - loss: 0.0041 - mean_squared_error: 0.0041 - val_loss: 0.0012 - val_mean_squared_error: 0.0012\n",
      "Epoch 29/200\n",
      " - 0s - loss: 0.0043 - mean_squared_error: 0.0043 - val_loss: 0.0016 - val_mean_squared_error: 0.0016\n",
      "Epoch 30/200\n",
      " - 0s - loss: 0.0044 - mean_squared_error: 0.0044 - val_loss: 0.0011 - val_mean_squared_error: 0.0011\n",
      "Epoch 31/200\n",
      " - 0s - loss: 0.0044 - mean_squared_error: 0.0044 - val_loss: 0.0016 - val_mean_squared_error: 0.0016\n",
      "Epoch 32/200\n",
      " - 0s - loss: 0.0044 - mean_squared_error: 0.0044 - val_loss: 0.0012 - val_mean_squared_error: 0.0012\n",
      "Epoch 33/200\n",
      " - 0s - loss: 0.0037 - mean_squared_error: 0.0037 - val_loss: 0.0011 - val_mean_squared_error: 0.0011\n",
      "Epoch 34/200\n",
      " - 0s - loss: 0.0040 - mean_squared_error: 0.0040 - val_loss: 0.0011 - val_mean_squared_error: 0.0011\n",
      "Epoch 35/200\n",
      " - 0s - loss: 0.0042 - mean_squared_error: 0.0042 - val_loss: 0.0013 - val_mean_squared_error: 0.0013\n",
      "Epoch 36/200\n",
      " - 0s - loss: 0.0040 - mean_squared_error: 0.0040 - val_loss: 0.0011 - val_mean_squared_error: 0.0011\n",
      "Epoch 37/200\n",
      " - 0s - loss: 0.0039 - mean_squared_error: 0.0039 - val_loss: 0.0012 - val_mean_squared_error: 0.0012\n",
      "Epoch 38/200\n",
      " - 0s - loss: 0.0041 - mean_squared_error: 0.0041 - val_loss: 0.0011 - val_mean_squared_error: 0.0011\n",
      "Epoch 39/200\n",
      " - 0s - loss: 0.0040 - mean_squared_error: 0.0040 - val_loss: 0.0012 - val_mean_squared_error: 0.0012\n",
      "Epoch 40/200\n",
      " - 0s - loss: 0.0042 - mean_squared_error: 0.0042 - val_loss: 0.0014 - val_mean_squared_error: 0.0014\n",
      "Epoch 41/200\n",
      " - 0s - loss: 0.0037 - mean_squared_error: 0.0037 - val_loss: 0.0013 - val_mean_squared_error: 0.0013\n",
      "Epoch 42/200\n",
      " - 0s - loss: 0.0034 - mean_squared_error: 0.0034 - val_loss: 0.0012 - val_mean_squared_error: 0.0012\n",
      "Epoch 43/200\n",
      " - 0s - loss: 0.0037 - mean_squared_error: 0.0037 - val_loss: 0.0012 - val_mean_squared_error: 0.0012\n",
      "Epoch 44/200\n",
      " - 0s - loss: 0.0047 - mean_squared_error: 0.0047 - val_loss: 0.0012 - val_mean_squared_error: 0.0012\n",
      "Epoch 45/200\n",
      " - 0s - loss: 0.0041 - mean_squared_error: 0.0041 - val_loss: 0.0012 - val_mean_squared_error: 0.0012\n",
      "Epoch 46/200\n",
      " - 0s - loss: 0.0035 - mean_squared_error: 0.0035 - val_loss: 0.0012 - val_mean_squared_error: 0.0012\n",
      "Epoch 47/200\n",
      " - 0s - loss: 0.0038 - mean_squared_error: 0.0038 - val_loss: 0.0012 - val_mean_squared_error: 0.0012\n",
      "Epoch 48/200\n",
      " - 0s - loss: 0.0034 - mean_squared_error: 0.0034 - val_loss: 0.0018 - val_mean_squared_error: 0.0018\n",
      "Epoch 49/200\n",
      " - 0s - loss: 0.0039 - mean_squared_error: 0.0039 - val_loss: 0.0016 - val_mean_squared_error: 0.0016\n",
      "Epoch 50/200\n",
      " - 0s - loss: 0.0040 - mean_squared_error: 0.0040 - val_loss: 0.0011 - val_mean_squared_error: 0.0011\n",
      "Epoch 51/200\n",
      " - 0s - loss: 0.0036 - mean_squared_error: 0.0036 - val_loss: 0.0012 - val_mean_squared_error: 0.0012\n",
      "Epoch 52/200\n",
      " - 0s - loss: 0.0037 - mean_squared_error: 0.0037 - val_loss: 0.0011 - val_mean_squared_error: 0.0011\n",
      "Epoch 53/200\n",
      " - 0s - loss: 0.0037 - mean_squared_error: 0.0037 - val_loss: 0.0012 - val_mean_squared_error: 0.0012\n",
      "Epoch 54/200\n",
      " - 0s - loss: 0.0034 - mean_squared_error: 0.0034 - val_loss: 0.0011 - val_mean_squared_error: 0.0011\n",
      "Epoch 55/200\n",
      " - 0s - loss: 0.0033 - mean_squared_error: 0.0033 - val_loss: 0.0013 - val_mean_squared_error: 0.0013\n",
      "Epoch 56/200\n",
      " - 0s - loss: 0.0034 - mean_squared_error: 0.0034 - val_loss: 0.0011 - val_mean_squared_error: 0.0011\n",
      "Epoch 57/200\n",
      " - 0s - loss: 0.0033 - mean_squared_error: 0.0033 - val_loss: 0.0011 - val_mean_squared_error: 0.0011\n",
      "Epoch 58/200\n",
      " - 0s - loss: 0.0035 - mean_squared_error: 0.0035 - val_loss: 0.0017 - val_mean_squared_error: 0.0017\n",
      "Epoch 59/200\n",
      " - 0s - loss: 0.0035 - mean_squared_error: 0.0035 - val_loss: 0.0012 - val_mean_squared_error: 0.0012\n",
      "Epoch 60/200\n",
      " - 0s - loss: 0.0033 - mean_squared_error: 0.0033 - val_loss: 0.0011 - val_mean_squared_error: 0.0011\n",
      "Epoch 61/200\n",
      " - 0s - loss: 0.0028 - mean_squared_error: 0.0028 - val_loss: 0.0011 - val_mean_squared_error: 0.0011\n",
      "Epoch 62/200\n",
      " - 0s - loss: 0.0038 - mean_squared_error: 0.0038 - val_loss: 0.0010 - val_mean_squared_error: 0.0010\n",
      "Epoch 63/200\n",
      " - 0s - loss: 0.0028 - mean_squared_error: 0.0028 - val_loss: 0.0011 - val_mean_squared_error: 0.0011\n",
      "Epoch 64/200\n",
      " - 0s - loss: 0.0029 - mean_squared_error: 0.0029 - val_loss: 0.0012 - val_mean_squared_error: 0.0012\n",
      "Epoch 65/200\n",
      " - 0s - loss: 0.0032 - mean_squared_error: 0.0032 - val_loss: 0.0010 - val_mean_squared_error: 0.0010\n",
      "Epoch 66/200\n",
      " - 0s - loss: 0.0024 - mean_squared_error: 0.0024 - val_loss: 0.0011 - val_mean_squared_error: 0.0011\n",
      "Epoch 67/200\n",
      " - 0s - loss: 0.0028 - mean_squared_error: 0.0028 - val_loss: 0.0010 - val_mean_squared_error: 0.0010\n",
      "Epoch 68/200\n",
      " - 0s - loss: 0.0031 - mean_squared_error: 0.0031 - val_loss: 0.0011 - val_mean_squared_error: 0.0011\n",
      "Epoch 69/200\n",
      " - 0s - loss: 0.0033 - mean_squared_error: 0.0033 - val_loss: 0.0012 - val_mean_squared_error: 0.0012\n",
      "Epoch 70/200\n",
      " - 0s - loss: 0.0031 - mean_squared_error: 0.0031 - val_loss: 0.0010 - val_mean_squared_error: 0.0010\n",
      "Epoch 71/200\n",
      " - 0s - loss: 0.0032 - mean_squared_error: 0.0032 - val_loss: 0.0011 - val_mean_squared_error: 0.0011\n"
     ]
    },
    {
     "name": "stdout",
     "output_type": "stream",
     "text": [
      "Epoch 72/200\n",
      " - 0s - loss: 0.0032 - mean_squared_error: 0.0032 - val_loss: 0.0010 - val_mean_squared_error: 0.0010\n",
      "Epoch 73/200\n",
      " - 0s - loss: 0.0032 - mean_squared_error: 0.0032 - val_loss: 0.0012 - val_mean_squared_error: 0.0012\n",
      "Epoch 74/200\n",
      " - 0s - loss: 0.0030 - mean_squared_error: 0.0030 - val_loss: 0.0010 - val_mean_squared_error: 0.0010\n",
      "Epoch 75/200\n",
      " - 0s - loss: 0.0032 - mean_squared_error: 0.0032 - val_loss: 0.0010 - val_mean_squared_error: 0.0010\n",
      "Epoch 76/200\n",
      " - 0s - loss: 0.0032 - mean_squared_error: 0.0032 - val_loss: 0.0010 - val_mean_squared_error: 0.0010\n",
      "Epoch 77/200\n",
      " - 0s - loss: 0.0030 - mean_squared_error: 0.0030 - val_loss: 0.0011 - val_mean_squared_error: 0.0011\n",
      "Epoch 78/200\n",
      " - 0s - loss: 0.0027 - mean_squared_error: 0.0027 - val_loss: 0.0011 - val_mean_squared_error: 0.0011\n",
      "Epoch 79/200\n",
      " - 0s - loss: 0.0033 - mean_squared_error: 0.0033 - val_loss: 0.0011 - val_mean_squared_error: 0.0011\n",
      "Epoch 80/200\n",
      " - 0s - loss: 0.0027 - mean_squared_error: 0.0027 - val_loss: 0.0010 - val_mean_squared_error: 0.0010\n",
      "Epoch 81/200\n",
      " - 0s - loss: 0.0028 - mean_squared_error: 0.0028 - val_loss: 0.0010 - val_mean_squared_error: 0.0010\n",
      "Epoch 82/200\n",
      " - 0s - loss: 0.0027 - mean_squared_error: 0.0027 - val_loss: 0.0011 - val_mean_squared_error: 0.0011\n",
      "Epoch 83/200\n",
      " - 0s - loss: 0.0025 - mean_squared_error: 0.0025 - val_loss: 0.0011 - val_mean_squared_error: 0.0011\n",
      "Epoch 84/200\n",
      " - 0s - loss: 0.0030 - mean_squared_error: 0.0030 - val_loss: 0.0010 - val_mean_squared_error: 0.0010\n",
      "Epoch 85/200\n",
      " - 0s - loss: 0.0026 - mean_squared_error: 0.0026 - val_loss: 0.0010 - val_mean_squared_error: 0.0010\n",
      "Epoch 86/200\n",
      " - 0s - loss: 0.0025 - mean_squared_error: 0.0025 - val_loss: 0.0010 - val_mean_squared_error: 0.0010\n",
      "Epoch 87/200\n",
      " - 0s - loss: 0.0025 - mean_squared_error: 0.0025 - val_loss: 0.0011 - val_mean_squared_error: 0.0011\n",
      "Epoch 88/200\n",
      " - 0s - loss: 0.0029 - mean_squared_error: 0.0029 - val_loss: 0.0011 - val_mean_squared_error: 0.0011\n",
      "Epoch 89/200\n",
      " - 0s - loss: 0.0028 - mean_squared_error: 0.0028 - val_loss: 9.9125e-04 - val_mean_squared_error: 9.9125e-04\n",
      "Epoch 90/200\n",
      " - 0s - loss: 0.0026 - mean_squared_error: 0.0026 - val_loss: 0.0011 - val_mean_squared_error: 0.0011\n",
      "Epoch 91/200\n",
      " - 0s - loss: 0.0030 - mean_squared_error: 0.0030 - val_loss: 0.0010 - val_mean_squared_error: 0.0010\n",
      "Epoch 92/200\n",
      " - 0s - loss: 0.0028 - mean_squared_error: 0.0028 - val_loss: 9.9516e-04 - val_mean_squared_error: 9.9516e-04\n",
      "Epoch 93/200\n",
      " - 0s - loss: 0.0027 - mean_squared_error: 0.0027 - val_loss: 0.0011 - val_mean_squared_error: 0.0011\n",
      "Epoch 94/200\n",
      " - 0s - loss: 0.0029 - mean_squared_error: 0.0029 - val_loss: 0.0011 - val_mean_squared_error: 0.0011\n",
      "Epoch 95/200\n",
      " - 0s - loss: 0.0029 - mean_squared_error: 0.0029 - val_loss: 0.0010 - val_mean_squared_error: 0.0010\n",
      "Epoch 96/200\n",
      " - 0s - loss: 0.0024 - mean_squared_error: 0.0024 - val_loss: 0.0010 - val_mean_squared_error: 0.0010\n",
      "Epoch 97/200\n",
      " - 0s - loss: 0.0025 - mean_squared_error: 0.0025 - val_loss: 0.0012 - val_mean_squared_error: 0.0012\n",
      "Epoch 98/200\n",
      " - 0s - loss: 0.0023 - mean_squared_error: 0.0023 - val_loss: 0.0011 - val_mean_squared_error: 0.0011\n",
      "Epoch 99/200\n",
      " - 0s - loss: 0.0025 - mean_squared_error: 0.0025 - val_loss: 0.0010 - val_mean_squared_error: 0.0010\n",
      "Epoch 100/200\n",
      " - 0s - loss: 0.0031 - mean_squared_error: 0.0031 - val_loss: 0.0014 - val_mean_squared_error: 0.0014\n",
      "Epoch 101/200\n",
      " - 0s - loss: 0.0032 - mean_squared_error: 0.0032 - val_loss: 0.0011 - val_mean_squared_error: 0.0011\n",
      "Epoch 102/200\n",
      " - 0s - loss: 0.0025 - mean_squared_error: 0.0025 - val_loss: 0.0010 - val_mean_squared_error: 0.0010\n",
      "Epoch 103/200\n",
      " - 0s - loss: 0.0025 - mean_squared_error: 0.0025 - val_loss: 9.7726e-04 - val_mean_squared_error: 9.7726e-04\n",
      "Epoch 104/200\n",
      " - 0s - loss: 0.0024 - mean_squared_error: 0.0024 - val_loss: 0.0013 - val_mean_squared_error: 0.0013\n",
      "Epoch 105/200\n",
      " - 0s - loss: 0.0025 - mean_squared_error: 0.0025 - val_loss: 9.2922e-04 - val_mean_squared_error: 9.2922e-04\n",
      "Epoch 106/200\n",
      " - 0s - loss: 0.0024 - mean_squared_error: 0.0024 - val_loss: 0.0010 - val_mean_squared_error: 0.0010\n",
      "Epoch 107/200\n",
      " - 0s - loss: 0.0024 - mean_squared_error: 0.0024 - val_loss: 0.0011 - val_mean_squared_error: 0.0011\n",
      "Epoch 108/200\n",
      " - 0s - loss: 0.0024 - mean_squared_error: 0.0024 - val_loss: 0.0011 - val_mean_squared_error: 0.0011\n",
      "Epoch 109/200\n",
      " - 0s - loss: 0.0023 - mean_squared_error: 0.0023 - val_loss: 0.0014 - val_mean_squared_error: 0.0014\n",
      "Epoch 110/200\n",
      " - 0s - loss: 0.0024 - mean_squared_error: 0.0024 - val_loss: 0.0011 - val_mean_squared_error: 0.0011\n",
      "Epoch 111/200\n",
      " - 0s - loss: 0.0026 - mean_squared_error: 0.0026 - val_loss: 9.6524e-04 - val_mean_squared_error: 9.6524e-04\n",
      "Epoch 112/200\n",
      " - 0s - loss: 0.0025 - mean_squared_error: 0.0025 - val_loss: 9.6980e-04 - val_mean_squared_error: 9.6980e-04\n",
      "Epoch 113/200\n",
      " - 0s - loss: 0.0024 - mean_squared_error: 0.0024 - val_loss: 0.0010 - val_mean_squared_error: 0.0010\n",
      "Epoch 114/200\n",
      " - 0s - loss: 0.0022 - mean_squared_error: 0.0022 - val_loss: 0.0010 - val_mean_squared_error: 0.0010\n",
      "Epoch 115/200\n",
      " - 0s - loss: 0.0023 - mean_squared_error: 0.0023 - val_loss: 0.0012 - val_mean_squared_error: 0.0012\n",
      "Epoch 116/200\n",
      " - 0s - loss: 0.0028 - mean_squared_error: 0.0028 - val_loss: 0.0013 - val_mean_squared_error: 0.0013\n",
      "Epoch 117/200\n",
      " - 0s - loss: 0.0031 - mean_squared_error: 0.0031 - val_loss: 0.0014 - val_mean_squared_error: 0.0014\n",
      "Epoch 118/200\n",
      " - 0s - loss: 0.0027 - mean_squared_error: 0.0027 - val_loss: 9.8235e-04 - val_mean_squared_error: 9.8235e-04\n",
      "Epoch 119/200\n",
      " - 0s - loss: 0.0027 - mean_squared_error: 0.0027 - val_loss: 0.0011 - val_mean_squared_error: 0.0011\n",
      "Epoch 120/200\n",
      " - 0s - loss: 0.0025 - mean_squared_error: 0.0025 - val_loss: 0.0011 - val_mean_squared_error: 0.0011\n",
      "Epoch 121/200\n",
      " - 0s - loss: 0.0021 - mean_squared_error: 0.0021 - val_loss: 9.7110e-04 - val_mean_squared_error: 9.7110e-04\n",
      "Epoch 122/200\n",
      " - 0s - loss: 0.0026 - mean_squared_error: 0.0026 - val_loss: 0.0011 - val_mean_squared_error: 0.0011\n",
      "Epoch 123/200\n",
      " - 0s - loss: 0.0021 - mean_squared_error: 0.0021 - val_loss: 0.0011 - val_mean_squared_error: 0.0011\n",
      "Epoch 124/200\n",
      " - 0s - loss: 0.0025 - mean_squared_error: 0.0025 - val_loss: 0.0011 - val_mean_squared_error: 0.0011\n",
      "Epoch 125/200\n",
      " - 0s - loss: 0.0024 - mean_squared_error: 0.0024 - val_loss: 9.3578e-04 - val_mean_squared_error: 9.3578e-04\n",
      "Epoch 126/200\n",
      " - 0s - loss: 0.0020 - mean_squared_error: 0.0020 - val_loss: 9.3843e-04 - val_mean_squared_error: 9.3843e-04\n",
      "Epoch 127/200\n",
      " - 0s - loss: 0.0023 - mean_squared_error: 0.0023 - val_loss: 0.0010 - val_mean_squared_error: 0.0010\n",
      "Epoch 128/200\n",
      " - 0s - loss: 0.0024 - mean_squared_error: 0.0024 - val_loss: 9.1406e-04 - val_mean_squared_error: 9.1406e-04\n",
      "Epoch 129/200\n",
      " - 0s - loss: 0.0021 - mean_squared_error: 0.0021 - val_loss: 0.0011 - val_mean_squared_error: 0.0011\n",
      "Epoch 130/200\n",
      " - 0s - loss: 0.0026 - mean_squared_error: 0.0026 - val_loss: 0.0014 - val_mean_squared_error: 0.0014\n",
      "Epoch 131/200\n",
      " - 0s - loss: 0.0021 - mean_squared_error: 0.0021 - val_loss: 8.9716e-04 - val_mean_squared_error: 8.9716e-04\n",
      "Epoch 132/200\n",
      " - 0s - loss: 0.0020 - mean_squared_error: 0.0020 - val_loss: 9.1333e-04 - val_mean_squared_error: 9.1333e-04\n",
      "Epoch 133/200\n",
      " - 0s - loss: 0.0020 - mean_squared_error: 0.0020 - val_loss: 8.9746e-04 - val_mean_squared_error: 8.9746e-04\n",
      "Epoch 134/200\n",
      " - 0s - loss: 0.0024 - mean_squared_error: 0.0024 - val_loss: 9.0243e-04 - val_mean_squared_error: 9.0243e-04\n",
      "Epoch 135/200\n",
      " - 0s - loss: 0.0021 - mean_squared_error: 0.0021 - val_loss: 9.4568e-04 - val_mean_squared_error: 9.4568e-04\n",
      "Epoch 136/200\n",
      " - 0s - loss: 0.0022 - mean_squared_error: 0.0022 - val_loss: 9.8845e-04 - val_mean_squared_error: 9.8845e-04\n",
      "Epoch 137/200\n",
      " - 0s - loss: 0.0024 - mean_squared_error: 0.0024 - val_loss: 9.6734e-04 - val_mean_squared_error: 9.6734e-04\n",
      "Epoch 138/200\n",
      " - 0s - loss: 0.0023 - mean_squared_error: 0.0023 - val_loss: 9.3310e-04 - val_mean_squared_error: 9.3310e-04\n",
      "Epoch 139/200\n",
      " - 0s - loss: 0.0023 - mean_squared_error: 0.0023 - val_loss: 0.0014 - val_mean_squared_error: 0.0014\n",
      "Epoch 140/200\n",
      " - 0s - loss: 0.0020 - mean_squared_error: 0.0020 - val_loss: 8.9647e-04 - val_mean_squared_error: 8.9647e-04\n",
      "Epoch 141/200\n",
      " - 0s - loss: 0.0020 - mean_squared_error: 0.0020 - val_loss: 9.7630e-04 - val_mean_squared_error: 9.7630e-04\n"
     ]
    },
    {
     "name": "stdout",
     "output_type": "stream",
     "text": [
      "Epoch 142/200\n",
      " - 0s - loss: 0.0023 - mean_squared_error: 0.0023 - val_loss: 9.2771e-04 - val_mean_squared_error: 9.2771e-04\n",
      "Epoch 143/200\n",
      " - 0s - loss: 0.0021 - mean_squared_error: 0.0021 - val_loss: 0.0011 - val_mean_squared_error: 0.0011\n",
      "Epoch 144/200\n",
      " - 0s - loss: 0.0021 - mean_squared_error: 0.0021 - val_loss: 8.9874e-04 - val_mean_squared_error: 8.9874e-04\n",
      "Epoch 145/200\n",
      " - 0s - loss: 0.0022 - mean_squared_error: 0.0022 - val_loss: 8.8843e-04 - val_mean_squared_error: 8.8843e-04\n",
      "Epoch 146/200\n",
      " - 0s - loss: 0.0022 - mean_squared_error: 0.0022 - val_loss: 9.1181e-04 - val_mean_squared_error: 9.1181e-04\n",
      "Epoch 147/200\n",
      " - 0s - loss: 0.0023 - mean_squared_error: 0.0023 - val_loss: 0.0011 - val_mean_squared_error: 0.0011\n",
      "Epoch 148/200\n",
      " - 0s - loss: 0.0027 - mean_squared_error: 0.0027 - val_loss: 8.8630e-04 - val_mean_squared_error: 8.8630e-04\n",
      "Epoch 149/200\n",
      " - 0s - loss: 0.0022 - mean_squared_error: 0.0022 - val_loss: 9.4475e-04 - val_mean_squared_error: 9.4475e-04\n",
      "Epoch 150/200\n",
      " - 0s - loss: 0.0024 - mean_squared_error: 0.0024 - val_loss: 8.7306e-04 - val_mean_squared_error: 8.7306e-04\n",
      "Epoch 151/200\n",
      " - 0s - loss: 0.0024 - mean_squared_error: 0.0024 - val_loss: 8.8488e-04 - val_mean_squared_error: 8.8488e-04\n",
      "Epoch 152/200\n",
      " - 0s - loss: 0.0023 - mean_squared_error: 0.0023 - val_loss: 9.2520e-04 - val_mean_squared_error: 9.2520e-04\n",
      "Epoch 153/200\n",
      " - 0s - loss: 0.0022 - mean_squared_error: 0.0022 - val_loss: 9.2161e-04 - val_mean_squared_error: 9.2161e-04\n",
      "Epoch 154/200\n",
      " - 0s - loss: 0.0019 - mean_squared_error: 0.0019 - val_loss: 8.8267e-04 - val_mean_squared_error: 8.8267e-04\n",
      "Epoch 155/200\n",
      " - 0s - loss: 0.0027 - mean_squared_error: 0.0027 - val_loss: 8.6756e-04 - val_mean_squared_error: 8.6756e-04\n",
      "Epoch 156/200\n",
      " - 0s - loss: 0.0022 - mean_squared_error: 0.0022 - val_loss: 0.0010 - val_mean_squared_error: 0.0010\n",
      "Epoch 157/200\n",
      " - 0s - loss: 0.0020 - mean_squared_error: 0.0020 - val_loss: 8.2567e-04 - val_mean_squared_error: 8.2567e-04\n",
      "Epoch 158/200\n",
      " - 0s - loss: 0.0021 - mean_squared_error: 0.0021 - val_loss: 9.9383e-04 - val_mean_squared_error: 9.9383e-04\n",
      "Epoch 159/200\n",
      " - 0s - loss: 0.0020 - mean_squared_error: 0.0020 - val_loss: 8.8554e-04 - val_mean_squared_error: 8.8554e-04\n",
      "Epoch 160/200\n",
      " - 0s - loss: 0.0020 - mean_squared_error: 0.0020 - val_loss: 8.5741e-04 - val_mean_squared_error: 8.5741e-04\n",
      "Epoch 161/200\n",
      " - 0s - loss: 0.0020 - mean_squared_error: 0.0020 - val_loss: 8.7029e-04 - val_mean_squared_error: 8.7029e-04\n",
      "Epoch 162/200\n",
      " - 0s - loss: 0.0022 - mean_squared_error: 0.0022 - val_loss: 8.5421e-04 - val_mean_squared_error: 8.5421e-04\n",
      "Epoch 163/200\n",
      " - 0s - loss: 0.0024 - mean_squared_error: 0.0024 - val_loss: 8.4708e-04 - val_mean_squared_error: 8.4708e-04\n",
      "Epoch 164/200\n",
      " - 0s - loss: 0.0018 - mean_squared_error: 0.0018 - val_loss: 8.6433e-04 - val_mean_squared_error: 8.6433e-04\n",
      "Epoch 165/200\n",
      " - 0s - loss: 0.0020 - mean_squared_error: 0.0020 - val_loss: 9.2429e-04 - val_mean_squared_error: 9.2429e-04\n",
      "Epoch 166/200\n",
      " - 0s - loss: 0.0018 - mean_squared_error: 0.0018 - val_loss: 8.4091e-04 - val_mean_squared_error: 8.4091e-04\n",
      "Epoch 167/200\n",
      " - 0s - loss: 0.0018 - mean_squared_error: 0.0018 - val_loss: 8.1427e-04 - val_mean_squared_error: 8.1427e-04\n",
      "Epoch 168/200\n",
      " - 0s - loss: 0.0020 - mean_squared_error: 0.0020 - val_loss: 0.0010 - val_mean_squared_error: 0.0010\n",
      "Epoch 169/200\n",
      " - 0s - loss: 0.0019 - mean_squared_error: 0.0019 - val_loss: 8.7248e-04 - val_mean_squared_error: 8.7248e-04\n",
      "Epoch 170/200\n",
      " - 0s - loss: 0.0021 - mean_squared_error: 0.0021 - val_loss: 8.5726e-04 - val_mean_squared_error: 8.5726e-04\n",
      "Epoch 171/200\n",
      " - 0s - loss: 0.0018 - mean_squared_error: 0.0018 - val_loss: 8.1494e-04 - val_mean_squared_error: 8.1494e-04\n",
      "Epoch 172/200\n",
      " - 0s - loss: 0.0024 - mean_squared_error: 0.0024 - val_loss: 8.2090e-04 - val_mean_squared_error: 8.2090e-04\n",
      "Epoch 173/200\n",
      " - 0s - loss: 0.0020 - mean_squared_error: 0.0020 - val_loss: 0.0013 - val_mean_squared_error: 0.0013\n",
      "Epoch 174/200\n",
      " - 0s - loss: 0.0021 - mean_squared_error: 0.0021 - val_loss: 8.6117e-04 - val_mean_squared_error: 8.6117e-04\n",
      "Epoch 175/200\n",
      " - 0s - loss: 0.0018 - mean_squared_error: 0.0018 - val_loss: 9.9077e-04 - val_mean_squared_error: 9.9077e-04\n",
      "Epoch 176/200\n",
      " - 0s - loss: 0.0022 - mean_squared_error: 0.0022 - val_loss: 0.0010 - val_mean_squared_error: 0.0010\n",
      "Epoch 177/200\n",
      " - 0s - loss: 0.0020 - mean_squared_error: 0.0020 - val_loss: 0.0013 - val_mean_squared_error: 0.0013\n",
      "Epoch 178/200\n",
      " - 0s - loss: 0.0023 - mean_squared_error: 0.0023 - val_loss: 0.0012 - val_mean_squared_error: 0.0012\n",
      "Epoch 179/200\n",
      " - 0s - loss: 0.0020 - mean_squared_error: 0.0020 - val_loss: 0.0012 - val_mean_squared_error: 0.0012\n",
      "Epoch 180/200\n",
      " - 0s - loss: 0.0022 - mean_squared_error: 0.0022 - val_loss: 0.0010 - val_mean_squared_error: 0.0010\n",
      "Epoch 181/200\n",
      " - 0s - loss: 0.0018 - mean_squared_error: 0.0018 - val_loss: 9.3537e-04 - val_mean_squared_error: 9.3537e-04\n",
      "Epoch 182/200\n",
      " - 0s - loss: 0.0021 - mean_squared_error: 0.0021 - val_loss: 7.9988e-04 - val_mean_squared_error: 7.9988e-04\n",
      "Epoch 183/200\n",
      " - 0s - loss: 0.0019 - mean_squared_error: 0.0019 - val_loss: 8.1171e-04 - val_mean_squared_error: 8.1171e-04\n",
      "Epoch 184/200\n",
      " - 0s - loss: 0.0019 - mean_squared_error: 0.0019 - val_loss: 8.0709e-04 - val_mean_squared_error: 8.0709e-04\n",
      "Epoch 185/200\n",
      " - 0s - loss: 0.0018 - mean_squared_error: 0.0018 - val_loss: 7.8821e-04 - val_mean_squared_error: 7.8821e-04\n",
      "Epoch 186/200\n",
      " - 0s - loss: 0.0017 - mean_squared_error: 0.0017 - val_loss: 8.9212e-04 - val_mean_squared_error: 8.9212e-04\n",
      "Epoch 187/200\n",
      " - 0s - loss: 0.0022 - mean_squared_error: 0.0022 - val_loss: 7.6032e-04 - val_mean_squared_error: 7.6032e-04\n",
      "Epoch 188/200\n",
      " - 0s - loss: 0.0018 - mean_squared_error: 0.0018 - val_loss: 8.0242e-04 - val_mean_squared_error: 8.0242e-04\n",
      "Epoch 189/200\n",
      " - 0s - loss: 0.0020 - mean_squared_error: 0.0020 - val_loss: 9.5435e-04 - val_mean_squared_error: 9.5435e-04\n",
      "Epoch 190/200\n",
      " - 0s - loss: 0.0019 - mean_squared_error: 0.0019 - val_loss: 7.6001e-04 - val_mean_squared_error: 7.6001e-04\n",
      "Epoch 191/200\n",
      " - 0s - loss: 0.0021 - mean_squared_error: 0.0021 - val_loss: 7.8829e-04 - val_mean_squared_error: 7.8829e-04\n",
      "Epoch 192/200\n",
      " - 0s - loss: 0.0020 - mean_squared_error: 0.0020 - val_loss: 7.8521e-04 - val_mean_squared_error: 7.8521e-04\n",
      "Epoch 193/200\n",
      " - 0s - loss: 0.0019 - mean_squared_error: 0.0019 - val_loss: 8.0166e-04 - val_mean_squared_error: 8.0166e-04\n",
      "Epoch 194/200\n",
      " - 0s - loss: 0.0017 - mean_squared_error: 0.0017 - val_loss: 8.0620e-04 - val_mean_squared_error: 8.0620e-04\n",
      "Epoch 195/200\n",
      " - 0s - loss: 0.0017 - mean_squared_error: 0.0017 - val_loss: 8.1505e-04 - val_mean_squared_error: 8.1505e-04\n",
      "Epoch 196/200\n",
      " - 0s - loss: 0.0017 - mean_squared_error: 0.0017 - val_loss: 8.0649e-04 - val_mean_squared_error: 8.0649e-04\n",
      "Epoch 197/200\n",
      " - 0s - loss: 0.0018 - mean_squared_error: 0.0018 - val_loss: 8.4762e-04 - val_mean_squared_error: 8.4762e-04\n",
      "Epoch 198/200\n",
      " - 0s - loss: 0.0018 - mean_squared_error: 0.0018 - val_loss: 8.5595e-04 - val_mean_squared_error: 8.5595e-04\n",
      "Epoch 199/200\n",
      " - 0s - loss: 0.0019 - mean_squared_error: 0.0019 - val_loss: 7.6606e-04 - val_mean_squared_error: 7.6606e-04\n",
      "Epoch 200/200\n",
      " - 0s - loss: 0.0020 - mean_squared_error: 0.0020 - val_loss: 7.7662e-04 - val_mean_squared_error: 7.7662e-04\n"
     ]
    }
   ],
   "source": [
    "# design LSTM network\n",
    "\n",
    "model = Sequential()\n",
    "model.add(LSTM(NUM_NEURONS_FirstLayer, return_sequences = True, input_shape=(train_X.shape[1], train_X.shape[2])))\n",
    "#model.add(LSTM(NUM_NEURONS_SecondLayer, input_shape=(train_X.shape[1], train_X.shape[2]),return_sequences=False))\n",
    "model.add(LSTM(NUM_NEURONS_SecondLayer, input_shape=(NUM_NEURONS_FirstLayer,train_X.shape[2]),return_sequences=False))\n",
    "\n",
    "#model.add(LSTM(NUM_NEURONS_SecondLayer, train_X.shape[1]))\n",
    "model.add(Dropout(0.1))\n",
    "model.add(Dense(1))\n",
    "model.compile(loss='mse', optimizer='adam',metrics=['mse'])\n",
    "\n",
    " # fit network\n",
    "history = model.fit(train_X, train_y, epochs=EPOCHS, batch_size=25, validation_data=(test_X, test_y), shuffle=True, verbose=2)"
   ]
  },
  {
   "cell_type": "code",
   "execution_count": 40,
   "metadata": {},
   "outputs": [
    {
     "name": "stdout",
     "output_type": "stream",
     "text": [
      "(156, 25)\n"
     ]
    }
   ],
   "source": [
    "# make a prediction\n",
    "inv_ypred = model.predict(test_X)\n",
    "# inverse reshape of test_X array\n",
    "test_X = test_X.reshape((test_X.shape[0], sequence))\n",
    "print (test_X.shape)"
   ]
  },
  {
   "cell_type": "code",
   "execution_count": 41,
   "metadata": {},
   "outputs": [
    {
     "name": "stdout",
     "output_type": "stream",
     "text": [
      "(156, 26)\n"
     ]
    }
   ],
   "source": [
    "# invert scaling for forecast\n",
    "inv_ypred = np.concatenate((test_X[:, :], inv_ypred), axis=1)\n",
    "print(inv_ypred.shape)\n",
    "inv_ypred = mm.inverse_transform(inv_ypred)\n",
    "inv_ypred = inv_ypred[:,-1]"
   ]
  },
  {
   "cell_type": "code",
   "execution_count": 42,
   "metadata": {},
   "outputs": [],
   "source": [
    "# invert scaling for actual\n",
    "test_y = test_y.reshape((len(test_y), 1))\n",
    "inv_y = np.concatenate((test_X[:, :], test_y), axis=1)\n",
    "inv_y = mm.inverse_transform(inv_y)\n",
    "inv_y = inv_y[:,-1]"
   ]
  },
  {
   "cell_type": "code",
   "execution_count": 43,
   "metadata": {},
   "outputs": [
    {
     "data": {
      "image/png": "[encoded data removed]",
      "text/plain": [
       "<Figure size 1080x720 with 1 Axes>"
      ]
     },
     "metadata": {
      "needs_background": "light"
     },
     "output_type": "display_data"
    }
   ],
   "source": [
    "# Plot actual v. predicted\n",
    "plt.figure(figsize=(15, 10))\n",
    "plt.plot(inv_y, label='GLD Actual')\n",
    "plt.plot(inv_ypred, label='GLD predicted')\n",
    "plt.legend()\n",
    "plt.show()"
   ]
  },
  {
   "cell_type": "code",
   "execution_count": 44,
   "metadata": {},
   "outputs": [
    {
     "ename": "NameError",
     "evalue": "name 'model1' is not defined",
     "output_type": "error",
     "traceback": [
      "\u001b[0;31m---------------------------------------------------------------------------\u001b[0m",
      "\u001b[0;31mNameError\u001b[0m                                 Traceback (most recent call last)",
      "\u001b[0;32m<ipython-input-44-4e43f24aa6bf>\u001b[0m in \u001b[0;36m<module>\u001b[0;34m\u001b[0m\n\u001b[1;32m      8\u001b[0m     \u001b[0;32mreturn\u001b[0m\u001b[0;34m(\u001b[0m\u001b[0mscore\u001b[0m\u001b[0;34m,\u001b[0m \u001b[0mpred\u001b[0m\u001b[0;34m)\u001b[0m\u001b[0;34m\u001b[0m\u001b[0;34m\u001b[0m\u001b[0m\n\u001b[1;32m      9\u001b[0m \u001b[0;34m\u001b[0m\u001b[0m\n\u001b[0;32m---> 10\u001b[0;31m \u001b[0mrmse_train\u001b[0m\u001b[0;34m,\u001b[0m \u001b[0mtrain_predict\u001b[0m \u001b[0;34m=\u001b[0m \u001b[0mpredict_and_score\u001b[0m\u001b[0;34m(\u001b[0m\u001b[0mmodel1\u001b[0m\u001b[0;34m,\u001b[0m \u001b[0mtrain_X\u001b[0m\u001b[0;34m,\u001b[0m \u001b[0mtrain_Y\u001b[0m\u001b[0;34m)\u001b[0m\u001b[0;34m\u001b[0m\u001b[0;34m\u001b[0m\u001b[0m\n\u001b[0m\u001b[1;32m     11\u001b[0m \u001b[0mrmse_test\u001b[0m\u001b[0;34m,\u001b[0m \u001b[0mtest_predict\u001b[0m \u001b[0;34m=\u001b[0m \u001b[0mpredict_and_score\u001b[0m\u001b[0;34m(\u001b[0m\u001b[0mmodel1\u001b[0m\u001b[0;34m,\u001b[0m \u001b[0mtest_X\u001b[0m\u001b[0;34m,\u001b[0m \u001b[0mtest_Y\u001b[0m\u001b[0;34m)\u001b[0m\u001b[0;34m\u001b[0m\u001b[0;34m\u001b[0m\u001b[0m\n\u001b[1;32m     12\u001b[0m \u001b[0;34m\u001b[0m\u001b[0m\n",
      "\u001b[0;31mNameError\u001b[0m: name 'model1' is not defined"
     ]
    }
   ],
   "source": [
    "def predict_and_score(model, X, Y):\n",
    "    # Make predictions on the original scale of the data.\n",
    "    pred = mm.inverse_transform(model.predict(X))\n",
    "    # Prepare Y data to also be on the original scale for interpretability.\n",
    "    orig_data = mm.inverse_transform([Y])\n",
    "    # Calculate RMSE.\n",
    "    score = math.sqrt(mean_squared_error(orig_data[0], pred[:, 0]))\n",
    "    return(score, pred)\n",
    "\n",
    "rmse_train, train_predict = predict_and_score(model1, train_X, train_Y)\n",
    "rmse_test, test_predict = predict_and_score(model1, test_X, test_Y)\n",
    "\n",
    "print(\"Training data score: %.2f RMSE\" % rmse_train)\n",
    "print(\"Test data score: %.2f RMSE\" % rmse_test)"
   ]
  },
  {
   "cell_type": "code",
   "execution_count": null,
   "metadata": {},
   "outputs": [],
   "source": [
    "# Evaluating the model\n",
    "def evaluate_model(model,test,timesteps):\n",
    "    X_test = []\n",
    "    Y_test = []\n",
    "\n",
    "    # Loop for testing data\n",
    "    for i in range(timesteps,test.shape[0]):\n",
    "        X_test.append(test[i-timesteps:i])\n",
    "        Y_test.append(test[i])\n",
    "    X_test,Y_test = np.array(X_test),np.array(Y_test)\n",
    "    #print(X_test.shape,Y_test.shape)\n",
    "  \n",
    "    # Prediction Time !!!!\n",
    "    Y_hat = model.predict(X_test)\n",
    "    mse = mean_squared_error(Y_test,Y_hat)\n",
    "    rmse = sqrt(mse)\n",
    "    r2 = r2_score(Y_test,Y_hat)\n",
    "    return mse, rmse, r2, Y_test, Y_hat\n",
    "  "
   ]
  }
 ],
 "metadata": {
  "kernelspec": {
   "display_name": "Python 3",
   "language": "python",
   "name": "python3"
  },
  "language_info": {
   "codemirror_mode": {
    "name": "ipython",
    "version": 3
   },
   "file_extension": ".py",
   "mimetype": "text/x-python",
   "name": "python",
   "nbconvert_exporter": "python",
   "pygments_lexer": "ipython3",
   "version": "3.7.3"
  }
 },
 "nbformat": 4,
 "nbformat_minor": 2
}
