{
 "cells": [
  {
   "cell_type": "markdown",
   "metadata": {},
   "source": [
    "https://github.com/sdasadia/Oil-Price-Prediction/blob/master/Oil%20Price%20Forecast.ipynb\n",
    "\n",
    "https://github.com/sergeyivanov01/PHBS_MLF_2018/blob/master/BP2018.py"
   ]
  },
  {
   "cell_type": "code",
   "execution_count": 1,
   "metadata": {},
   "outputs": [],
   "source": [
    "%matplotlib inline\n",
    "import matplotlib\n",
    "import seaborn as sns\n",
    "import quandl\n",
    "import math\n",
    "import numpy as np\n",
    "import scipy as sp\n",
    "import pandas as pd\n",
    "import sklearn.linear_model\n",
    "import sklearn.metrics\n",
    "import statsmodels.api as sm\n",
    "import matplotlib.pyplot as plt\n",
    "import matplotlib.pylab as pylab\n",
    "import seaborn as sns\n",
    "\n",
    "from statsmodels.tsa.arima_model import ARIMA\n",
    "from sklearn.metrics import mean_squared_error\n",
    "\n",
    "\n",
    "plt.rcParams['figure.figsize'] = (20, 15)\n",
    "plt.style.use('seaborn-darkgrid')"
   ]
  },
  {
   "cell_type": "code",
   "execution_count": 2,
   "metadata": {},
   "outputs": [],
   "source": [
    "%store -r data_IVV"
   ]
  },
  {
   "cell_type": "code",
   "execution_count": 3,
   "metadata": {},
   "outputs": [
    {
     "data": {
      "text/html": [
       "<div>\n",
       "<style scoped>\n",
       "    .dataframe tbody tr th:only-of-type {\n",
       "        vertical-align: middle;\n",
       "    }\n",
       "\n",
       "    .dataframe tbody tr th {\n",
       "        vertical-align: top;\n",
       "    }\n",
       "\n",
       "    .dataframe thead th {\n",
       "        text-align: right;\n",
       "    }\n",
       "</style>\n",
       "<table border=\"1\" class=\"dataframe\">\n",
       "  <thead>\n",
       "    <tr style=\"text-align: right;\">\n",
       "      <th></th>\n",
       "      <th>Adj Close</th>\n",
       "    </tr>\n",
       "    <tr>\n",
       "      <th>Date</th>\n",
       "      <th></th>\n",
       "    </tr>\n",
       "  </thead>\n",
       "  <tbody>\n",
       "    <tr>\n",
       "      <th>2009-06-01</th>\n",
       "      <td>77.035706</td>\n",
       "    </tr>\n",
       "    <tr>\n",
       "      <th>2009-06-08</th>\n",
       "      <td>77.466110</td>\n",
       "    </tr>\n",
       "  </tbody>\n",
       "</table>\n",
       "</div>"
      ],
      "text/plain": [
       "            Adj Close\n",
       "Date                 \n",
       "2009-06-01  77.035706\n",
       "2009-06-08  77.466110"
      ]
     },
     "execution_count": 3,
     "metadata": {},
     "output_type": "execute_result"
    }
   ],
   "source": [
    "data_IVV.head(2)"
   ]
  },
  {
   "cell_type": "code",
   "execution_count": 4,
   "metadata": {},
   "outputs": [],
   "source": [
    "X = data_IVV.values\n",
    "size = int(len(X) * 0.6)"
   ]
  },
  {
   "cell_type": "code",
   "execution_count": 5,
   "metadata": {},
   "outputs": [],
   "source": [
    "# def test_stationarity(timeseries):\n",
    "    \n",
    "#     #Determing rolling statistics\n",
    "#     rolmean = ts_log.rolling(1).mean()\n",
    "#     rolstd = ts_log.rolling(1).std()\n",
    "\n",
    "#     #Plot rolling statistics:\n",
    "#     orig = plt.plot(ts, color='blue',label='Original')\n",
    "#     mean = plt.plot(rolmean, color='red', label='Rolling Mean')\n",
    "#     std = plt.plot(rolstd, color='black', label = 'Rolling Std')\n",
    "#     plt.legend(loc='best')\n",
    "#     plt.title('Rolling Mean & Standard Deviation')\n",
    "#     plt.show(block=False)\n",
    "    \n",
    "#     #Perform Dickey-Fuller test:\n",
    "#     print ('Results of Dickey-Fuller Test:')\n",
    "#     dftest = adfuller(timeseries.iloc[:,0].values, autolag='AIC' )\n",
    "#     dfoutput = pd.Series(dftest[0:4], index=['Test Statistic','p-value','#Lags Used','Number of Observations Used'])\n",
    "#     for key,value in dftest[4].items():\n",
    "#         dfoutput['Critical Value (%s)'%key] = value\n",
    "#     print (dfoutput)"
   ]
  },
  {
   "cell_type": "code",
   "execution_count": 6,
   "metadata": {},
   "outputs": [],
   "source": [
    "#print(data)"
   ]
  },
  {
   "cell_type": "code",
   "execution_count": 7,
   "metadata": {},
   "outputs": [],
   "source": [
    "#ts = data"
   ]
  },
  {
   "cell_type": "code",
   "execution_count": 8,
   "metadata": {},
   "outputs": [],
   "source": [
    "train, test = X[0:size], X[size:len(X)]\n"
   ]
  },
  {
   "cell_type": "code",
   "execution_count": 9,
   "metadata": {
    "scrolled": true
   },
   "outputs": [
    {
     "name": "stdout",
     "output_type": "stream",
     "text": [
      "predicted=195.252081, expected=193.431183\n",
      "predicted=194.089717, expected=193.632721\n",
      "predicted=194.226878, expected=194.951645\n",
      "predicted=195.404027, expected=193.412872\n",
      "predicted=194.123748, expected=192.107697\n",
      "predicted=192.917225, expected=192.291885\n",
      "predicted=193.019602, expected=196.887589\n",
      "predicted=197.074571, expected=192.715515\n",
      "predicted=193.652046, expected=195.027222\n",
      "predicted=195.452995, expected=192.651062\n",
      "predicted=193.533863, expected=193.986496\n",
      "predicted=194.548188, expected=183.100449\n",
      "predicted=185.247280, expected=184.638519\n",
      "predicted=185.726959, expected=178.357422\n",
      "predicted=179.806003, expected=182.280823\n",
      "predicted=181.613422, expected=181.940033\n",
      "predicted=182.805012, expected=178.532379\n",
      "predicted=179.872824, expected=181.584244\n",
      "predicted=182.147267, expected=187.539200\n",
      "predicted=187.698514, expected=189.233994\n",
      "predicted=189.718132, expected=193.244034\n",
      "predicted=193.104537, expected=193.605240\n",
      "predicted=194.089652, expected=195.633453\n",
      "predicted=195.693100, expected=188.622772\n",
      "predicted=190.068759, expected=195.059265\n",
      "predicted=194.065455, expected=195.142639\n",
      "predicted=196.082098, expected=195.225983\n",
      "predicted=195.142732, expected=187.900375\n",
      "predicted=189.908211, expected=187.279877\n",
      "predicted=186.983692, expected=191.549255\n",
      "predicted=191.746688, expected=190.820740\n",
      "predicted=191.506931, expected=179.771942\n",
      "predicted=181.956037, expected=175.958908\n",
      "predicted=177.549113, expected=178.522675\n",
      "predicted=179.531682, expected=181.440704\n",
      "predicted=182.225835, expected=176.061493\n",
      "predicted=177.509479, expected=174.849518\n",
      "predicted=175.965264, expected=179.865189\n",
      "predicted=180.332846, expected=182.867111\n",
      "predicted=183.276318, expected=187.836197\n",
      "predicted=187.904332, expected=190.036377\n",
      "predicted=190.155824, expected=192.581512\n",
      "predicted=192.612398, expected=190.353363\n",
      "predicted=190.723524, expected=194.941055\n",
      "predicted=194.802012, expected=192.700790\n",
      "predicted=193.069254, expected=195.709641\n",
      "predicted=195.668035, expected=196.871994\n",
      "predicted=196.930323, expected=194.462982\n",
      "predicted=194.871887, expected=193.853745\n",
      "predicted=194.208227, expected=192.860138\n",
      "predicted=193.312490, expected=193.600662\n",
      "predicted=193.926708, expected=198.062439\n",
      "predicted=197.934682, expected=198.109299\n",
      "predicted=198.264185, expected=197.959351\n",
      "predicted=198.165694, expected=195.587845\n",
      "predicted=196.083325, expected=191.416656\n",
      "predicted=192.268044, expected=198.847916\n",
      "predicted=198.588831, expected=201.419113\n",
      "predicted=201.316587, expected=204.404694\n",
      "predicted=204.149836, expected=205.760925\n",
      "predicted=205.570141, expected=205.666748\n",
      "predicted=205.609253, expected=206.636841\n",
      "predicted=206.525500, expected=206.928787\n",
      "predicted=206.886211, expected=207.032379\n",
      "predicted=207.040481, expected=205.845718\n",
      "predicted=206.030594, expected=206.853455\n",
      "predicted=206.903595, expected=202.059525\n",
      "predicted=202.737520, expected=203.076721\n",
      "predicted=203.408527, expected=205.647903\n",
      "predicted=205.761632, expected=204.903824\n",
      "predicted=205.260095, expected=204.704132\n",
      "predicted=205.068198, expected=202.848770\n",
      "predicted=203.433114, expected=203.672348\n",
      "predicted=204.079491, expected=202.337631\n",
      "predicted=202.950731, expected=198.475449\n",
      "predicted=199.448900, expected=206.105118\n",
      "predicted=205.976404, expected=208.055130\n",
      "predicted=208.153702, expected=210.913879\n",
      "predicted=210.812872, expected=209.115326\n",
      "predicted=209.406848, expected=215.684799\n",
      "predicted=215.132448, expected=215.571182\n",
      "predicted=215.469249, expected=214.880188\n",
      "predicted=214.905110, expected=214.196945\n",
      "predicted=214.310444, expected=217.671860\n",
      "predicted=217.377877, expected=217.433823\n",
      "predicted=217.423188, expected=217.157730\n",
      "predicted=217.214464, expected=219.347366\n",
      "predicted=219.174903, expected=219.718674\n",
      "predicted=219.682656, expected=221.737000\n",
      "predicted=221.537974, expected=225.145264\n",
      "predicted=224.737400, expected=226.830338\n",
      "predicted=226.507223, expected=228.458313\n",
      "predicted=228.132894, expected=227.677643\n",
      "predicted=227.597025, expected=228.096558\n",
      "predicted=227.988832, expected=224.098022\n",
      "predicted=224.490878, expected=226.877777\n",
      "predicted=226.774401, expected=226.313599\n",
      "predicted=226.484153, expected=223.779663\n",
      "predicted=224.226298, expected=225.787704\n",
      "predicted=225.885095, expected=229.067459\n",
      "predicted=228.967240, expected=230.693008\n",
      "predicted=230.648080, expected=230.033234\n",
      "predicted=230.201402, expected=229.354340\n",
      "predicted=229.604054, expected=232.576721\n",
      "predicted=232.468358, expected=234.909851\n",
      "predicted=234.773236, expected=234.211823\n",
      "predicted=234.334231, expected=234.441299\n",
      "predicted=234.553784, expected=235.081970\n",
      "predicted=235.183937, expected=232.748825\n",
      "predicted=233.187564, expected=234.098663\n",
      "predicted=234.293655, expected=237.354965\n",
      "predicted=237.296673, expected=238.747757\n",
      "predicted=238.752145, expected=238.757385\n",
      "predicted=238.885424, expected=239.237640\n",
      "predicted=239.364410, expected=236.029388\n",
      "predicted=236.581761, expected=234.617371\n",
      "predicted=235.186701, expected=236.471237\n",
      "predicted=236.787287, expected=239.727570\n",
      "predicted=239.802429, expected=238.401947\n",
      "predicted=238.807638, expected=242.196182\n",
      "predicted=242.144145, expected=242.417084\n",
      "predicted=242.570156, expected=242.955032\n",
      "predicted=243.107760, expected=247.270050\n",
      "predicted=247.013955, expected=247.772125\n",
      "predicted=247.737580, expected=249.915512\n",
      "predicted=249.744737, expected=250.456161\n",
      "predicted=250.406669, expected=251.199600\n",
      "predicted=251.169262, expected=250.842316\n",
      "predicted=250.954217, expected=250.668564\n",
      "predicted=250.840524, expected=253.043671\n",
      "predicted=253.003018, expected=257.069733\n",
      "predicted=256.784651, expected=258.073792\n",
      "predicted=257.958147, expected=260.477875\n",
      "predicted=260.255182, expected=260.159302\n",
      "predicted=260.168190, expected=260.793243\n",
      "predicted=260.801351, expected=267.079041\n",
      "predicted=266.575734, expected=271.521790\n",
      "predicted=271.056391, expected=274.024475\n",
      "predicted=273.696217, expected=280.009583\n",
      "predicted=279.537884, expected=269.213165\n",
      "predicted=269.962914, expected=255.768494\n",
      "predicted=256.692477, expected=266.846252\n",
      "predicted=267.116706, expected=268.427429\n",
      "predicted=268.710659, expected=263.072876\n",
      "predicted=263.921208, expected=272.404510\n",
      "predicted=272.196553, expected=268.990021\n",
      "predicted=269.462826, expected=252.043533\n",
      "predicted=254.205077, expected=258.579254\n",
      "predicted=259.754212, expected=254.876495\n",
      "predicted=256.408291, expected=260.138306\n",
      "predicted=260.785797, expected=261.570709\n",
      "predicted=262.216025, expected=261.521973\n",
      "predicted=262.224002, expected=260.966583\n",
      "predicted=261.734793, expected=267.446411\n",
      "predicted=267.331116, expected=266.218658\n",
      "predicted=266.597274, expected=266.968933\n",
      "predicted=267.249106, expected=268.479248\n",
      "predicted=268.641356, expected=272.873840\n",
      "predicted=272.580646, expected=273.136902\n",
      "predicted=273.103521, expected=270.778900\n",
      "predicted=271.159903, expected=266.062744\n",
      "predicted=267.021173, expected=271.384583\n",
      "predicted=271.453974, expected=275.515900\n",
      "predicted=275.300237, expected=275.701904\n",
      "predicted=275.704402, expected=277.405334\n",
      "predicted=277.296412, expected=279.549286\n",
      "predicted=279.330793, expected=279.079376\n",
      "predicted=279.114355, expected=281.007996\n",
      "predicted=280.881922, expected=283.435883\n",
      "predicted=283.179750, expected=286.294525\n",
      "predicted=285.897194, expected=283.514221\n",
      "predicted=283.705128, expected=286.754669\n",
      "predicted=286.535490, expected=289.153168\n",
      "predicted=288.877910, expected=286.578430\n",
      "predicted=286.845129, expected=285.074829\n",
      "predicted=285.519046, expected=273.374115\n",
      "predicted=275.203524, expected=273.610077\n",
      "predicted=274.922136, expected=262.627136\n",
      "predicted=264.922953, expected=269.303467\n",
      "predicted=270.246520, expected=275.271790\n",
      "predicted=275.886170, expected=271.122437\n",
      "predicted=272.460457, expected=260.867096\n",
      "predicted=263.098613, expected=273.344635\n",
      "predicted=273.483290, expected=261.152252\n",
      "predicted=263.940932, expected=258.005829\n",
      "predicted=259.906518, expected=238.291626\n",
      "predicted=241.701785, expected=246.509399\n"
     ]
    },
    {
     "name": "stderr",
     "output_type": "stream",
     "text": [
      "//anaconda3/lib/python3.7/site-packages/statsmodels/tsa/tsatools.py:668: RuntimeWarning: invalid value encountered in true_divide\n",
      "  newparams = ((1-np.exp(-params))/(1+np.exp(-params))).copy()\n",
      "//anaconda3/lib/python3.7/site-packages/statsmodels/tsa/tsatools.py:669: RuntimeWarning: invalid value encountered in true_divide\n",
      "  tmp = ((1-np.exp(-params))/(1+np.exp(-params))).copy()\n"
     ]
    },
    {
     "name": "stdout",
     "output_type": "stream",
     "text": [
      "predicted=246.346590, expected=251.509750\n",
      "predicted=252.420099, expected=257.756409\n",
      "predicted=258.340860, expected=265.379150\n",
      "predicted=265.542282, expected=264.814850\n",
      "predicted=265.585495, expected=268.972687\n",
      "predicted=269.187724, expected=269.398376\n",
      "predicted=269.882268, expected=276.357819\n",
      "predicted=276.013786, expected=278.001160\n",
      "predicted=278.030534, expected=279.476196\n",
      "predicted=279.489300, expected=273.427521\n",
      "predicted=274.337299, expected=281.426422\n",
      "predicted=280.821434, expected=278.337738\n",
      "predicted=278.894852, expected=282.822845\n",
      "predicted=282.503429, expected=288.676910\n",
      "predicted=288.007933, expected=290.376465\n",
      "predicted=290.070698, expected=290.217438\n",
      "predicted=290.137486, expected=293.666229\n",
      "predicted=293.168091, expected=294.202942\n",
      "predicted=294.006261, expected=288.229645\n",
      "predicted=288.911209, expected=286.142456\n",
      "predicted=286.605708, expected=283.021637\n",
      "predicted=283.761487, expected=275.607147\n"
     ]
    }
   ],
   "source": [
    "history = [x for x in train]\n",
    "predictions = list()\n",
    "\n",
    "for t in range(len(test)):\n",
    "    model = ARIMA(history, order=(2,1,1))\n",
    "    model_fit = model.fit(disp=0)\n",
    "    output = model_fit.forecast()\n",
    "    yhat = output[0]\n",
    "    predictions.append(yhat)\n",
    "    obs = test[t]\n",
    "    history.append(obs)\n",
    "    print('predicted=%f, expected=%f' % (yhat, obs))"
   ]
  },
  {
   "cell_type": "code",
   "execution_count": 10,
   "metadata": {},
   "outputs": [
    {
     "name": "stdout",
     "output_type": "stream",
     "text": [
      "Stored 'error_IVV' (float)\n",
      "Test RMSE: 4.481\n"
     ]
    }
   ],
   "source": [
    "error_IVV = math.sqrt(mean_squared_error(test, predictions))\n",
    "%store error_IVV\n",
    "print('Test RMSE: %.3f' % error_IVV)"
   ]
  },
  {
   "cell_type": "code",
   "execution_count": 15,
   "metadata": {
    "scrolled": false
   },
   "outputs": [
    {
     "data": {
      "image/png": "[encoded data removed]",
      "text/plain": [
       "<Figure size 1080x720 with 1 Axes>"
      ]
     },
     "metadata": {
      "needs_background": "light"
     },
     "output_type": "display_data"
    }
   ],
   "source": [
    "# plot\n",
    "fig= plt.figure(figsize=(15,10))\n",
    "plt.plot(test, label = 'IVV Actual')\n",
    "plt.plot(predictions, color='orange', label = 'IVV Prediction')\n",
    "plt.xlabel('Weeks')\n",
    "plt.ylabel('IVV Price')\n",
    "plt.title('ARIMA Prediction')\n",
    "plt.legend()\n",
    "plt.show()"
   ]
  },
  {
   "cell_type": "code",
   "execution_count": 12,
   "metadata": {},
   "outputs": [
    {
     "name": "stdout",
     "output_type": "stream",
     "text": [
      "Stored 'ARIMA_pred_IVV' (DataFrame)\n"
     ]
    }
   ],
   "source": [
    "ARIMA_pred_IVV = pd.DataFrame(predictions) \n",
    "ARIMA_pred_IVV.columns = ['ARIMA_pred_IVV']\n",
    "%store ARIMA_pred_IVV"
   ]
  },
  {
   "cell_type": "code",
   "execution_count": null,
   "metadata": {},
   "outputs": [],
   "source": []
  }
 ],
 "metadata": {
  "kernelspec": {
   "display_name": "Python 3",
   "language": "python",
   "name": "python3"
  },
  "language_info": {
   "codemirror_mode": {
    "name": "ipython",
    "version": 3
   },
   "file_extension": ".py",
   "mimetype": "text/x-python",
   "name": "python",
   "nbconvert_exporter": "python",
   "pygments_lexer": "ipython3",
   "version": "3.7.3"
  }
 },
 "nbformat": 4,
 "nbformat_minor": 2
}
