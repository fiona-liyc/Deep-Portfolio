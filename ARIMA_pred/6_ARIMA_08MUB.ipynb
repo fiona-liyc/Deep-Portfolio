{
 "cells": [
  {
   "cell_type": "markdown",
   "metadata": {},
   "source": [
    "https://github.com/sdasadia/Oil-Price-Prediction/blob/master/Oil%20Price%20Forecast.ipynb\n",
    "\n",
    "https://github.com/sergeyivanov01/PHBS_MLF_2018/blob/master/BP2018.py"
   ]
  },
  {
   "cell_type": "code",
   "execution_count": 1,
   "metadata": {},
   "outputs": [],
   "source": [
    "%matplotlib inline\n",
    "import matplotlib\n",
    "import seaborn as sns\n",
    "import quandl\n",
    "import math\n",
    "import numpy as np\n",
    "import scipy as sp\n",
    "import pandas as pd\n",
    "import sklearn.linear_model\n",
    "import sklearn.metrics\n",
    "import statsmodels.api as sm\n",
    "import matplotlib.pyplot as plt\n",
    "import matplotlib.pylab as pylab\n",
    "import seaborn as sns\n",
    "\n",
    "from statsmodels.tsa.arima_model import ARIMA\n",
    "from sklearn.metrics import mean_squared_error\n",
    "\n",
    "\n",
    "plt.rcParams['figure.figsize'] = (20, 15)\n",
    "plt.style.use('seaborn-darkgrid')"
   ]
  },
  {
   "cell_type": "code",
   "execution_count": 2,
   "metadata": {},
   "outputs": [],
   "source": [
    "%store -r data_MUB"
   ]
  },
  {
   "cell_type": "code",
   "execution_count": 3,
   "metadata": {},
   "outputs": [],
   "source": [
    "X = data_MUB.values\n",
    "size = int(len(X) * 0.6)"
   ]
  },
  {
   "cell_type": "code",
   "execution_count": 4,
   "metadata": {},
   "outputs": [],
   "source": [
    "# def test_stationarity(timeseries):\n",
    "    \n",
    "#     #Determing rolling statistics\n",
    "#     rolmean = ts_log.rolling(1).mean()\n",
    "#     rolstd = ts_log.rolling(1).std()\n",
    "\n",
    "#     #Plot rolling statistics:\n",
    "#     orig = plt.plot(ts, color='blue',label='Original')\n",
    "#     mean = plt.plot(rolmean, color='red', label='Rolling Mean')\n",
    "#     std = plt.plot(rolstd, color='black', label = 'Rolling Std')\n",
    "#     plt.legend(loc='best')\n",
    "#     plt.title('Rolling Mean & Standard Deviation')\n",
    "#     plt.show(block=False)\n",
    "    \n",
    "#     #Perform Dickey-Fuller test:\n",
    "#     print ('Results of Dickey-Fuller Test:')\n",
    "#     dftest = adfuller(timeseries.iloc[:,0].values, autolag='AIC' )\n",
    "#     dfoutput = pd.Series(dftest[0:4], index=['Test Statistic','p-value','#Lags Used','Number of Observations Used'])\n",
    "#     for key,value in dftest[4].items():\n",
    "#         dfoutput['Critical Value (%s)'%key] = value\n",
    "#     print (dfoutput)"
   ]
  },
  {
   "cell_type": "code",
   "execution_count": 5,
   "metadata": {},
   "outputs": [],
   "source": [
    "#print(data)"
   ]
  },
  {
   "cell_type": "code",
   "execution_count": 6,
   "metadata": {},
   "outputs": [],
   "source": [
    "#ts = data"
   ]
  },
  {
   "cell_type": "code",
   "execution_count": 7,
   "metadata": {},
   "outputs": [],
   "source": [
    "train, test = X[0:size], X[size:len(X)]\n"
   ]
  },
  {
   "cell_type": "code",
   "execution_count": 8,
   "metadata": {
    "scrolled": true
   },
   "outputs": [
    {
     "name": "stdout",
     "output_type": "stream",
     "text": [
      "predicted=98.392448, expected=97.589386\n",
      "predicted=97.797108, expected=97.976440\n",
      "predicted=97.900244, expected=98.302788\n",
      "predicted=98.329140, expected=98.012711\n",
      "predicted=98.162334, expected=98.030876\n",
      "predicted=98.080804, expected=98.478561\n",
      "predicted=98.476349, expected=98.723854\n",
      "predicted=98.804437, expected=99.096260\n",
      "predicted=99.160222, expected=99.187103\n",
      "predicted=99.307117, expected=98.914597\n",
      "predicted=99.061970, expected=99.159798\n",
      "predicted=99.180336, expected=99.441994\n",
      "predicted=99.492043, expected=99.150696\n",
      "predicted=99.303629, expected=99.223511\n",
      "predicted=99.268390, expected=99.103409\n",
      "predicted=99.191759, expected=99.386200\n",
      "predicted=99.401505, expected=99.523056\n",
      "predicted=99.598007, expected=100.033875\n",
      "predicted=100.055967, expected=99.936264\n",
      "predicted=100.089096, expected=100.064255\n",
      "predicted=100.135530, expected=100.119118\n",
      "predicted=100.204366, expected=100.292824\n",
      "predicted=100.354204, expected=99.561478\n",
      "predicted=99.764839, expected=99.985916\n",
      "predicted=99.923514, expected=100.489731\n",
      "predicted=100.501572, expected=100.727921\n",
      "predicted=100.825359, expected=100.608833\n",
      "predicted=100.750155, expected=101.320747\n",
      "predicted=101.298619, expected=101.476799\n",
      "predicted=101.608302, expected=101.329948\n",
      "predicted=101.477240, expected=101.822517\n",
      "predicted=101.831221, expected=102.365158\n",
      "predicted=102.416493, expected=102.411140\n",
      "predicted=102.562770, expected=102.365158\n",
      "predicted=102.489115, expected=102.604271\n",
      "predicted=102.658498, expected=102.687050\n",
      "predicted=102.781736, expected=103.096390\n",
      "predicted=103.135184, expected=102.930511\n",
      "predicted=103.084352, expected=102.635597\n",
      "predicted=102.760215, expected=102.018143\n",
      "predicted=102.151534, expected=102.276474\n",
      "predicted=102.233252, expected=102.534973\n",
      "predicted=102.562663, expected=102.544197\n",
      "predicted=102.639307, expected=102.839684\n",
      "predicted=102.881908, expected=103.728867\n",
      "predicted=103.712398, expected=103.812096\n",
      "predicted=103.985312, expected=103.617912\n",
      "predicted=103.778097, expected=103.765869\n",
      "predicted=103.825738, expected=103.895325\n",
      "predicted=103.970097, expected=104.479172\n",
      "predicted=104.493457, expected=104.145683\n",
      "predicted=104.339473, expected=103.969666\n",
      "predicted=104.067750, expected=104.127144\n",
      "predicted=104.161017, expected=104.846573\n",
      "predicted=104.827521, expected=105.319901\n",
      "predicted=105.406097, expected=105.561188\n",
      "predicted=105.687388, expected=105.644722\n",
      "predicted=105.772633, expected=105.981186\n",
      "predicted=106.049125, expected=105.451180\n",
      "predicted=105.654298, expected=105.348877\n",
      "predicted=105.409904, expected=105.683624\n",
      "predicted=105.690647, expected=105.181534\n",
      "predicted=105.352333, expected=105.685493\n",
      "predicted=105.650793, expected=105.741386\n",
      "predicted=105.843534, expected=105.750664\n",
      "predicted=105.847015, expected=105.443268\n",
      "predicted=105.573880, expected=105.407120\n",
      "predicted=105.462385, expected=105.089844\n",
      "predicted=105.194664, expected=105.164505\n",
      "predicted=105.190049, expected=105.220474\n",
      "predicted=105.277624, expected=104.501923\n",
      "predicted=104.677942, expected=104.159363\n",
      "predicted=104.205717, expected=104.299583\n",
      "predicted=104.283774, expected=104.131310\n",
      "predicted=104.208774, expected=104.215485\n",
      "predicted=104.249711, expected=102.668251\n",
      "predicted=102.947263, expected=101.535004\n",
      "predicted=101.570799, expected=100.944931\n",
      "predicted=100.862040, expected=100.008331\n",
      "predicted=99.988724, expected=101.265045\n",
      "predicted=100.992045, expected=100.701996\n",
      "predicted=100.891712, expected=101.189964\n",
      "predicted=101.151525, expected=101.653366\n",
      "predicted=101.696878, expected=101.813110\n",
      "predicted=101.926100, expected=102.574242\n",
      "predicted=102.593181, expected=101.794327\n",
      "predicted=102.065643, expected=101.775505\n",
      "predicted=101.796629, expected=101.681549\n",
      "predicted=101.733234, expected=102.100998\n",
      "predicted=102.089592, expected=101.959778\n",
      "predicted=102.078382, expected=102.486984\n",
      "predicted=102.482890, expected=101.733826\n",
      "predicted=101.953281, expected=101.640854\n",
      "predicted=101.652164, expected=101.989914\n",
      "predicted=101.969120, expected=102.621964\n",
      "predicted=102.627289, expected=102.782356\n",
      "predicted=102.906085, expected=102.942741\n",
      "predicted=103.038491, expected=103.631149\n",
      "predicted=103.649811, expected=103.744576\n",
      "predicted=103.891027, expected=103.338150\n",
      "predicted=103.506493, expected=103.224701\n",
      "predicted=103.279159, expected=103.719795\n",
      "predicted=103.699009, expected=104.325890\n",
      "predicted=104.360043, expected=104.610016\n",
      "predicted=104.726588, expected=104.903580\n",
      "predicted=105.002423, expected=104.985146\n",
      "predicted=105.103513, expected=105.032600\n",
      "predicted=105.128656, expected=105.136948\n",
      "predicted=105.210816, expected=104.482277\n",
      "predicted=104.647689, expected=104.226112\n",
      "predicted=104.256685, expected=104.911972\n",
      "predicted=104.838075, expected=105.453819\n",
      "predicted=105.504469, expected=105.349281\n",
      "predicted=105.506636, expected=105.406311\n",
      "predicted=105.488293, expected=105.963463\n",
      "predicted=105.978943, expected=105.839645\n",
      "predicted=105.987065, expected=106.011101\n",
      "predicted=106.072608, expected=105.944427\n",
      "predicted=106.043886, expected=106.539268\n",
      "predicted=106.537962, expected=106.128983\n",
      "predicted=106.310973, expected=106.090813\n",
      "predicted=106.146729, expected=105.785492\n",
      "predicted=105.877679, expected=105.623276\n",
      "predicted=105.670801, expected=106.147789\n",
      "predicted=106.116531, expected=106.195595\n",
      "predicted=106.296691, expected=105.784546\n",
      "predicted=105.922614, expected=105.861000\n",
      "predicted=105.883841, expected=106.055374\n",
      "predicted=106.090506, expected=105.978775\n",
      "predicted=106.070536, expected=105.490341\n",
      "predicted=105.613488, expected=105.480774\n",
      "predicted=105.494812, expected=106.090286\n",
      "predicted=106.057834, expected=106.282196\n",
      "predicted=106.375805, expected=105.562523\n",
      "predicted=105.755871, expected=106.453651\n",
      "predicted=106.354416, expected=106.203720\n",
      "predicted=106.365688, expected=105.790390\n",
      "predicted=105.910766, expected=105.780785\n",
      "predicted=105.807011, expected=105.501991\n",
      "predicted=105.580982, expected=104.483025\n",
      "predicted=104.630889, expected=104.608772\n",
      "predicted=104.533419, expected=104.618401\n",
      "predicted=104.635501, expected=104.608772\n",
      "predicted=104.651786, expected=104.377625\n",
      "predicted=104.455650, expected=104.536407\n",
      "predicted=104.548864, expected=104.710114\n",
      "predicted=104.752097, expected=104.777672\n",
      "predicted=104.848378, expected=105.115410\n",
      "predicted=105.150232, expected=104.739067\n",
      "predicted=104.886127, expected=104.871750\n",
      "predicted=104.896204, expected=104.581711\n",
      "predicted=104.681027, expected=104.330345\n",
      "predicted=104.392027, expected=104.659058\n",
      "predicted=104.639869, expected=105.132309\n",
      "predicted=105.150268, expected=104.899826\n",
      "predicted=105.041977, expected=105.442291\n",
      "predicted=105.437408, expected=105.296982\n",
      "predicted=105.430184, expected=105.635895\n",
      "predicted=105.664995, expected=105.606796\n",
      "predicted=105.709750, expected=105.713570\n",
      "predicted=105.775531, expected=105.839745\n",
      "predicted=105.902125, expected=105.800919\n",
      "predicted=105.886722, expected=106.280388\n",
      "predicted=106.287458, expected=106.251213\n",
      "predicted=106.366784, expected=106.017754\n",
      "predicted=106.127315, expected=105.764839\n",
      "predicted=105.841447, expected=106.104546\n",
      "predicted=106.090924, expected=106.221527\n",
      "predicted=106.286873, expected=106.270264\n",
      "predicted=106.345158, expected=106.163048\n",
      "predicted=106.250621, expected=105.490440\n",
      "predicted=105.627578, expected=105.556427\n",
      "predicted=105.537856, expected=105.341507\n",
      "predicted=105.400663, expected=105.439209\n",
      "predicted=105.452179, expected=104.628448\n",
      "predicted=104.778454, expected=104.643303\n",
      "predicted=104.611902, expected=104.731415\n",
      "predicted=104.738900, expected=105.074043\n",
      "predicted=105.080758, expected=104.359383\n",
      "predicted=104.533248, expected=104.894989\n",
      "predicted=104.825846, expected=105.346382\n",
      "predicted=105.374316, expected=105.562241\n",
      "predicted=105.650583, expected=106.013626\n",
      "predicted=106.064759, expected=106.572922\n",
      "predicted=106.632291, expected=106.565277\n",
      "predicted=106.713379, expected=106.889786\n",
      "predicted=106.949643, expected=107.343590\n",
      "predicted=107.400581, expected=107.432281\n",
      "predicted=107.552254, expected=107.333740\n",
      "predicted=107.446999, expected=107.373154\n",
      "predicted=107.437059, expected=107.383011\n",
      "predicted=107.449381, expected=107.481537\n",
      "predicted=107.533748, expected=108.126549\n",
      "predicted=108.121086, expected=108.245056\n",
      "predicted=108.362695, expected=108.472168\n",
      "predicted=108.550921, expected=108.205559\n",
      "predicted=108.342051, expected=108.914642\n"
     ]
    },
    {
     "name": "stdout",
     "output_type": "stream",
     "text": [
      "predicted=108.882819, expected=109.033409\n",
      "predicted=109.149854, expected=109.854851\n",
      "predicted=109.863155, expected=110.042892\n",
      "predicted=110.190015, expected=109.597519\n",
      "predicted=109.781301, expected=109.760231\n",
      "predicted=109.788900, expected=109.958588\n",
      "predicted=110.007268, expected=110.573486\n",
      "predicted=110.587736, expected=110.543732\n",
      "predicted=110.684648, expected=111.204491\n",
      "predicted=111.220945, expected=111.741180\n",
      "predicted=111.825638, expected=111.810753\n",
      "predicted=111.962046, expected=112.178490\n"
     ]
    }
   ],
   "source": [
    "history = [x for x in train]\n",
    "predictions = list()\n",
    "\n",
    "for t in range(len(test)):\n",
    "    model = ARIMA(history, order=(2,1,1))\n",
    "    model_fit = model.fit(disp=0)\n",
    "    output = model_fit.forecast()\n",
    "    yhat = output[0]\n",
    "    predictions.append(yhat)\n",
    "    obs = test[t]\n",
    "    history.append(obs)\n",
    "    print('predicted=%f, expected=%f' % (yhat, obs))"
   ]
  },
  {
   "cell_type": "code",
   "execution_count": 9,
   "metadata": {},
   "outputs": [
    {
     "name": "stdout",
     "output_type": "stream",
     "text": [
      "Stored 'error_MUB' (float)\n",
      "Test RMSE: 0.410\n"
     ]
    }
   ],
   "source": [
    "error_MUB = math.sqrt(mean_squared_error(test, predictions))\n",
    "%store error_MUB\n",
    "print('Test RMSE: %.3f' % error_MUB)"
   ]
  },
  {
   "cell_type": "code",
   "execution_count": 10,
   "metadata": {
    "scrolled": false
   },
   "outputs": [
    {
     "data": {
      "image/png": "[encoded data removed]",
      "text/plain": [
       "<Figure size 1080x720 with 1 Axes>"
      ]
     },
     "metadata": {
      "needs_background": "light"
     },
     "output_type": "display_data"
    }
   ],
   "source": [
    " # plot\n",
    "fig= plt.figure(figsize=(15,10))\n",
    "plt.plot(test, label = 'MUB Actual')\n",
    "plt.plot(predictions, color='orange', label = 'MUB Prediction')\n",
    "plt.xlabel('Weeks')\n",
    "plt.ylabel('MUB Price')\n",
    "plt.title('ARIMA Prediction')\n",
    "plt.legend()\n",
    "plt.show()"
   ]
  },
  {
   "cell_type": "code",
   "execution_count": 11,
   "metadata": {},
   "outputs": [
    {
     "name": "stdout",
     "output_type": "stream",
     "text": [
      "Stored 'ARIMA_pred_MUB' (DataFrame)\n"
     ]
    }
   ],
   "source": [
    "ARIMA_pred_MUB = pd.DataFrame(predictions) \n",
    "ARIMA_pred_MUB.columns = ['ARIMA_pred_MUB']\n",
    "%store ARIMA_pred_MUB"
   ]
  }
 ],
 "metadata": {
  "kernelspec": {
   "display_name": "Python 3",
   "language": "python",
   "name": "python3"
  },
  "language_info": {
   "codemirror_mode": {
    "name": "ipython",
    "version": 3
   },
   "file_extension": ".py",
   "mimetype": "text/x-python",
   "name": "python",
   "nbconvert_exporter": "python",
   "pygments_lexer": "ipython3",
   "version": "3.7.3"
  }
 },
 "nbformat": 4,
 "nbformat_minor": 2
}
