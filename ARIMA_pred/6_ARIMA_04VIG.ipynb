{
 "cells": [
  {
   "cell_type": "markdown",
   "metadata": {},
   "source": [
    "https://github.com/sdasadia/Oil-Price-Prediction/blob/master/Oil%20Price%20Forecast.ipynb\n",
    "\n",
    "https://github.com/sergeyivanov01/PHBS_MLF_2018/blob/master/BP2018.py"
   ]
  },
  {
   "cell_type": "code",
   "execution_count": 1,
   "metadata": {},
   "outputs": [],
   "source": [
    "%matplotlib inline\n",
    "import matplotlib\n",
    "import seaborn as sns\n",
    "import quandl\n",
    "import math\n",
    "import numpy as np\n",
    "import scipy as sp\n",
    "import pandas as pd\n",
    "import sklearn.linear_model\n",
    "import sklearn.metrics\n",
    "import statsmodels.api as sm\n",
    "import matplotlib.pyplot as plt\n",
    "import matplotlib.pylab as pylab\n",
    "import seaborn as sns\n",
    "\n",
    "from statsmodels.tsa.arima_model import ARIMA\n",
    "from sklearn.metrics import mean_squared_error\n",
    "\n",
    "\n",
    "plt.rcParams['figure.figsize'] = (20, 15)\n",
    "plt.style.use('seaborn-darkgrid')"
   ]
  },
  {
   "cell_type": "code",
   "execution_count": 2,
   "metadata": {},
   "outputs": [],
   "source": [
    "%store -r data_VIG"
   ]
  },
  {
   "cell_type": "code",
   "execution_count": 3,
   "metadata": {},
   "outputs": [],
   "source": [
    "X = data_VIG.values\n",
    "size = int(len(X) * 0.6)"
   ]
  },
  {
   "cell_type": "code",
   "execution_count": 4,
   "metadata": {},
   "outputs": [],
   "source": [
    "# def test_stationarity(timeseries):\n",
    "    \n",
    "#     #Determing rolling statistics\n",
    "#     rolmean = ts_log.rolling(1).mean()\n",
    "#     rolstd = ts_log.rolling(1).std()\n",
    "\n",
    "#     #Plot rolling statistics:\n",
    "#     orig = plt.plot(ts, color='blue',label='Original')\n",
    "#     mean = plt.plot(rolmean, color='red', label='Rolling Mean')\n",
    "#     std = plt.plot(rolstd, color='black', label = 'Rolling Std')\n",
    "#     plt.legend(loc='best')\n",
    "#     plt.title('Rolling Mean & Standard Deviation')\n",
    "#     plt.show(block=False)\n",
    "    \n",
    "#     #Perform Dickey-Fuller test:\n",
    "#     print ('Results of Dickey-Fuller Test:')\n",
    "#     dftest = adfuller(timeseries.iloc[:,0].values, autolag='AIC' )\n",
    "#     dfoutput = pd.Series(dftest[0:4], index=['Test Statistic','p-value','#Lags Used','Number of Observations Used'])\n",
    "#     for key,value in dftest[4].items():\n",
    "#         dfoutput['Critical Value (%s)'%key] = value\n",
    "#     print (dfoutput)"
   ]
  },
  {
   "cell_type": "code",
   "execution_count": 5,
   "metadata": {},
   "outputs": [],
   "source": [
    "#print(data)"
   ]
  },
  {
   "cell_type": "code",
   "execution_count": 6,
   "metadata": {},
   "outputs": [],
   "source": [
    "#ts = data"
   ]
  },
  {
   "cell_type": "code",
   "execution_count": 7,
   "metadata": {},
   "outputs": [],
   "source": [
    "train, test = X[0:size], X[size:len(X)]\n"
   ]
  },
  {
   "cell_type": "code",
   "execution_count": 8,
   "metadata": {
    "scrolled": true
   },
   "outputs": [
    {
     "name": "stdout",
     "output_type": "stream",
     "text": [
      "predicted=74.525312, expected=73.448715\n",
      "predicted=73.810961, expected=73.769173\n",
      "predicted=74.045212, expected=74.400932\n",
      "predicted=74.612409, expected=73.329681\n",
      "predicted=73.726086, expected=72.998428\n",
      "predicted=73.372487, expected=73.421936\n",
      "predicted=73.718928, expected=74.351784\n",
      "predicted=74.551935, expected=72.759079\n",
      "predicted=73.231202, expected=73.909874\n",
      "predicted=74.118374, expected=73.339066\n",
      "predicted=73.705979, expected=73.679726\n",
      "predicted=73.955965, expected=70.107590\n",
      "predicted=70.906784, expected=70.098366\n",
      "predicted=70.587511, expected=68.063744\n",
      "predicted=68.659995, expected=69.104065\n",
      "predicted=69.368818, expected=68.846283\n",
      "predicted=69.242205, expected=67.870399\n"
     ]
    },
    {
     "name": "stderr",
     "output_type": "stream",
     "text": [
      "//anaconda3/lib/python3.7/site-packages/statsmodels/tsa/tsatools.py:668: RuntimeWarning: invalid value encountered in true_divide\n",
      "  newparams = ((1-np.exp(-params))/(1+np.exp(-params))).copy()\n",
      "//anaconda3/lib/python3.7/site-packages/statsmodels/tsa/tsatools.py:669: RuntimeWarning: invalid value encountered in true_divide\n",
      "  tmp = ((1-np.exp(-params))/(1+np.exp(-params))).copy()\n"
     ]
    },
    {
     "name": "stdout",
     "output_type": "stream",
     "text": [
      "predicted=68.344361, expected=69.212425\n",
      "predicted=69.421170, expected=71.666763\n",
      "predicted=71.741653, expected=71.601929\n",
      "predicted=71.914350, expected=73.250504\n",
      "predicted=73.348567, expected=72.898567\n",
      "predicted=73.200694, expected=73.093056\n",
      "predicted=73.338857, expected=70.712807\n",
      "predicted=71.188168, expected=73.111603\n",
      "predicted=73.116207, expected=73.528374\n",
      "predicted=73.742401, expected=73.704330\n",
      "predicted=73.941474, expected=71.342613\n",
      "predicted=71.821699, expected=70.944366\n",
      "predicted=71.271677, expected=72.602180\n",
      "predicted=72.674372, expected=72.458672\n",
      "predicted=72.671756, expected=68.833893\n",
      "predicted=69.511133, expected=67.669106\n",
      "predicted=68.218213, expected=68.600929\n",
      "predicted=68.958759, expected=70.800026\n",
      "predicted=70.941056, expected=69.420937\n",
      "predicted=69.777018, expected=69.262512\n",
      "predicted=69.565150, expected=71.060951\n",
      "predicted=71.130212, expected=72.141853\n",
      "predicted=72.156786, expected=73.492989\n",
      "predicted=73.422761, expected=74.322327\n",
      "predicted=74.248503, expected=75.552322\n",
      "predicted=75.441714, expected=74.732330\n",
      "predicted=74.759090, expected=76.694931\n",
      "predicted=76.554346, expected=75.823921\n",
      "predicted=75.882642, expected=76.648102\n",
      "predicted=76.605229, expected=76.404602\n",
      "predicted=76.449110, expected=75.842667\n",
      "predicted=75.937817, expected=76.161087\n",
      "predicted=76.197888, expected=76.020615\n",
      "predicted=76.104135, expected=75.533592\n",
      "predicted=75.676127, expected=76.760490\n",
      "predicted=76.733174, expected=77.003998\n",
      "predicted=77.036759, expected=77.556557\n",
      "predicted=77.553815, expected=76.826057\n",
      "predicted=76.955113, expected=75.421219\n",
      "predicted=75.681701, expected=78.429710\n",
      "predicted=78.216059, expected=79.559669\n",
      "predicted=79.434321, expected=80.407166\n",
      "predicted=80.422697, expected=80.586067\n",
      "predicted=80.654458, expected=80.181168\n",
      "predicted=80.320438, expected=80.633148\n",
      "predicted=80.689026, expected=80.962746\n",
      "predicted=81.020260, expected=80.764977\n",
      "predicted=80.879942, expected=80.171753\n",
      "predicted=80.350154, expected=80.651993\n",
      "predicted=80.728207, expected=78.043625\n",
      "predicted=78.497645, expected=77.902390\n",
      "predicted=78.159682, expected=79.441696\n",
      "predicted=79.502429, expected=79.403862\n",
      "predicted=79.597124, expected=78.486160\n",
      "predicted=78.722651, expected=77.880676\n",
      "predicted=78.136584, expected=77.861755\n",
      "predicted=78.086174, expected=77.700928\n",
      "predicted=77.944762, expected=76.896744\n",
      "predicted=77.224076, expected=79.110573\n",
      "predicted=79.161005, expected=79.725510\n",
      "predicted=79.883958, expected=80.690514\n",
      "predicted=80.785153, expected=80.132317\n",
      "predicted=80.373792, expected=82.100166\n",
      "predicted=82.057188, expected=81.769028\n",
      "predicted=81.931237, expected=81.210846\n",
      "predicted=81.422808, expected=81.126923\n",
      "predicted=81.309926, expected=82.050766\n",
      "predicted=82.115724, expected=81.869789\n",
      "predicted=82.037455, expected=82.145988\n",
      "predicted=82.269761, expected=82.888901\n",
      "predicted=82.946280, expected=82.812683\n",
      "predicted=82.945491, expected=83.869865\n",
      "predicted=83.867731, expected=85.498489\n",
      "predicted=85.386709, expected=86.460457\n",
      "predicted=86.368103, expected=86.641411\n",
      "predicted=86.606775, expected=86.546173\n",
      "predicted=86.543241, expected=87.089050\n",
      "predicted=87.023560, expected=85.736603\n",
      "predicted=85.877165, expected=85.660423\n",
      "predicted=85.715588, expected=85.691795\n",
      "predicted=85.743911, expected=84.907127\n",
      "predicted=85.061772, expected=86.218102\n",
      "predicted=86.161730, expected=87.548218\n",
      "predicted=87.441245, expected=87.883125\n",
      "predicted=87.841322, expected=87.194160\n",
      "predicted=87.262421, expected=86.907074\n",
      "predicted=86.966049, expected=88.524261\n",
      "predicted=88.424344, expected=90.036194\n",
      "predicted=89.883213, expected=89.710846\n",
      "predicted=89.676228, expected=89.806526\n",
      "predicted=89.775737, expected=88.677383\n",
      "predicted=88.784031, expected=89.170380\n",
      "predicted=89.200074, expected=89.333954\n",
      "predicted=89.383116, expected=89.959419\n",
      "predicted=89.969488, expected=90.161484\n",
      "predicted=90.193190, expected=89.689987\n",
      "predicted=89.794276, expected=89.940178\n",
      "predicted=90.015218, expected=89.247368\n",
      "predicted=89.413039, expected=88.554558\n"
     ]
    },
    {
     "name": "stderr",
     "output_type": "stream",
     "text": [
      "//anaconda3/lib/python3.7/site-packages/statsmodels/base/model.py:512: ConvergenceWarning: Maximum Likelihood optimization failed to converge. Check mle_retvals\n",
      "  \"Check mle_retvals\", ConvergenceWarning)\n"
     ]
    },
    {
     "name": "stdout",
     "output_type": "stream",
     "text": [
      "predicted=88.764148, expected=88.573807\n",
      "predicted=88.754979, expected=89.497543\n",
      "predicted=89.599894, expected=89.545654\n",
      "predicted=89.685804, expected=91.017876\n",
      "predicted=91.017843, expected=90.546394\n",
      "predicted=90.665051, expected=91.625893\n",
      "predicted=91.622821, expected=92.486168\n",
      "predicted=92.450791, expected=92.824493\n",
      "predicted=92.806962, expected=93.965096\n",
      "predicted=93.864752, expected=94.303413\n",
      "predicted=94.238261, expected=93.965096\n",
      "predicted=93.973310, expected=93.858772\n",
      "predicted=93.888774, expected=94.197083\n",
      "predicted=94.209301, expected=94.970375\n",
      "predicted=94.937220, expected=97.222610\n",
      "predicted=97.023353, expected=97.802597\n",
      "predicted=97.661214, expected=98.585541\n",
      "predicted=98.436387, expected=98.498558\n",
      "predicted=98.420296, expected=99.152733\n",
      "predicted=99.053476, expected=101.086617\n",
      "predicted=100.892139, expected=102.592911\n",
      "predicted=102.405513, expected=103.768791\n",
      "predicted=103.610879, expected=105.780411\n",
      "predicted=105.618007, expected=101.902931\n",
      "predicted=102.066134, expected=97.005066\n",
      "predicted=97.207675, expected=101.028305\n",
      "predicted=101.195408, expected=100.970009\n",
      "predicted=101.112006, expected=98.977806\n",
      "predicted=99.277140, expected=102.388824\n",
      "predicted=102.382581, expected=100.999153\n",
      "predicted=101.194758, expected=96.111000\n",
      "predicted=96.717432, expected=98.200378\n",
      "predicted=98.544792, expected=97.181358\n",
      "predicted=97.609132, expected=98.449799\n",
      "predicted=98.698962, expected=99.005959\n",
      "predicted=99.231582, expected=98.449799\n",
      "predicted=98.755970, expected=97.356987\n",
      "predicted=97.759640, expected=99.376724\n",
      "predicted=99.501934, expected=99.435265\n",
      "predicted=99.629341, expected=100.186569\n",
      "predicted=100.300845, expected=100.401222\n",
      "predicted=100.529302, expected=102.303871\n",
      "predicted=102.230068, expected=102.274597\n",
      "predicted=102.301484, expected=100.976898\n",
      "predicted=101.176147, expected=99.152321\n",
      "predicted=99.527378, expected=100.805695\n",
      "predicted=100.937144, expected=102.601242\n",
      "predicted=102.581648, expected=103.170319\n",
      "predicted=103.150569, expected=104.092613\n",
      "predicted=104.017521, expected=104.377167\n",
      "predicted=104.328300, expected=104.161308\n",
      "predicted=104.178282, expected=105.986275\n",
      "predicted=105.831183, expected=106.722160\n",
      "predicted=106.576994, expected=107.301056\n",
      "predicted=107.161827, expected=107.565964\n",
      "predicted=107.460932, expected=108.841499\n",
      "predicted=108.661731, expected=110.332870\n",
      "predicted=110.099799, expected=108.615822\n",
      "predicted=108.635067, expected=107.812592\n",
      "predicted=107.901472, expected=103.269066\n",
      "predicted=103.763726, expected=103.436607\n",
      "predicted=103.829486, expected=99.819527\n",
      "predicted=100.466789, expected=103.318344\n",
      "predicted=103.532372, expected=106.245522\n",
      "predicted=106.326992, expected=105.811859\n",
      "predicted=105.978078, expected=102.421463\n",
      "predicted=102.928399, expected=106.393349\n",
      "predicted=106.401647, expected=101.583717\n",
      "predicted=102.404822, expected=100.322182\n",
      "predicted=100.979936, expected=93.393555\n",
      "predicted=94.302289, expected=96.116524\n",
      "predicted=96.591113, expected=96.988777\n",
      "predicted=97.541403, expected=99.377571\n",
      "predicted=99.724371, expected=102.192566\n",
      "predicted=102.352746, expected=102.033981\n",
      "predicted=102.324179, expected=103.005356\n",
      "predicted=103.179139, expected=104.016373\n",
      "predicted=104.121709, expected=107.475662\n",
      "predicted=107.252156, expected=108.090210\n",
      "predicted=107.963832, expected=108.298355\n",
      "predicted=108.200908, expected=105.750969\n",
      "predicted=105.945199, expected=108.040634\n",
      "predicted=107.904224, expected=107.128746\n",
      "predicted=107.219752, expected=108.675003\n",
      "predicted=108.558955, expected=110.361801\n",
      "predicted=110.147455, expected=111.317833\n",
      "predicted=111.105037, expected=111.815765\n",
      "predicted=111.624140, expected=112.512878\n",
      "predicted=112.301172, expected=112.951050\n",
      "predicted=112.756878, expected=111.517014\n",
      "predicted=111.523555, expected=110.919487\n",
      "predicted=110.947104, expected=110.292091\n",
      "predicted=110.381418, expected=108.001602\n"
     ]
    }
   ],
   "source": [
    "history = [x for x in train]\n",
    "predictions = list()\n",
    "\n",
    "for t in range(len(test)):\n",
    "    model = ARIMA(history, order=(2,1,1))\n",
    "    model_fit = model.fit(disp=0)\n",
    "    output = model_fit.forecast()\n",
    "    yhat = output[0]\n",
    "    predictions.append(yhat)\n",
    "    obs = test[t]\n",
    "    history.append(obs)\n",
    "    print('predicted=%f, expected=%f' % (yhat, obs))\n"
   ]
  },
  {
   "cell_type": "code",
   "execution_count": 9,
   "metadata": {},
   "outputs": [
    {
     "name": "stdout",
     "output_type": "stream",
     "text": [
      "Stored 'error_VIG' (float)\n",
      "Test RMSE: 1.598\n"
     ]
    }
   ],
   "source": [
    "error_VIG = math.sqrt(mean_squared_error(test, predictions))\n",
    "%store error_VIG\n",
    "print('Test RMSE: %.3f' % error_VIG)"
   ]
  },
  {
   "cell_type": "code",
   "execution_count": 10,
   "metadata": {
    "scrolled": true
   },
   "outputs": [
    {
     "data": {
      "image/png": "[encoded data removed]",
      "text/plain": [
       "<Figure size 1080x720 with 1 Axes>"
      ]
     },
     "metadata": {
      "needs_background": "light"
     },
     "output_type": "display_data"
    }
   ],
   "source": [
    "# plot\n",
    "fig= plt.figure(figsize=(15,10))\n",
    "plt.plot(test, label = 'VIG Actual')\n",
    "plt.plot(predictions, color='orange', label = 'VIG Prediction')\n",
    "plt.xlabel('Weeks')\n",
    "plt.ylabel('VIG Price')\n",
    "plt.title('ARIMA Prediction')\n",
    "plt.legend()\n",
    "plt.show()"
   ]
  },
  {
   "cell_type": "code",
   "execution_count": 11,
   "metadata": {},
   "outputs": [
    {
     "name": "stdout",
     "output_type": "stream",
     "text": [
      "Stored 'ARIMA_pred_VIG' (DataFrame)\n"
     ]
    }
   ],
   "source": [
    "ARIMA_pred_VIG = pd.DataFrame(predictions) \n",
    "ARIMA_pred_VIG.columns = ['ARIMA_pred_VIG']\n",
    "%store ARIMA_pred_VIG"
   ]
  }
 ],
 "metadata": {
  "kernelspec": {
   "display_name": "Python 3",
   "language": "python",
   "name": "python3"
  },
  "language_info": {
   "codemirror_mode": {
    "name": "ipython",
    "version": 3
   },
   "file_extension": ".py",
   "mimetype": "text/x-python",
   "name": "python",
   "nbconvert_exporter": "python",
   "pygments_lexer": "ipython3",
   "version": "3.7.3"
  }
 },
 "nbformat": 4,
 "nbformat_minor": 2
}
