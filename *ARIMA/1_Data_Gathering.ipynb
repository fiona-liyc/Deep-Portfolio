{
 "cells": [
  {
   "cell_type": "markdown",
   "metadata": {},
   "source": [
    "# Data gathering and preprocessing\n",
    "Data is collected through [Yahoo Finance](https://uk.finance.yahoo.com/watchlists), including weekly closing price and volume for the 10-year duration of 01 Jun 2009 - 01 Jun 2019.\n",
    "\n",
    "This code shows how data was merged, organized, cleaned to create one single .csv file containing a complete cross-sectional time series data of the chosen assets."
   ]
  },
  {
   "cell_type": "markdown",
   "metadata": {},
   "source": [
    "## 1. Import libaries"
   ]
  },
  {
   "cell_type": "code",
   "execution_count": 6,
   "metadata": {},
   "outputs": [],
   "source": [
    "#import pandas as pd\n",
    "import datetime\n",
    "import quandl as q\n",
    "import pandas as pd\n",
    "import pandas_datareader.data as web"
   ]
  },
  {
   "cell_type": "markdown",
   "metadata": {},
   "source": [
    "## 2. Import data "
   ]
  },
  {
   "cell_type": "markdown",
   "metadata": {},
   "source": [
    "#### Get and visualize data "
   ]
  },
  {
   "cell_type": "code",
   "execution_count": 18,
   "metadata": {},
   "outputs": [],
   "source": [
    "def get_data(asset_name):\n",
    "    return pd.read_csv('Asset_Dataset/'+asset_name+'_10y.csv', usecols=['Date','Adj Close'], parse_dates=True, index_col='Date' ).astype('float32').dropna()\n",
    "\n",
    "def get_vol(asset_name):\n",
    "    return pd.read_csv('Asset_Dataset/'+asset_name+'_10y.csv', usecols=['Date','Volume'], parse_dates=True, index_col='Date' ).astype('float32').dropna()\n",
    "\n"
   ]
  },
  {
   "cell_type": "code",
   "execution_count": 19,
   "metadata": {},
   "outputs": [
    {
     "name": "stdout",
     "output_type": "stream",
     "text": [
      "Stored 'data_IVV' (DataFrame)\n",
      "Stored 'data_SHY' (DataFrame)\n",
      "Stored 'data_VNQ' (DataFrame)\n",
      "Stored 'data_GLD' (DataFrame)\n",
      "Stored 'data_VIX' (DataFrame)\n",
      "Stored 'vol_IVV' (DataFrame)\n",
      "Stored 'vol_SHY' (DataFrame)\n",
      "Stored 'vol_VNQ' (DataFrame)\n",
      "Stored 'vol_GLD' (DataFrame)\n"
     ]
    }
   ],
   "source": [
    "# get asset data\n",
    "data_IVV = get_data('IVV')\n",
    "data_SHY = get_data('SHY')\n",
    "data_VNQ = get_data('VNQ')\n",
    "data_GLD = get_data('GLD')\n",
    "data_VIX = get_data('VIX')\n",
    "\n",
    "# get volume data\n",
    "vol_IVV = get_vol('IVV')\n",
    "vol_SHY = get_vol('SHY')\n",
    "vol_VNQ = get_vol('VNQ')\n",
    "vol_GLD = get_vol('GLD')\n",
    "\n",
    "%store data_IVV\n",
    "%store data_SHY\n",
    "%store data_VNQ\n",
    "%store data_GLD\n",
    "%store data_VIX\n",
    "%store vol_IVV\n",
    "%store vol_SHY\n",
    "%store vol_VNQ \n",
    "%store vol_GLD \n"
   ]
  },
  {
   "cell_type": "code",
   "execution_count": 20,
   "metadata": {},
   "outputs": [
    {
     "name": "stdout",
     "output_type": "stream",
     "text": [
      "Stored 'data_gdp' (DataFrame)\n",
      "Stored 'data_infl' (DataFrame)\n",
      "Stored 'data_int' (DataFrame)\n",
      "Stored 'data_unemp' (DataFrame)\n",
      "Stored 'data_savings' (DataFrame)\n"
     ]
    }
   ],
   "source": [
    "data_gdp = q.get(\"FRED/GDPC1\", start_date=\"2009-06-01\", end_date=\"2019-06-01\",collapse='daily', \n",
    "                 authtoken=\"oWpRXksxc4gyrtAwXe18\")\n",
    "%store data_gdp\n",
    "\n",
    "data_infl = q.get(\"FRED/CPIAUCSL\", start_date=\"2009-06-01\", end_date=\"2019-06-01\",collapse='daily', \n",
    "                  authtoken=\"oWpRXksxc4gyrtAwXe18\")\n",
    "%store data_infl\n",
    "\n",
    "data_int = q.get(\"FRED/DFF\", start_date=\"2009-06-01\", end_date=\"2019-06-01\",collapse='daily', \n",
    "                 authtoken=\"oWpRXksxc4gyrtAwXe18\")\n",
    "%store data_int\n",
    "\n",
    "data_unemp = q.get(\"FRED/UNRATE\", start_date=\"2009-06-01\", end_date=\"2019-06-01\",collapse='daily', \n",
    "                   authtoken=\"oWpRXksxc4gyrtAwXe18\")\n",
    "%store data_unemp\n",
    "\n",
    "data_savings = q.get(\"FRED/PSAVERT\", start_date=\"2009-06-01\", end_date=\"2019-06-01\",collapse='daily', \n",
    "                     authtoken=\"oWpRXksxc4gyrtAwXe18\")\n",
    "%store data_savings\n"
   ]
  },
  {
   "cell_type": "code",
   "execution_count": null,
   "metadata": {},
   "outputs": [],
   "source": []
  },
  {
   "cell_type": "code",
   "execution_count": null,
   "metadata": {},
   "outputs": [],
   "source": [
    "from pandas_datareader import data, wb\n",
    "\n",
    "tickers = ['AAPL', 'MSFT', 'NFLX', 'AMZN', 'GOOG']\n",
    "start = datetime.datetime(2010, 1, 1)\n",
    "end = datetime.datetime(2018, 12, 31)\n",
    "\n",
    "df = pd.DataFrame([data.DataReader(ticker, 'yahoo', start, end)['Adj Close'] for ticker in tickers]).T\n",
    "df.columns = tickers\n",
    "\n"
   ]
  },
  {
   "cell_type": "code",
   "execution_count": null,
   "metadata": {},
   "outputs": [],
   "source": []
  }
 ],
 "metadata": {
  "kernelspec": {
   "display_name": "Python 3",
   "language": "python",
   "name": "python3"
  },
  "language_info": {
   "codemirror_mode": {
    "name": "ipython",
    "version": 3
   },
   "file_extension": ".py",
   "mimetype": "text/x-python",
   "name": "python",
   "nbconvert_exporter": "python",
   "pygments_lexer": "ipython3",
   "version": "3.7.3"
  }
 },
 "nbformat": 4,
 "nbformat_minor": 2
}
