{
 "cells": [
  {
   "cell_type": "markdown",
   "metadata": {},
   "source": [
    "# Multivariate LSTM prediction\n",
    "https://github.com/raiak82/LongShortMemorymodelNifty/blob/master/Nifty-Model.ipynb\n",
    "\n",
    "https://medium.com/datadriveninvestor/multivariate-time-series-using-rnn-with-keras-7f78f4488679\n",
    "\n",
    "https://www.kaggle.com/amirrezaeian/time-series-data-analysis-using-lstm-tutorial\n",
    "\n",
    "https://machinelearningmastery.com/multivariate-time-series-forecasting-lstms-keras/\n",
    "\n",
    "## 1. Import Libraries"
   ]
  },
  {
   "cell_type": "code",
   "execution_count": 1,
   "metadata": {},
   "outputs": [
    {
     "name": "stderr",
     "output_type": "stream",
     "text": [
      "Using TensorFlow backend.\n"
     ]
    }
   ],
   "source": [
    "#Libraries\n",
    "import numpy as np\n",
    "import matplotlib.pyplot as plt\n",
    "import pandas as pd\n",
    "from pandas_datareader import data\n",
    "import math, re\n",
    "import datetime as dt\n",
    "import seaborn as sns\n",
    "plt.style.use('seaborn-darkgrid')\n",
    "import seaborn as sns\n",
    "%matplotlib inline\n",
    "\n",
    "#LSTM RNN\n",
    "from sklearn.preprocessing import MinMaxScaler\n",
    "from sklearn import preprocessing, utils\n",
    "from sklearn.linear_model import LogisticRegression\n",
    "from sklearn.feature_selection import RFE\n",
    "from sklearn.ensemble import ExtraTreesClassifier\n",
    "from sklearn.feature_selection import SelectKBest, chi2\n",
    "from keras.models import Sequential\n",
    "from keras.layers import Dense, LSTM, Dropout, GRU, Bidirectional\n",
    "from keras.optimizers import SGD\n",
    "from keras.callbacks import EarlyStopping\n",
    "from sklearn.metrics import mean_squared_error\n",
    "from keras import backend as K\n",
    "\n"
   ]
  },
  {
   "cell_type": "code",
   "execution_count": 2,
   "metadata": {},
   "outputs": [],
   "source": [
    "# import asset data: open, close, volume\n",
    "%store -r data_EFA\n",
    "%store -r vol_EFA"
   ]
  },
  {
   "cell_type": "code",
   "execution_count": 3,
   "metadata": {},
   "outputs": [],
   "source": [
    "#import TECHNICAL data\n",
    "%store -r data_vix"
   ]
  },
  {
   "cell_type": "markdown",
   "metadata": {},
   "source": [
    "# MULTIVARIATE LSTM - Single asset (in-sample) prediction\n",
    "## Use Adj Close Price, Open Price, Volume, Savings Rate, and VIX to engineer the features"
   ]
  },
  {
   "cell_type": "code",
   "execution_count": 4,
   "metadata": {},
   "outputs": [],
   "source": [
    "EFA_all = pd.concat([data_EFA, vol_EFA, data_vix],axis=1).dropna()\n",
    "EFA_all.columns = ['Adj_Close','Volume','VIX']"
   ]
  },
  {
   "cell_type": "markdown",
   "metadata": {},
   "source": [
    "### Data info and visualize"
   ]
  },
  {
   "cell_type": "code",
   "execution_count": 5,
   "metadata": {},
   "outputs": [
    {
     "data": {
      "text/html": [
       "<div>\n",
       "<style scoped>\n",
       "    .dataframe tbody tr th:only-of-type {\n",
       "        vertical-align: middle;\n",
       "    }\n",
       "\n",
       "    .dataframe tbody tr th {\n",
       "        vertical-align: top;\n",
       "    }\n",
       "\n",
       "    .dataframe thead th {\n",
       "        text-align: right;\n",
       "    }\n",
       "</style>\n",
       "<table border=\"1\" class=\"dataframe\">\n",
       "  <thead>\n",
       "    <tr style=\"text-align: right;\">\n",
       "      <th></th>\n",
       "      <th>Adj_Close</th>\n",
       "      <th>Volume</th>\n",
       "      <th>VIX</th>\n",
       "    </tr>\n",
       "    <tr>\n",
       "      <th>Date</th>\n",
       "      <th></th>\n",
       "      <th></th>\n",
       "      <th></th>\n",
       "    </tr>\n",
       "  </thead>\n",
       "  <tbody>\n",
       "    <tr>\n",
       "      <th>2009-06-01</th>\n",
       "      <td>34.372078</td>\n",
       "      <td>102088704.0</td>\n",
       "      <td>30.040001</td>\n",
       "    </tr>\n",
       "    <tr>\n",
       "      <th>2009-06-08</th>\n",
       "      <td>35.200672</td>\n",
       "      <td>89685904.0</td>\n",
       "      <td>29.770000</td>\n",
       "    </tr>\n",
       "    <tr>\n",
       "      <th>2009-06-15</th>\n",
       "      <td>34.110424</td>\n",
       "      <td>120681200.0</td>\n",
       "      <td>30.809999</td>\n",
       "    </tr>\n",
       "  </tbody>\n",
       "</table>\n",
       "</div>"
      ],
      "text/plain": [
       "            Adj_Close       Volume        VIX\n",
       "Date                                         \n",
       "2009-06-01  34.372078  102088704.0  30.040001\n",
       "2009-06-08  35.200672   89685904.0  29.770000\n",
       "2009-06-15  34.110424  120681200.0  30.809999"
      ]
     },
     "execution_count": 5,
     "metadata": {},
     "output_type": "execute_result"
    }
   ],
   "source": [
    "EFA_all.head(3)"
   ]
  },
  {
   "cell_type": "code",
   "execution_count": 6,
   "metadata": {},
   "outputs": [
    {
     "data": {
      "text/html": [
       "<div>\n",
       "<style scoped>\n",
       "    .dataframe tbody tr th:only-of-type {\n",
       "        vertical-align: middle;\n",
       "    }\n",
       "\n",
       "    .dataframe tbody tr th {\n",
       "        vertical-align: top;\n",
       "    }\n",
       "\n",
       "    .dataframe thead th {\n",
       "        text-align: right;\n",
       "    }\n",
       "</style>\n",
       "<table border=\"1\" class=\"dataframe\">\n",
       "  <thead>\n",
       "    <tr style=\"text-align: right;\">\n",
       "      <th></th>\n",
       "      <th>Adj_Close</th>\n",
       "      <th>Volume</th>\n",
       "      <th>VIX</th>\n",
       "    </tr>\n",
       "    <tr>\n",
       "      <th>Date</th>\n",
       "      <th></th>\n",
       "      <th></th>\n",
       "      <th></th>\n",
       "    </tr>\n",
       "  </thead>\n",
       "  <tbody>\n",
       "    <tr>\n",
       "      <th>2019-05-13</th>\n",
       "      <td>63.402229</td>\n",
       "      <td>176502704.0</td>\n",
       "      <td>20.549999</td>\n",
       "    </tr>\n",
       "    <tr>\n",
       "      <th>2019-05-20</th>\n",
       "      <td>63.412022</td>\n",
       "      <td>123998200.0</td>\n",
       "      <td>16.309999</td>\n",
       "    </tr>\n",
       "  </tbody>\n",
       "</table>\n",
       "</div>"
      ],
      "text/plain": [
       "            Adj_Close       Volume        VIX\n",
       "Date                                         \n",
       "2019-05-13  63.402229  176502704.0  20.549999\n",
       "2019-05-20  63.412022  123998200.0  16.309999"
      ]
     },
     "execution_count": 6,
     "metadata": {},
     "output_type": "execute_result"
    }
   ],
   "source": [
    "EFA_all.tail(2)"
   ]
  },
  {
   "cell_type": "code",
   "execution_count": 7,
   "metadata": {},
   "outputs": [
    {
     "name": "stdout",
     "output_type": "stream",
     "text": [
      "<class 'pandas.core.frame.DataFrame'>\n",
      "DatetimeIndex: 472 entries, 2009-06-01 to 2019-05-20\n",
      "Data columns (total 3 columns):\n",
      "Adj_Close    472 non-null float32\n",
      "Volume       472 non-null float32\n",
      "VIX          472 non-null float32\n",
      "dtypes: float32(3)\n",
      "memory usage: 9.2 KB\n"
     ]
    }
   ],
   "source": [
    "EFA_all.info()"
   ]
  },
  {
   "cell_type": "code",
   "execution_count": 8,
   "metadata": {},
   "outputs": [
    {
     "data": {
      "text/plain": [
       "Adj_Close    float32\n",
       "Volume       float32\n",
       "VIX          float32\n",
       "dtype: object"
      ]
     },
     "execution_count": 8,
     "metadata": {},
     "output_type": "execute_result"
    }
   ],
   "source": [
    "EFA_all.dtypes"
   ]
  },
  {
   "cell_type": "code",
   "execution_count": 9,
   "metadata": {},
   "outputs": [
    {
     "data": {
      "text/plain": [
       "(472, 3)"
      ]
     },
     "execution_count": 9,
     "metadata": {},
     "output_type": "execute_result"
    }
   ],
   "source": [
    "EFA_all.shape"
   ]
  },
  {
   "cell_type": "code",
   "execution_count": 10,
   "metadata": {},
   "outputs": [
    {
     "data": {
      "text/html": [
       "<div>\n",
       "<style scoped>\n",
       "    .dataframe tbody tr th:only-of-type {\n",
       "        vertical-align: middle;\n",
       "    }\n",
       "\n",
       "    .dataframe tbody tr th {\n",
       "        vertical-align: top;\n",
       "    }\n",
       "\n",
       "    .dataframe thead th {\n",
       "        text-align: right;\n",
       "    }\n",
       "</style>\n",
       "<table border=\"1\" class=\"dataframe\">\n",
       "  <thead>\n",
       "    <tr style=\"text-align: right;\">\n",
       "      <th></th>\n",
       "      <th>Adj_Close</th>\n",
       "      <th>Volume</th>\n",
       "      <th>VIX</th>\n",
       "    </tr>\n",
       "  </thead>\n",
       "  <tbody>\n",
       "    <tr>\n",
       "      <th>count</th>\n",
       "      <td>472.000000</td>\n",
       "      <td>472.0</td>\n",
       "      <td>472.000000</td>\n",
       "    </tr>\n",
       "    <tr>\n",
       "      <th>mean</th>\n",
       "      <td>51.567616</td>\n",
       "      <td>103524344.0</td>\n",
       "      <td>17.575914</td>\n",
       "    </tr>\n",
       "    <tr>\n",
       "      <th>std</th>\n",
       "      <td>8.930536</td>\n",
       "      <td>41088604.0</td>\n",
       "      <td>6.121978</td>\n",
       "    </tr>\n",
       "    <tr>\n",
       "      <th>min</th>\n",
       "      <td>32.682583</td>\n",
       "      <td>46271700.0</td>\n",
       "      <td>9.340000</td>\n",
       "    </tr>\n",
       "    <tr>\n",
       "      <th>25%</th>\n",
       "      <td>43.465224</td>\n",
       "      <td>79042722.0</td>\n",
       "      <td>13.272500</td>\n",
       "    </tr>\n",
       "    <tr>\n",
       "      <th>50%</th>\n",
       "      <td>52.343302</td>\n",
       "      <td>93379448.0</td>\n",
       "      <td>15.975000</td>\n",
       "    </tr>\n",
       "    <tr>\n",
       "      <th>75%</th>\n",
       "      <td>57.682610</td>\n",
       "      <td>114677248.0</td>\n",
       "      <td>20.055001</td>\n",
       "    </tr>\n",
       "    <tr>\n",
       "      <th>max</th>\n",
       "      <td>71.457603</td>\n",
       "      <td>367121600.0</td>\n",
       "      <td>48.000000</td>\n",
       "    </tr>\n",
       "  </tbody>\n",
       "</table>\n",
       "</div>"
      ],
      "text/plain": [
       "        Adj_Close       Volume         VIX\n",
       "count  472.000000        472.0  472.000000\n",
       "mean    51.567616  103524344.0   17.575914\n",
       "std      8.930536   41088604.0    6.121978\n",
       "min     32.682583   46271700.0    9.340000\n",
       "25%     43.465224   79042722.0   13.272500\n",
       "50%     52.343302   93379448.0   15.975000\n",
       "75%     57.682610  114677248.0   20.055001\n",
       "max     71.457603  367121600.0   48.000000"
      ]
     },
     "execution_count": 10,
     "metadata": {},
     "output_type": "execute_result"
    }
   ],
   "source": [
    "EFA_all.describe()"
   ]
  },
  {
   "cell_type": "code",
   "execution_count": 11,
   "metadata": {},
   "outputs": [
    {
     "data": {
      "text/plain": [
       "Index(['Adj_Close', 'Volume', 'VIX'], dtype='object')"
      ]
     },
     "execution_count": 11,
     "metadata": {},
     "output_type": "execute_result"
    }
   ],
   "source": [
    "EFA_all.columns"
   ]
  },
  {
   "cell_type": "code",
   "execution_count": 12,
   "metadata": {},
   "outputs": [
    {
     "data": {
      "text/plain": [
       "0"
      ]
     },
     "execution_count": 12,
     "metadata": {},
     "output_type": "execute_result"
    }
   ],
   "source": [
    "EFA_all.columns.get_loc(\"Adj_Close\")"
   ]
  },
  {
   "cell_type": "code",
   "execution_count": 13,
   "metadata": {},
   "outputs": [
    {
     "data": {
      "text/plain": [
       "Adj_Close    0\n",
       "Volume       0\n",
       "VIX          0\n",
       "dtype: int64"
      ]
     },
     "execution_count": 13,
     "metadata": {},
     "output_type": "execute_result"
    }
   ],
   "source": [
    "#sanity checks\n",
    "EFA_all.isnull().sum()"
   ]
  },
  {
   "cell_type": "code",
   "execution_count": 14,
   "metadata": {},
   "outputs": [],
   "source": [
    "data_pct = EFA_all.pct_change()"
   ]
  },
  {
   "cell_type": "code",
   "execution_count": 15,
   "metadata": {},
   "outputs": [
    {
     "data": {
      "image/png": "[encoded data removed]",
      "text/plain": [
       "<Figure size 432x432 with 3 Axes>"
      ]
     },
     "metadata": {
      "needs_background": "light"
     },
     "output_type": "display_data"
    }
   ],
   "source": [
    "## Corr between volume and closing price\n",
    "sns.jointplot(x='Volume', y='Adj_Close', data=data_pct)  \n",
    "plt.show()"
   ]
  },
  {
   "cell_type": "code",
   "execution_count": 16,
   "metadata": {},
   "outputs": [
    {
     "data": {
      "image/png": "[encoded data removed]",
      "text/plain": [
       "<Figure size 432x432 with 3 Axes>"
      ]
     },
     "metadata": {
      "needs_background": "light"
     },
     "output_type": "display_data"
    }
   ],
   "source": [
    "## Corr between volume and closing price\n",
    "sns.jointplot(x='VIX', y='Adj_Close', data=data_pct)  \n",
    "plt.show()"
   ]
  },
  {
   "cell_type": "markdown",
   "metadata": {},
   "source": [
    "### Model helper functions\n",
    "Predict closing price at t given closing price + other features at previous timesteps\n",
    "* Convert time series to SUPERVISED LEARNING\n",
    "* Using one lag observation as input (x)\n",
    "* Using one observation as output (y)"
   ]
  },
  {
   "cell_type": "code",
   "execution_count": 17,
   "metadata": {},
   "outputs": [],
   "source": [
    "# function to shift left and shift forward the time series dataframe where n_in paramter \n",
    "# used to shift left and n_out parameter used to shift right\n",
    "def series_to_new_supervised(df, n_in=1, n_out=1, dropnan=True):\n",
    "    n_vars = 1 if type(df) is list else df.shape[1]\n",
    "    cols, names = list(), list()\n",
    "    # input sequence (t-n, ... t-1)\n",
    "    #names = df.columns.values\n",
    "    for i in range(n_in, 0, -1):\n",
    "        cols.append(df.shift(i))\n",
    "        names += [(' %s(t-%d)' % (df.columns[j], i)) for j in range(n_vars)]\n",
    "\n",
    "    # forecast sequence (t, t+1, ... t+n)\n",
    "    for i in range(0, n_out):\n",
    "        cols.append(df.shift(-i))\n",
    "        if i == 0:\n",
    "            names += [(' %s(t)' % (df.columns[j])) for j in range(n_vars)]\n",
    "        else:\n",
    "            names += [(' %s(t+%d)' % (df.columns[j], i))for j in range(n_vars)]\n",
    "    # put it all together\n",
    "    agg = pd.concat(cols, axis=1)\n",
    "    agg.columns = names\n",
    "    # drop rows with NaN values\n",
    "    if dropnan:\n",
    "        agg.dropna(inplace=True)\n",
    "    else:\n",
    "        agg = agg.fillna(0)\n",
    "    return agg"
   ]
  },
  {
   "cell_type": "code",
   "execution_count": 18,
   "metadata": {},
   "outputs": [],
   "source": [
    "#Columns to be removed from the transformed series. For example - after time series is shifted to N+1, you may want only-\n",
    "#columns in shifted time series i.e you may want only adj_close rest other columns can be droped from N+1\n",
    "def remove_columns_from_transformed_series(df2, main_column, negative, positive):\n",
    "    columns_to_be_removed=[]\n",
    "    for i in range(0,df2.shape[1]):\n",
    "        string1=df2.columns[i]\n",
    "        if re.search(\"\\(t\\-\",string1): \n",
    "            if not (re.search(main_column,string1)):\n",
    "                if (negative==1):\n",
    "                    columns_to_be_removed.append(string1)\n",
    "        if re.search(\"\\(t\\+\",string1):\n",
    "            if not (re.search(main_column,string1)):\n",
    "                if (positive==1):\n",
    "                    columns_to_be_removed.append(string1)\n",
    "    df2.drop(columns_to_be_removed, axis=1, inplace=True)\n",
    "    return df2"
   ]
  },
  {
   "cell_type": "code",
   "execution_count": 19,
   "metadata": {
    "scrolled": true
   },
   "outputs": [
    {
     "name": "stdout",
     "output_type": "stream",
     "text": [
      "             Adj_Close(t)    Volume(t)     VIX(t)   Adj_Close(t+1)  \\\n",
      "Date                                                                 \n",
      "2009-06-01      34.372078  102088704.0  30.040001        35.200672   \n",
      "2009-06-08      35.200672   89685904.0  29.770000        34.110424   \n",
      "\n",
      "             Volume(t+1)   VIX(t+1)  \n",
      "Date                                 \n",
      "2009-06-01    89685904.0  29.770000  \n",
      "2009-06-08   120681200.0  30.809999  \n"
     ]
    }
   ],
   "source": [
    "#shift series to obtain t+1 for Y column\n",
    "shiftRightSeries=series_to_new_supervised(EFA_all,0,2)\n",
    "print(shiftRightSeries.head(2))"
   ]
  },
  {
   "cell_type": "code",
   "execution_count": 20,
   "metadata": {
    "scrolled": true
   },
   "outputs": [],
   "source": [
    "# normalize features\n",
    "mm = MinMaxScaler(feature_range=(0, 1))\n",
    "scaled = mm.fit_transform(shiftRightSeries)\n",
    "\n",
    "X_new=scaled[:,:-1]\n",
    "y_new=scaled[:,-1]\n",
    "lab_enc = preprocessing.LabelEncoder()\n",
    "y_scores_encoded_new = lab_enc.fit_transform(y_new)"
   ]
  },
  {
   "cell_type": "code",
   "execution_count": 21,
   "metadata": {},
   "outputs": [
    {
     "name": "stdout",
     "output_type": "stream",
     "text": [
      "             Adj_Close(t-5)   Volume(t-5)   VIX(t-5)   Adj_Close(t-4)  \\\n",
      "Date                                                                    \n",
      "2019-05-13        65.036972   111645400.0      13.18        65.262108   \n",
      "2019-05-20        65.262108    76900096.0      12.32        65.046753   \n",
      "\n",
      "             Volume(t-4)   VIX(t-4)   Adj_Close(t-3)   Volume(t-3)   VIX(t-3)  \\\n",
      "Date                                                                            \n",
      "2019-05-13    76900096.0      12.32        65.046753    99221600.0      12.42   \n",
      "2019-05-20    99221600.0      12.42        65.575356   122747504.0      13.11   \n",
      "\n",
      "             Adj_Close(t-2)   Volume(t-2)   VIX(t-2)   Adj_Close(t-1)  \\\n",
      "Date                                                                    \n",
      "2019-05-13        65.575356   122747504.0      13.11        63.950409   \n",
      "2019-05-20        63.950409   150290304.0      15.44        63.402229   \n",
      "\n",
      "             Volume(t-1)   VIX(t-1)   Adj_Close(t)    Volume(t)     VIX(t)  \n",
      "Date                                                                        \n",
      "2019-05-13   150290304.0  15.440000      63.402229  176502704.0  20.549999  \n",
      "2019-05-20   176502704.0  20.549999      63.412022  123998200.0  16.309999  \n"
     ]
    }
   ],
   "source": [
    "# reframing the time series to have (t-5) data in order to create LSTM time series model\n",
    "reframe_series_5=series_to_new_supervised(EFA_all,5,1)\n",
    "reframe_series_5=remove_columns_from_transformed_series(reframe_series_5,\"Adj_Close\",0,1)\n",
    "print(reframe_series_5.tail(2))"
   ]
  },
  {
   "cell_type": "code",
   "execution_count": 22,
   "metadata": {},
   "outputs": [],
   "source": [
    "t_features=len(EFA_all.columns)\n",
    "timesteps=5\n",
    "sequence=t_features*timesteps"
   ]
  },
  {
   "cell_type": "code",
   "execution_count": 23,
   "metadata": {},
   "outputs": [
    {
     "name": "stdout",
     "output_type": "stream",
     "text": [
      "             Adj_Close(t-5)   Volume(t-5)   VIX(t-5)   Adj_Close(t-4)  \\\n",
      "Date                                                                    \n",
      "2019-05-13        65.036972   111645400.0      13.18        65.262108   \n",
      "2019-05-20        65.262108    76900096.0      12.32        65.046753   \n",
      "\n",
      "             Volume(t-4)   VIX(t-4)   Adj_Close(t-3)   Volume(t-3)   VIX(t-3)  \\\n",
      "Date                                                                            \n",
      "2019-05-13    76900096.0      12.32        65.046753    99221600.0      12.42   \n",
      "2019-05-20    99221600.0      12.42        65.575356   122747504.0      13.11   \n",
      "\n",
      "             Adj_Close(t-2)   Volume(t-2)   VIX(t-2)   Adj_Close(t-1)  \\\n",
      "Date                                                                    \n",
      "2019-05-13        65.575356   122747504.0      13.11        63.950409   \n",
      "2019-05-20        63.950409   150290304.0      15.44        63.402229   \n",
      "\n",
      "             Volume(t-1)   VIX(t-1)   Adj_Close(t)  \n",
      "Date                                                \n",
      "2019-05-13   150290304.0  15.440000      63.402229  \n",
      "2019-05-20   176502704.0  20.549999      63.412022  \n"
     ]
    }
   ],
   "source": [
    "# Drop other columns from output other than Adj_Close(t)\n",
    "columns_to_remove=[]\n",
    "for i in range(sequence+1, len(reframe_series_5.columns)):\n",
    "    #print(reframe_series_5.columns[i])\n",
    "    columns_to_remove.append(reframe_series_5.columns[i])\n",
    "    \n",
    "reframe_series_5.drop(columns_to_remove, axis=1, inplace=True)\n",
    "print(reframe_series_5.tail(2))"
   ]
  },
  {
   "cell_type": "code",
   "execution_count": 24,
   "metadata": {},
   "outputs": [
    {
     "name": "stdout",
     "output_type": "stream",
     "text": [
      "(313, 15) (313,) (154, 15) (154,)\n",
      "Time Steps = 5\n",
      "Number of Features considered = 3\n"
     ]
    }
   ],
   "source": [
    "# ensure all data is float\n",
    "values=reframe_series_5.values\n",
    "values = values.astype('float32')\n",
    "\n",
    "# normalize features\n",
    "scaled_values = mm.fit_transform(values)\n",
    " \n",
    "# split into train and test sets\n",
    "TRAIN_SPLIT = 313\n",
    "train = scaled_values[:TRAIN_SPLIT,:]\n",
    "test = scaled_values[TRAIN_SPLIT:, :]\n",
    "\n",
    "# split into input and outputs\n",
    "train_X, train_y = train[:, :-1 ], train[:, -1]\n",
    "test_X, test_y = test[:, :-1], test[:, -1]\n",
    "print(train_X.shape, train_y.shape, test_X.shape, test_y.shape)\n",
    "print(\"Time Steps =\", timesteps)\n",
    "print(\"Number of Features considered =\", t_features)"
   ]
  },
  {
   "cell_type": "code",
   "execution_count": 25,
   "metadata": {},
   "outputs": [
    {
     "name": "stdout",
     "output_type": "stream",
     "text": [
      "(313, 5, 3) (313,) (154, 5, 3) (154,)\n"
     ]
    }
   ],
   "source": [
    "# reshape input to be 3D [samples, timesteps, features]\n",
    "\n",
    "train_X = train_X.reshape((train_X.shape[0], timesteps, t_features))\n",
    "test_X = test_X.reshape((test_X.shape[0], timesteps, t_features))\n",
    "print(train_X.shape, train_y.shape, test_X.shape, test_y.shape)"
   ]
  },
  {
   "cell_type": "code",
   "execution_count": 26,
   "metadata": {},
   "outputs": [],
   "source": [
    "NUM_NEURONS_FirstLayer = 128\n",
    "NUM_NEURONS_SecondLayer = 64\n",
    "EPOCHS = 200"
   ]
  },
  {
   "cell_type": "code",
   "execution_count": 27,
   "metadata": {},
   "outputs": [
    {
     "data": {
      "text/plain": [
       "(5, 3)"
      ]
     },
     "execution_count": 27,
     "metadata": {},
     "output_type": "execute_result"
    }
   ],
   "source": [
    "train_X.shape[1], train_X.shape[2]"
   ]
  },
  {
   "cell_type": "code",
   "execution_count": 28,
   "metadata": {
    "scrolled": true
   },
   "outputs": [
    {
     "name": "stderr",
     "output_type": "stream",
     "text": [
      "WARNING: Logging before flag parsing goes to stderr.\n",
      "W0917 16:16:33.608531 4551136704 deprecation_wrapper.py:119] From //anaconda3/lib/python3.7/site-packages/keras/backend/tensorflow_backend.py:74: The name tf.get_default_graph is deprecated. Please use tf.compat.v1.get_default_graph instead.\n",
      "\n",
      "W0917 16:16:33.638404 4551136704 deprecation_wrapper.py:119] From //anaconda3/lib/python3.7/site-packages/keras/backend/tensorflow_backend.py:517: The name tf.placeholder is deprecated. Please use tf.compat.v1.placeholder instead.\n",
      "\n",
      "W0917 16:16:33.640944 4551136704 deprecation_wrapper.py:119] From //anaconda3/lib/python3.7/site-packages/keras/backend/tensorflow_backend.py:4138: The name tf.random_uniform is deprecated. Please use tf.random.uniform instead.\n",
      "\n",
      "W0917 16:16:33.923330 4551136704 deprecation_wrapper.py:119] From //anaconda3/lib/python3.7/site-packages/keras/optimizers.py:790: The name tf.train.Optimizer is deprecated. Please use tf.compat.v1.train.Optimizer instead.\n",
      "\n",
      "W0917 16:16:34.149883 4551136704 deprecation.py:323] From //anaconda3/lib/python3.7/site-packages/tensorflow/python/ops/math_grad.py:1250: add_dispatch_support.<locals>.wrapper (from tensorflow.python.ops.array_ops) is deprecated and will be removed in a future version.\n",
      "Instructions for updating:\n",
      "Use tf.where in 2.0, which has the same broadcast rule as np.where\n",
      "W0917 16:16:34.929065 4551136704 deprecation_wrapper.py:119] From //anaconda3/lib/python3.7/site-packages/keras/backend/tensorflow_backend.py:986: The name tf.assign_add is deprecated. Please use tf.compat.v1.assign_add instead.\n",
      "\n",
      "W0917 16:16:35.032358 4551136704 deprecation_wrapper.py:119] From //anaconda3/lib/python3.7/site-packages/keras/backend/tensorflow_backend.py:973: The name tf.assign is deprecated. Please use tf.compat.v1.assign instead.\n",
      "\n"
     ]
    },
    {
     "name": "stdout",
     "output_type": "stream",
     "text": [
      "Train on 313 samples, validate on 154 samples\n",
      "Epoch 1/200\n",
      " - 4s - loss: 0.0316 - val_loss: 0.0191\n",
      "Epoch 2/200\n",
      " - 0s - loss: 0.0553 - val_loss: 0.0606\n",
      "Epoch 3/200\n",
      " - 0s - loss: 0.0065 - val_loss: 0.0026\n",
      "Epoch 4/200\n",
      " - 0s - loss: 0.0057 - val_loss: 0.0049\n",
      "Epoch 5/200\n",
      " - 0s - loss: 0.0033 - val_loss: 0.0021\n",
      "Epoch 6/200\n",
      " - 0s - loss: 0.0027 - val_loss: 0.0033\n",
      "Epoch 7/200\n",
      " - 0s - loss: 0.0027 - val_loss: 0.0020\n",
      "Epoch 8/200\n",
      " - 0s - loss: 0.0026 - val_loss: 0.0028\n",
      "Epoch 9/200\n",
      " - 0s - loss: 0.0024 - val_loss: 0.0021\n",
      "Epoch 10/200\n",
      " - 0s - loss: 0.0024 - val_loss: 0.0022\n",
      "Epoch 11/200\n",
      " - 0s - loss: 0.0023 - val_loss: 0.0023\n",
      "Epoch 12/200\n",
      " - 0s - loss: 0.0023 - val_loss: 0.0021\n",
      "Epoch 13/200\n",
      " - 0s - loss: 0.0023 - val_loss: 0.0021\n",
      "Epoch 14/200\n",
      " - 0s - loss: 0.0023 - val_loss: 0.0022\n",
      "Epoch 15/200\n",
      " - 0s - loss: 0.0022 - val_loss: 0.0021\n",
      "Epoch 16/200\n",
      " - 0s - loss: 0.0023 - val_loss: 0.0021\n",
      "Epoch 17/200\n",
      " - 0s - loss: 0.0022 - val_loss: 0.0022\n",
      "Epoch 18/200\n",
      " - 0s - loss: 0.0022 - val_loss: 0.0022\n",
      "Epoch 19/200\n",
      " - 0s - loss: 0.0022 - val_loss: 0.0021\n",
      "Epoch 20/200\n",
      " - 0s - loss: 0.0022 - val_loss: 0.0021\n",
      "Epoch 21/200\n",
      " - 0s - loss: 0.0022 - val_loss: 0.0022\n",
      "Epoch 22/200\n",
      " - 0s - loss: 0.0021 - val_loss: 0.0021\n",
      "Epoch 23/200\n",
      " - 0s - loss: 0.0022 - val_loss: 0.0021\n",
      "Epoch 24/200\n",
      " - 0s - loss: 0.0022 - val_loss: 0.0022\n",
      "Epoch 25/200\n",
      " - 0s - loss: 0.0021 - val_loss: 0.0022\n",
      "Epoch 26/200\n",
      " - 0s - loss: 0.0022 - val_loss: 0.0020\n",
      "Epoch 27/200\n",
      " - 0s - loss: 0.0022 - val_loss: 0.0022\n",
      "Epoch 28/200\n",
      " - 0s - loss: 0.0021 - val_loss: 0.0023\n",
      "Epoch 29/200\n",
      " - 0s - loss: 0.0020 - val_loss: 0.0020\n",
      "Epoch 30/200\n",
      " - 0s - loss: 0.0022 - val_loss: 0.0021\n",
      "Epoch 31/200\n",
      " - 0s - loss: 0.0022 - val_loss: 0.0023\n",
      "Epoch 32/200\n",
      " - 0s - loss: 0.0019 - val_loss: 0.0023\n",
      "Epoch 33/200\n",
      " - 0s - loss: 0.0020 - val_loss: 0.0018\n",
      "Epoch 34/200\n",
      " - 0s - loss: 0.0023 - val_loss: 0.0023\n",
      "Epoch 35/200\n",
      " - 0s - loss: 0.0020 - val_loss: 0.0023\n",
      "Epoch 36/200\n",
      " - 0s - loss: 0.0018 - val_loss: 0.0022\n",
      "Epoch 37/200\n",
      " - 0s - loss: 0.0022 - val_loss: 0.0019\n",
      "Epoch 38/200\n",
      " - 0s - loss: 0.0023 - val_loss: 0.0023\n",
      "Epoch 39/200\n",
      " - 0s - loss: 0.0019 - val_loss: 0.0025\n",
      "Epoch 40/200\n",
      " - 0s - loss: 0.0018 - val_loss: 0.0018\n",
      "Epoch 41/200\n",
      " - 0s - loss: 0.0023 - val_loss: 0.0023\n",
      "Epoch 42/200\n",
      " - 0s - loss: 0.0021 - val_loss: 0.0022\n",
      "Epoch 43/200\n",
      " - 0s - loss: 0.0018 - val_loss: 0.0024\n",
      "Epoch 44/200\n",
      " - 0s - loss: 0.0019 - val_loss: 0.0017\n",
      "Epoch 45/200\n",
      " - 0s - loss: 0.0023 - val_loss: 0.0023\n",
      "Epoch 46/200\n",
      " - 0s - loss: 0.0018 - val_loss: 0.0022\n",
      "Epoch 47/200\n",
      " - 0s - loss: 0.0017 - val_loss: 0.0019\n",
      "Epoch 48/200\n",
      " - 0s - loss: 0.0021 - val_loss: 0.0019\n",
      "Epoch 49/200\n",
      " - 0s - loss: 0.0020 - val_loss: 0.0021\n",
      "Epoch 50/200\n",
      " - 0s - loss: 0.0017 - val_loss: 0.0021\n",
      "Epoch 51/200\n",
      " - 0s - loss: 0.0017 - val_loss: 0.0017\n",
      "Epoch 52/200\n",
      " - 0s - loss: 0.0020 - val_loss: 0.0020\n",
      "Epoch 53/200\n",
      " - 0s - loss: 0.0018 - val_loss: 0.0019\n",
      "Epoch 54/200\n",
      " - 0s - loss: 0.0017 - val_loss: 0.0018\n",
      "Epoch 55/200\n",
      " - 0s - loss: 0.0018 - val_loss: 0.0017\n",
      "Epoch 56/200\n",
      " - 0s - loss: 0.0019 - val_loss: 0.0019\n",
      "Epoch 57/200\n",
      " - 0s - loss: 0.0017 - val_loss: 0.0018\n",
      "Epoch 58/200\n",
      " - 0s - loss: 0.0017 - val_loss: 0.0017\n",
      "Epoch 59/200\n",
      " - 0s - loss: 0.0018 - val_loss: 0.0018\n",
      "Epoch 60/200\n",
      " - 0s - loss: 0.0017 - val_loss: 0.0018\n",
      "Epoch 61/200\n",
      " - 0s - loss: 0.0017 - val_loss: 0.0018\n",
      "Epoch 62/200\n",
      " - 0s - loss: 0.0017 - val_loss: 0.0018\n",
      "Epoch 63/200\n",
      " - 0s - loss: 0.0017 - val_loss: 0.0018\n",
      "Epoch 64/200\n",
      " - 0s - loss: 0.0017 - val_loss: 0.0018\n",
      "Epoch 65/200\n",
      " - 0s - loss: 0.0017 - val_loss: 0.0018\n",
      "Epoch 66/200\n",
      " - 0s - loss: 0.0017 - val_loss: 0.0018\n",
      "Epoch 67/200\n",
      " - 0s - loss: 0.0017 - val_loss: 0.0018\n",
      "Epoch 68/200\n",
      " - 0s - loss: 0.0017 - val_loss: 0.0018\n",
      "Epoch 69/200\n",
      " - 0s - loss: 0.0017 - val_loss: 0.0018\n",
      "Epoch 70/200\n",
      " - 0s - loss: 0.0017 - val_loss: 0.0018\n",
      "Epoch 71/200\n",
      " - 0s - loss: 0.0017 - val_loss: 0.0018\n",
      "Epoch 72/200\n",
      " - 0s - loss: 0.0017 - val_loss: 0.0018\n",
      "Epoch 73/200\n",
      " - 0s - loss: 0.0016 - val_loss: 0.0018\n",
      "Epoch 74/200\n",
      " - 0s - loss: 0.0016 - val_loss: 0.0017\n",
      "Epoch 75/200\n",
      " - 0s - loss: 0.0016 - val_loss: 0.0017\n",
      "Epoch 76/200\n",
      " - 0s - loss: 0.0016 - val_loss: 0.0017\n",
      "Epoch 77/200\n",
      " - 0s - loss: 0.0016 - val_loss: 0.0017\n",
      "Epoch 78/200\n",
      " - 0s - loss: 0.0016 - val_loss: 0.0017\n",
      "Epoch 79/200\n",
      " - 0s - loss: 0.0016 - val_loss: 0.0017\n",
      "Epoch 80/200\n",
      " - 0s - loss: 0.0016 - val_loss: 0.0017\n",
      "Epoch 81/200\n",
      " - 0s - loss: 0.0016 - val_loss: 0.0017\n",
      "Epoch 82/200\n",
      " - 0s - loss: 0.0016 - val_loss: 0.0017\n",
      "Epoch 83/200\n",
      " - 0s - loss: 0.0016 - val_loss: 0.0017\n",
      "Epoch 84/200\n",
      " - 0s - loss: 0.0016 - val_loss: 0.0017\n",
      "Epoch 85/200\n",
      " - 0s - loss: 0.0016 - val_loss: 0.0017\n",
      "Epoch 86/200\n",
      " - 0s - loss: 0.0016 - val_loss: 0.0017\n",
      "Epoch 87/200\n",
      " - 0s - loss: 0.0016 - val_loss: 0.0017\n",
      "Epoch 88/200\n",
      " - 0s - loss: 0.0016 - val_loss: 0.0017\n",
      "Epoch 89/200\n",
      " - 0s - loss: 0.0016 - val_loss: 0.0017\n",
      "Epoch 90/200\n",
      " - 0s - loss: 0.0016 - val_loss: 0.0017\n",
      "Epoch 91/200\n",
      " - 0s - loss: 0.0015 - val_loss: 0.0017\n",
      "Epoch 92/200\n",
      " - 0s - loss: 0.0015 - val_loss: 0.0017\n",
      "Epoch 93/200\n",
      " - 0s - loss: 0.0015 - val_loss: 0.0017\n",
      "Epoch 94/200\n",
      " - 0s - loss: 0.0015 - val_loss: 0.0017\n",
      "Epoch 95/200\n",
      " - 0s - loss: 0.0015 - val_loss: 0.0017\n",
      "Epoch 96/200\n",
      " - 0s - loss: 0.0015 - val_loss: 0.0017\n",
      "Epoch 97/200\n",
      " - 0s - loss: 0.0015 - val_loss: 0.0017\n",
      "Epoch 98/200\n",
      " - 0s - loss: 0.0015 - val_loss: 0.0017\n",
      "Epoch 99/200\n",
      " - 0s - loss: 0.0015 - val_loss: 0.0017\n",
      "Epoch 100/200\n",
      " - 0s - loss: 0.0015 - val_loss: 0.0016\n",
      "Epoch 101/200\n",
      " - 0s - loss: 0.0015 - val_loss: 0.0016\n",
      "Epoch 102/200\n",
      " - 0s - loss: 0.0015 - val_loss: 0.0016\n",
      "Epoch 103/200\n",
      " - 0s - loss: 0.0015 - val_loss: 0.0016\n",
      "Epoch 104/200\n",
      " - 0s - loss: 0.0015 - val_loss: 0.0016\n",
      "Epoch 105/200\n",
      " - 0s - loss: 0.0015 - val_loss: 0.0016\n",
      "Epoch 106/200\n",
      " - 0s - loss: 0.0015 - val_loss: 0.0016\n",
      "Epoch 107/200\n",
      " - 0s - loss: 0.0015 - val_loss: 0.0016\n",
      "Epoch 108/200\n",
      " - 0s - loss: 0.0015 - val_loss: 0.0016\n",
      "Epoch 109/200\n",
      " - 0s - loss: 0.0014 - val_loss: 0.0016\n",
      "Epoch 110/200\n",
      " - 0s - loss: 0.0014 - val_loss: 0.0016\n",
      "Epoch 111/200\n",
      " - 0s - loss: 0.0014 - val_loss: 0.0016\n",
      "Epoch 112/200\n",
      " - 0s - loss: 0.0014 - val_loss: 0.0016\n",
      "Epoch 113/200\n",
      " - 0s - loss: 0.0014 - val_loss: 0.0016\n",
      "Epoch 114/200\n",
      " - 0s - loss: 0.0014 - val_loss: 0.0016\n",
      "Epoch 115/200\n",
      " - 0s - loss: 0.0014 - val_loss: 0.0016\n",
      "Epoch 116/200\n",
      " - 0s - loss: 0.0014 - val_loss: 0.0016\n",
      "Epoch 117/200\n",
      " - 0s - loss: 0.0014 - val_loss: 0.0016\n",
      "Epoch 118/200\n",
      " - 0s - loss: 0.0014 - val_loss: 0.0016\n",
      "Epoch 119/200\n",
      " - 0s - loss: 0.0014 - val_loss: 0.0016\n",
      "Epoch 120/200\n",
      " - 0s - loss: 0.0014 - val_loss: 0.0016\n",
      "Epoch 121/200\n",
      " - 0s - loss: 0.0014 - val_loss: 0.0016\n",
      "Epoch 122/200\n",
      " - 0s - loss: 0.0014 - val_loss: 0.0016\n",
      "Epoch 123/200\n",
      " - 0s - loss: 0.0014 - val_loss: 0.0016\n",
      "Epoch 124/200\n",
      " - 0s - loss: 0.0014 - val_loss: 0.0016\n",
      "Epoch 125/200\n",
      " - 0s - loss: 0.0014 - val_loss: 0.0016\n",
      "Epoch 126/200\n",
      " - 0s - loss: 0.0014 - val_loss: 0.0016\n",
      "Epoch 127/200\n",
      " - 0s - loss: 0.0014 - val_loss: 0.0016\n",
      "Epoch 128/200\n",
      " - 0s - loss: 0.0014 - val_loss: 0.0016\n",
      "Epoch 129/200\n",
      " - 0s - loss: 0.0014 - val_loss: 0.0016\n",
      "Epoch 130/200\n",
      " - 0s - loss: 0.0013 - val_loss: 0.0016\n",
      "Epoch 131/200\n",
      " - 0s - loss: 0.0013 - val_loss: 0.0016\n",
      "Epoch 132/200\n",
      " - 0s - loss: 0.0013 - val_loss: 0.0016\n",
      "Epoch 133/200\n",
      " - 0s - loss: 0.0013 - val_loss: 0.0016\n",
      "Epoch 134/200\n",
      " - 0s - loss: 0.0013 - val_loss: 0.0016\n",
      "Epoch 135/200\n",
      " - 0s - loss: 0.0013 - val_loss: 0.0015\n",
      "Epoch 136/200\n",
      " - 0s - loss: 0.0013 - val_loss: 0.0015\n",
      "Epoch 137/200\n",
      " - 0s - loss: 0.0013 - val_loss: 0.0015\n",
      "Epoch 138/200\n",
      " - 0s - loss: 0.0013 - val_loss: 0.0015\n",
      "Epoch 139/200\n",
      " - 0s - loss: 0.0013 - val_loss: 0.0015\n",
      "Epoch 140/200\n",
      " - 0s - loss: 0.0013 - val_loss: 0.0015\n",
      "Epoch 141/200\n",
      " - 0s - loss: 0.0013 - val_loss: 0.0015\n",
      "Epoch 142/200\n",
      " - 0s - loss: 0.0013 - val_loss: 0.0015\n",
      "Epoch 143/200\n",
      " - 0s - loss: 0.0013 - val_loss: 0.0015\n",
      "Epoch 144/200\n",
      " - 0s - loss: 0.0013 - val_loss: 0.0015\n",
      "Epoch 145/200\n",
      " - 0s - loss: 0.0013 - val_loss: 0.0015\n",
      "Epoch 146/200\n",
      " - 0s - loss: 0.0013 - val_loss: 0.0015\n",
      "Epoch 147/200\n",
      " - 0s - loss: 0.0013 - val_loss: 0.0015\n",
      "Epoch 148/200\n",
      " - 0s - loss: 0.0013 - val_loss: 0.0015\n",
      "Epoch 149/200\n",
      " - 0s - loss: 0.0012 - val_loss: 0.0015\n",
      "Epoch 150/200\n",
      " - 0s - loss: 0.0012 - val_loss: 0.0015\n",
      "Epoch 151/200\n",
      " - 0s - loss: 0.0012 - val_loss: 0.0015\n",
      "Epoch 152/200\n",
      " - 0s - loss: 0.0012 - val_loss: 0.0015\n",
      "Epoch 153/200\n",
      " - 0s - loss: 0.0012 - val_loss: 0.0015\n"
     ]
    },
    {
     "name": "stdout",
     "output_type": "stream",
     "text": [
      "Epoch 154/200\n",
      " - 0s - loss: 0.0012 - val_loss: 0.0015\n",
      "Epoch 155/200\n",
      " - 0s - loss: 0.0012 - val_loss: 0.0015\n",
      "Epoch 156/200\n",
      " - 0s - loss: 0.0012 - val_loss: 0.0015\n",
      "Epoch 157/200\n",
      " - 0s - loss: 0.0012 - val_loss: 0.0015\n",
      "Epoch 158/200\n",
      " - 0s - loss: 0.0012 - val_loss: 0.0015\n",
      "Epoch 159/200\n",
      " - 0s - loss: 0.0012 - val_loss: 0.0015\n",
      "Epoch 160/200\n",
      " - 0s - loss: 0.0012 - val_loss: 0.0015\n",
      "Epoch 161/200\n",
      " - 0s - loss: 0.0012 - val_loss: 0.0015\n",
      "Epoch 162/200\n",
      " - 0s - loss: 0.0012 - val_loss: 0.0015\n",
      "Epoch 163/200\n",
      " - 0s - loss: 0.0012 - val_loss: 0.0015\n",
      "Epoch 164/200\n",
      " - 0s - loss: 0.0012 - val_loss: 0.0015\n",
      "Epoch 165/200\n",
      " - 0s - loss: 0.0012 - val_loss: 0.0015\n",
      "Epoch 166/200\n",
      " - 0s - loss: 0.0012 - val_loss: 0.0015\n",
      "Epoch 167/200\n",
      " - 0s - loss: 0.0011 - val_loss: 0.0015\n",
      "Epoch 168/200\n",
      " - 0s - loss: 0.0011 - val_loss: 0.0014\n",
      "Epoch 169/200\n",
      " - 0s - loss: 0.0011 - val_loss: 0.0014\n",
      "Epoch 170/200\n",
      " - 0s - loss: 0.0011 - val_loss: 0.0014\n",
      "Epoch 171/200\n",
      " - 0s - loss: 0.0011 - val_loss: 0.0014\n",
      "Epoch 172/200\n",
      " - 0s - loss: 0.0011 - val_loss: 0.0014\n",
      "Epoch 173/200\n",
      " - 0s - loss: 0.0011 - val_loss: 0.0014\n",
      "Epoch 174/200\n",
      " - 0s - loss: 0.0011 - val_loss: 0.0014\n",
      "Epoch 175/200\n",
      " - 0s - loss: 0.0011 - val_loss: 0.0014\n",
      "Epoch 176/200\n",
      " - 0s - loss: 0.0011 - val_loss: 0.0014\n",
      "Epoch 177/200\n",
      " - 0s - loss: 0.0011 - val_loss: 0.0014\n",
      "Epoch 178/200\n",
      " - 0s - loss: 0.0011 - val_loss: 0.0014\n",
      "Epoch 179/200\n",
      " - 0s - loss: 0.0011 - val_loss: 0.0014\n",
      "Epoch 180/200\n",
      " - 0s - loss: 0.0011 - val_loss: 0.0014\n",
      "Epoch 181/200\n",
      " - 0s - loss: 0.0011 - val_loss: 0.0014\n",
      "Epoch 182/200\n",
      " - 0s - loss: 0.0011 - val_loss: 0.0014\n",
      "Epoch 183/200\n",
      " - 0s - loss: 0.0011 - val_loss: 0.0014\n",
      "Epoch 184/200\n",
      " - 0s - loss: 0.0011 - val_loss: 0.0014\n",
      "Epoch 185/200\n",
      " - 0s - loss: 0.0011 - val_loss: 0.0014\n",
      "Epoch 186/200\n",
      " - 0s - loss: 0.0011 - val_loss: 0.0014\n",
      "Epoch 187/200\n",
      " - 0s - loss: 0.0011 - val_loss: 0.0014\n",
      "Epoch 188/200\n",
      " - 0s - loss: 0.0011 - val_loss: 0.0014\n",
      "Epoch 189/200\n",
      " - 0s - loss: 0.0011 - val_loss: 0.0014\n",
      "Epoch 190/200\n",
      " - 0s - loss: 0.0011 - val_loss: 0.0014\n",
      "Epoch 191/200\n",
      " - 0s - loss: 0.0011 - val_loss: 0.0014\n",
      "Epoch 192/200\n",
      " - 0s - loss: 0.0011 - val_loss: 0.0014\n",
      "Epoch 193/200\n",
      " - 0s - loss: 0.0011 - val_loss: 0.0014\n",
      "Epoch 194/200\n",
      " - 0s - loss: 0.0011 - val_loss: 0.0014\n",
      "Epoch 195/200\n",
      " - 0s - loss: 0.0011 - val_loss: 0.0014\n",
      "Epoch 196/200\n",
      " - 0s - loss: 0.0011 - val_loss: 0.0014\n",
      "Epoch 197/200\n",
      " - 0s - loss: 0.0011 - val_loss: 0.0014\n",
      "Epoch 198/200\n",
      " - 0s - loss: 0.0011 - val_loss: 0.0014\n",
      "Epoch 199/200\n",
      " - 0s - loss: 0.0011 - val_loss: 0.0014\n",
      "Epoch 200/200\n",
      " - 0s - loss: 0.0011 - val_loss: 0.0014\n"
     ]
    }
   ],
   "source": [
    "# design LSTM network\n",
    "\n",
    "np.random.seed(3)\n",
    "model = Sequential()\n",
    "model.add(LSTM(NUM_NEURONS_FirstLayer, return_sequences = True, input_shape=(train_X.shape[1], train_X.shape[2])))\n",
    "model.add(LSTM(NUM_NEURONS_SecondLayer, input_shape=(NUM_NEURONS_FirstLayer,train_X.shape[2]),return_sequences=False))\n",
    "model.add(Dense(1))\n",
    "model.compile(loss='mse', optimizer='adam')\n",
    "\n",
    " # fit network\n",
    "history = model.fit(train_X, train_y, epochs=EPOCHS, batch_size=25, validation_data=(test_X, test_y), shuffle=False, verbose=2)\n",
    "\n"
   ]
  },
  {
   "cell_type": "code",
   "execution_count": 29,
   "metadata": {},
   "outputs": [
    {
     "data": {
      "image/png": "[encoded data removed]",
      "text/plain": [
       "<Figure size 1080x720 with 1 Axes>"
      ]
     },
     "metadata": {
      "needs_background": "light"
     },
     "output_type": "display_data"
    }
   ],
   "source": [
    "plt.figure(figsize = (15,10))\n",
    "\n",
    "plt.plot(history.history['loss'], label='loss')\n",
    "plt.plot(history.history['val_loss'], label='val_loss')\n",
    "plt.legend(loc='best')\n",
    "plt.show()"
   ]
  },
  {
   "cell_type": "code",
   "execution_count": 30,
   "metadata": {
    "scrolled": false
   },
   "outputs": [],
   "source": [
    "# make a prediction\n",
    "inv_yhat = model.predict(test_X)\n",
    "# inverse reshape of test_X array\n",
    "test_X = test_X.reshape((test_X.shape[0], sequence))\n",
    "\n",
    "# invert scaling for forecast\n",
    "inv_yhat = np.concatenate((test_X[:, :], inv_yhat), axis=1)\n",
    "inv_yhat = mm.inverse_transform(inv_yhat)\n",
    "inv_yhat = inv_yhat[:,-1]\n",
    "\n",
    "# invert scaling for actual\n",
    "test_y = test_y.reshape((len(test_y), 1))\n",
    "inv_y = np.concatenate((test_X[:, :], test_y), axis=1)\n",
    "inv_y = mm.inverse_transform(inv_y)\n",
    "inv_y = inv_y[:,-1]\n",
    "\n"
   ]
  },
  {
   "cell_type": "code",
   "execution_count": 31,
   "metadata": {},
   "outputs": [
    {
     "name": "stdout",
     "output_type": "stream",
     "text": [
      "Test RMSE: 1.447\n"
     ]
    }
   ],
   "source": [
    "# calculate RMSE\n",
    "rmse = math.sqrt(mean_squared_error(inv_y, inv_yhat))\n",
    "print('Test RMSE: %.3f' % rmse)"
   ]
  },
  {
   "cell_type": "code",
   "execution_count": 32,
   "metadata": {},
   "outputs": [
    {
     "data": {
      "image/png": "[encoded data removed]",
      "text/plain": [
       "<Figure size 1080x576 with 1 Axes>"
      ]
     },
     "metadata": {
      "needs_background": "light"
     },
     "output_type": "display_data"
    }
   ],
   "source": [
    "# Plot actual v. predicted\n",
    "plt.figure(figsize=(15, 8))\n",
    "plt.plot(inv_y, label='EFA Actual')\n",
    "plt.plot(inv_yhat, label='EFA predicted')\n",
    "plt.legend()\n",
    "plt.show()"
   ]
  },
  {
   "cell_type": "code",
   "execution_count": 33,
   "metadata": {},
   "outputs": [
    {
     "name": "stdout",
     "output_type": "stream",
     "text": [
      "Stored 'LSTM_multi_pred_EFA' (DataFrame)\n"
     ]
    }
   ],
   "source": [
    "LSTM_multi_pred_EFA = pd.DataFrame(inv_yhat)\n",
    "%store LSTM_multi_pred_EFA"
   ]
  }
 ],
 "metadata": {
  "kernelspec": {
   "display_name": "Python 3",
   "language": "python",
   "name": "python3"
  },
  "language_info": {
   "codemirror_mode": {
    "name": "ipython",
    "version": 3
   },
   "file_extension": ".py",
   "mimetype": "text/x-python",
   "name": "python",
   "nbconvert_exporter": "python",
   "pygments_lexer": "ipython3",
   "version": "3.7.3"
  }
 },
 "nbformat": 4,
 "nbformat_minor": 2
}
